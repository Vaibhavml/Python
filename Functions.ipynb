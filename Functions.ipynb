{
  "nbformat": 4,
  "nbformat_minor": 0,
  "metadata": {
    "colab": {
      "provenance": [],
      "authorship_tag": "ABX9TyObXF+jIfbGThK0r6txswA/",
      "include_colab_link": true
    },
    "kernelspec": {
      "name": "python3",
      "display_name": "Python 3"
    },
    "language_info": {
      "name": "python"
    }
  },
  "cells": [
    {
      "cell_type": "markdown",
      "metadata": {
        "id": "view-in-github",
        "colab_type": "text"
      },
      "source": [
        "<a href=\"https://colab.research.google.com/github/Vaibhavml/Python/blob/main/Functions.ipynb\" target=\"_parent\"><img src=\"https://colab.research.google.com/assets/colab-badge.svg\" alt=\"Open In Colab\"/></a>"
      ]
    },
    {
      "cell_type": "code",
      "execution_count": 7,
      "metadata": {
        "colab": {
          "base_uri": "https://localhost:8080/"
        },
        "id": "mgk1j6K3lmWy",
        "outputId": "0323f8b0-b357-4074-a525-b10e99cd2c19"
      },
      "outputs": [
        {
          "output_type": "stream",
          "name": "stdout",
          "text": [
            "Hello\n",
            "Outside the function\n"
          ]
        }
      ],
      "source": [
        "# Preparing the Base\n",
        "def function_name():\n",
        "  print(\"Hello\")\n",
        "function_name()\n",
        "print(\"Outside the function\")"
      ]
    },
    {
      "cell_type": "code",
      "source": [
        "function_name()"
      ],
      "metadata": {
        "colab": {
          "base_uri": "https://localhost:8080/"
        },
        "id": "8-fIUwomltbi",
        "outputId": "692c501c-0c16-457b-b982-4cbfa9ed74f7"
      },
      "execution_count": 6,
      "outputs": [
        {
          "output_type": "stream",
          "name": "stdout",
          "text": [
            "Hello\n"
          ]
        }
      ]
    },
    {
      "cell_type": "code",
      "source": [
        "print(function_name())"
      ],
      "metadata": {
        "colab": {
          "base_uri": "https://localhost:8080/"
        },
        "id": "8BtY6qEAl5nQ",
        "outputId": "c2a12515-62e3-48d6-dfc6-349d4550bf22"
      },
      "execution_count": 4,
      "outputs": [
        {
          "output_type": "stream",
          "name": "stdout",
          "text": [
            "Hello\n",
            "None\n"
          ]
        }
      ]
    },
    {
      "cell_type": "code",
      "source": [
        "def addition(num1,num2):\n",
        "  sum = num1+num2\n",
        "  print(\"sum: \", sum)"
      ],
      "metadata": {
        "id": "aUaFQ7Usmq0b"
      },
      "execution_count": 13,
      "outputs": []
    },
    {
      "cell_type": "code",
      "source": [
        "addition(2,4)"
      ],
      "metadata": {
        "colab": {
          "base_uri": "https://localhost:8080/"
        },
        "id": "v-W4j6XKnqAJ",
        "outputId": "515305a4-aa50-4081-81c4-ae96deae2cc5"
      },
      "execution_count": 14,
      "outputs": [
        {
          "output_type": "stream",
          "name": "stdout",
          "text": [
            "sum:  6\n"
          ]
        }
      ]
    },
    {
      "cell_type": "code",
      "source": [
        "def subtract(num1,num2):\n",
        "  subraction  = num1-num2\n",
        "  print(\"Subtraction: \",subraction)"
      ],
      "metadata": {
        "id": "pSDa69Rkns2p"
      },
      "execution_count": 16,
      "outputs": []
    },
    {
      "cell_type": "code",
      "source": [
        "subtract(20,3)"
      ],
      "metadata": {
        "colab": {
          "base_uri": "https://localhost:8080/"
        },
        "id": "5m5bwCg7oWm6",
        "outputId": "0e4e8504-b589-48f8-be73-92cec904611f"
      },
      "execution_count": 17,
      "outputs": [
        {
          "output_type": "stream",
          "name": "stdout",
          "text": [
            "Subtraction:  17\n"
          ]
        }
      ]
    },
    {
      "cell_type": "code",
      "source": [
        "def multiplication(num1,num2,num3):\n",
        "  multi  = (num1-num2)*num3\n",
        "  print(\"multi: \", multi)"
      ],
      "metadata": {
        "id": "0Ca58j0yodGR"
      },
      "execution_count": 18,
      "outputs": []
    },
    {
      "cell_type": "code",
      "source": [
        "multiplication(10,5,4)"
      ],
      "metadata": {
        "colab": {
          "base_uri": "https://localhost:8080/"
        },
        "id": "chQrfrSGo1Hx",
        "outputId": "eada5a35-6a50-4fb2-b735-dea892351886"
      },
      "execution_count": 20,
      "outputs": [
        {
          "output_type": "stream",
          "name": "stdout",
          "text": [
            "multi:  20\n"
          ]
        }
      ]
    },
    {
      "cell_type": "code",
      "source": [
        "def divide(num1,num2):\n",
        "  dev = num1%num2\n",
        "  print(\"division :\", dev)\n"
      ],
      "metadata": {
        "id": "d1IDiNrfo4VI"
      },
      "execution_count": 21,
      "outputs": []
    },
    {
      "cell_type": "code",
      "source": [
        "divide(100,20)"
      ],
      "metadata": {
        "colab": {
          "base_uri": "https://localhost:8080/"
        },
        "id": "YoOJtME3pV24",
        "outputId": "eb655e95-a9e8-463f-9a00-0e00d7df0ffc"
      },
      "execution_count": 22,
      "outputs": [
        {
          "output_type": "stream",
          "name": "stdout",
          "text": [
            "division : 0\n"
          ]
        }
      ]
    },
    {
      "cell_type": "code",
      "source": [
        "# Make a calculator function\n",
        "def addition(num1,num2):\n",
        "  addition = num1+num2\n",
        "  print('addition: ',addition)\n",
        "\n",
        "def subtraction(num1,num2):\n",
        "  sub = num1-num2\n",
        "  print(\"sub: \", sub)\n",
        "\n",
        "def multiplication(num1,num2):\n",
        "  multi = num1*num2\n",
        "  print(\"multi: \", multi)\n",
        "\n",
        "def division(num1,num2):\n",
        "  div = num1/num2\n",
        "  print(\"division: \", div)"
      ],
      "metadata": {
        "id": "LnfOeqOmpa_Z"
      },
      "execution_count": 26,
      "outputs": []
    },
    {
      "cell_type": "code",
      "source": [
        "addition(2,10)"
      ],
      "metadata": {
        "colab": {
          "base_uri": "https://localhost:8080/"
        },
        "id": "pGXSCwjGp7ri",
        "outputId": "05d4f1fb-f33b-466d-c925-4c32456aa605"
      },
      "execution_count": 27,
      "outputs": [
        {
          "output_type": "stream",
          "name": "stdout",
          "text": [
            "addition:  12\n"
          ]
        }
      ]
    },
    {
      "cell_type": "code",
      "source": [
        "subtraction(100,200)"
      ],
      "metadata": {
        "colab": {
          "base_uri": "https://localhost:8080/"
        },
        "id": "db-kkc0NqA6I",
        "outputId": "2040f53e-ae88-4f3b-cc79-9439becd1332"
      },
      "execution_count": 29,
      "outputs": [
        {
          "output_type": "stream",
          "name": "stdout",
          "text": [
            "sub:  -100\n"
          ]
        }
      ]
    },
    {
      "cell_type": "code",
      "source": [
        "multiplication(100,10)"
      ],
      "metadata": {
        "colab": {
          "base_uri": "https://localhost:8080/"
        },
        "id": "ajYJ-2K8q3PB",
        "outputId": "79edeb3c-1e37-40b2-8290-0c03e7dcd598"
      },
      "execution_count": 30,
      "outputs": [
        {
          "output_type": "stream",
          "name": "stdout",
          "text": [
            "multi:  1000\n"
          ]
        }
      ]
    },
    {
      "cell_type": "code",
      "source": [
        "division(100,200)"
      ],
      "metadata": {
        "colab": {
          "base_uri": "https://localhost:8080/"
        },
        "id": "quwb8DQ-rAP8",
        "outputId": "782a25ed-2c1c-4389-e6bd-90c56b73035c"
      },
      "execution_count": 31,
      "outputs": [
        {
          "output_type": "stream",
          "name": "stdout",
          "text": [
            "division:  0.5\n"
          ]
        }
      ]
    },
    {
      "cell_type": "code",
      "source": [
        "# Write a function that calculates SI\n",
        "def simple_interest(principle,time,rate):\n",
        "  si = (principle*time*rate)/100\n",
        "\n",
        "  return si\n",
        "variable = simple_interest(10000,2,15)/3\n",
        "print(\"SI: \",variable)"
      ],
      "metadata": {
        "colab": {
          "base_uri": "https://localhost:8080/"
        },
        "id": "ILQNxy9xrFcN",
        "outputId": "8ae12819-6a25-45e9-d945-c3fd4729e61a"
      },
      "execution_count": 37,
      "outputs": [
        {
          "output_type": "stream",
          "name": "stdout",
          "text": [
            "SI:  1000.0\n"
          ]
        }
      ]
    },
    {
      "cell_type": "code",
      "source": [
        "simple_interest(10000,2,10)"
      ],
      "metadata": {
        "colab": {
          "base_uri": "https://localhost:8080/"
        },
        "id": "dFfL6kc1tmZ6",
        "outputId": "4650c667-e82b-4a35-abd2-b1bc9228750f"
      },
      "execution_count": 33,
      "outputs": [
        {
          "output_type": "stream",
          "name": "stdout",
          "text": [
            "Simple interest:  2000.0\n"
          ]
        },
        {
          "output_type": "execute_result",
          "data": {
            "text/plain": [
              "2000.0"
            ]
          },
          "metadata": {},
          "execution_count": 33
        }
      ]
    },
    {
      "cell_type": "code",
      "source": [
        "import math\n",
        "power =  pow(5,5)\n",
        "print(\"The power is:\", power)"
      ],
      "metadata": {
        "colab": {
          "base_uri": "https://localhost:8080/"
        },
        "id": "IUejKI6htrhj",
        "outputId": "3d8a51e1-cef9-41f1-9706-d76b769f04e8"
      },
      "execution_count": 4,
      "outputs": [
        {
          "output_type": "stream",
          "name": "stdout",
          "text": [
            "The power is: 3125\n"
          ]
        }
      ]
    },
    {
      "cell_type": "code",
      "source": [
        "5*5*5*5*5"
      ],
      "metadata": {
        "colab": {
          "base_uri": "https://localhost:8080/"
        },
        "id": "kRxP5DoJu_-y",
        "outputId": "80e78838-60b4-4880-ba54-abd2b6fd1dcf"
      },
      "execution_count": 41,
      "outputs": [
        {
          "output_type": "execute_result",
          "data": {
            "text/plain": [
              "3125"
            ]
          },
          "metadata": {},
          "execution_count": 41
        }
      ]
    },
    {
      "cell_type": "code",
      "source": [
        "# Make your own function that will calculate the square root of numbers\n",
        "def square_root(num):\n",
        "  sq_root = num*num\n",
        "  return sq_root\n",
        "for i in range(10):\n",
        "\n",
        "  result = square_root(i)\n",
        "  print(\"The square root of \",i,\"=\", result)"
      ],
      "metadata": {
        "colab": {
          "base_uri": "https://localhost:8080/"
        },
        "id": "VCXerS9OwSdh",
        "outputId": "b2406a45-af06-4cf1-f39d-7f5b73905613"
      },
      "execution_count": 2,
      "outputs": [
        {
          "output_type": "stream",
          "name": "stdout",
          "text": [
            "The square root of  0 = 0\n",
            "The square root of  1 = 1\n",
            "The square root of  2 = 4\n",
            "The square root of  3 = 9\n",
            "The square root of  4 = 16\n",
            "The square root of  5 = 25\n",
            "The square root of  6 = 36\n",
            "The square root of  7 = 49\n",
            "The square root of  8 = 64\n",
            "The square root of  9 = 81\n"
          ]
        }
      ]
    },
    {
      "cell_type": "code",
      "source": [
        "def square_root(num):\n",
        "  square = num*num\n",
        "  return square\n",
        "\n",
        "for i in range(20):\n",
        "  result = square_root(i)\n",
        "  print(\"The square root of: \",i,\"=\",result)"
      ],
      "metadata": {
        "colab": {
          "base_uri": "https://localhost:8080/"
        },
        "id": "p9JcazIkxPKz",
        "outputId": "cc9896b7-dc20-4a45-bf98-af2f4508e35e"
      },
      "execution_count": 8,
      "outputs": [
        {
          "output_type": "stream",
          "name": "stdout",
          "text": [
            "The square root of:  0 = 0\n",
            "The square root of:  1 = 1\n",
            "The square root of:  2 = 4\n",
            "The square root of:  3 = 9\n",
            "The square root of:  4 = 16\n",
            "The square root of:  5 = 25\n",
            "The square root of:  6 = 36\n",
            "The square root of:  7 = 49\n",
            "The square root of:  8 = 64\n",
            "The square root of:  9 = 81\n",
            "The square root of:  10 = 100\n",
            "The square root of:  11 = 121\n",
            "The square root of:  12 = 144\n",
            "The square root of:  13 = 169\n",
            "The square root of:  14 = 196\n",
            "The square root of:  15 = 225\n",
            "The square root of:  16 = 256\n",
            "The square root of:  17 = 289\n",
            "The square root of:  18 = 324\n",
            "The square root of:  19 = 361\n"
          ]
        }
      ]
    },
    {
      "cell_type": "code",
      "source": [
        "# Write a function that will calculate the sum of multiple numbers\n",
        "# Passing diferent arguments\n",
        "def find_sum(*numbers):\n",
        "  result = 0\n",
        "\n",
        "  for i in numbers:\n",
        "    result = result+ i\n",
        "  print(\"Sum: \", result)\n"
      ],
      "metadata": {
        "id": "n5LL9Ts2xuHz"
      },
      "execution_count": 11,
      "outputs": []
    },
    {
      "cell_type": "code",
      "source": [
        "find_sum(10,12)"
      ],
      "metadata": {
        "colab": {
          "base_uri": "https://localhost:8080/"
        },
        "id": "JepIaVlMUmPF",
        "outputId": "7ad1a96c-9bb9-4056-b055-6b3202722918"
      },
      "execution_count": 12,
      "outputs": [
        {
          "output_type": "stream",
          "name": "stdout",
          "text": [
            "Sum:  22\n"
          ]
        }
      ]
    },
    {
      "cell_type": "code",
      "source": [
        "find_sum(10,20,40)"
      ],
      "metadata": {
        "colab": {
          "base_uri": "https://localhost:8080/"
        },
        "id": "CAGDXzG7Uqqc",
        "outputId": "31fb7267-1992-46ff-90d2-01adfb74b47b"
      },
      "execution_count": 13,
      "outputs": [
        {
          "output_type": "stream",
          "name": "stdout",
          "text": [
            "Sum:  70\n"
          ]
        }
      ]
    },
    {
      "cell_type": "code",
      "source": [
        "# Write a function to calculate the factorial of a num\n",
        "def factorial(num):\n",
        "  result = 1\n",
        "\n",
        "  for i in range(1,num+1):\n",
        "    result = result*i\n",
        "\n",
        "  print(\"factorial of \",i,\"=\",result)"
      ],
      "metadata": {
        "id": "ATWZGqn7VAf4"
      },
      "execution_count": 17,
      "outputs": []
    },
    {
      "cell_type": "code",
      "source": [
        "factorial(5)"
      ],
      "metadata": {
        "colab": {
          "base_uri": "https://localhost:8080/"
        },
        "id": "O-ZPD08FXMo9",
        "outputId": "99e7e712-1f78-4e4d-b9e5-b50712f7f3a2"
      },
      "execution_count": 19,
      "outputs": [
        {
          "output_type": "stream",
          "name": "stdout",
          "text": [
            "factorial of  5 = 120\n"
          ]
        }
      ]
    },
    {
      "cell_type": "code",
      "source": [
        "# Example of recursive function\n",
        "def factorial(x):\n",
        "    \"\"\"This is a recursive function\n",
        "    to find the factorial of an integer\"\"\"\n",
        "\n",
        "    if x == 1:\n",
        "        return 1\n",
        "    else:\n",
        "        return (x * factorial(x-1))\n",
        "\n",
        "\n",
        "num = 4\n",
        "print(\"The factorial of\", num, \"is\", factorial(num))"
      ],
      "metadata": {
        "colab": {
          "base_uri": "https://localhost:8080/"
        },
        "id": "vJxAkJbpXPgl",
        "outputId": "c8d4bcd9-9bc6-407f-cf69-3925fc973a98"
      },
      "execution_count": 21,
      "outputs": [
        {
          "output_type": "stream",
          "name": "stdout",
          "text": [
            "The factorial of 4 is 24\n"
          ]
        }
      ]
    },
    {
      "cell_type": "markdown",
      "source": [
        "# Lambda Function"
      ],
      "metadata": {
        "id": "pWSX6giIq2V2"
      }
    },
    {
      "cell_type": "code",
      "source": [
        "greet = lambda : print(\"Hey there: \")"
      ],
      "metadata": {
        "id": "3C4t9H7ulKWk"
      },
      "execution_count": 22,
      "outputs": []
    },
    {
      "cell_type": "code",
      "source": [
        "greet()"
      ],
      "metadata": {
        "colab": {
          "base_uri": "https://localhost:8080/"
        },
        "id": "VoPjuBh_r_q5",
        "outputId": "07644f56-ab34-4cd8-d8b8-63405aa54f6d"
      },
      "execution_count": 23,
      "outputs": [
        {
          "output_type": "stream",
          "name": "stdout",
          "text": [
            "Hey there: \n"
          ]
        }
      ]
    },
    {
      "cell_type": "code",
      "source": [
        "# Lambda function with argument\n",
        "greet = lambda name: print(\"Hey there\", name)"
      ],
      "metadata": {
        "id": "257hBq60sA_0"
      },
      "execution_count": 24,
      "outputs": []
    },
    {
      "cell_type": "code",
      "source": [
        "greet(\"Vaibhav\")"
      ],
      "metadata": {
        "colab": {
          "base_uri": "https://localhost:8080/"
        },
        "id": "gdMBLRJWsPbM",
        "outputId": "d3e1844b-6626-445b-a614-d57fee4dfed7"
      },
      "execution_count": 27,
      "outputs": [
        {
          "output_type": "stream",
          "name": "stdout",
          "text": [
            "Hey there Vaibhav\n"
          ]
        }
      ]
    },
    {
      "cell_type": "markdown",
      "source": [
        "# Python Variable scope:\n",
        "\n",
        "1.   Local Variable\n",
        "2.   Global Variable\n",
        "3.   Nonlocal Variable\n",
        "\n",
        "\n",
        "\n",
        "\n"
      ],
      "metadata": {
        "id": "ax3XT3f9yKPc"
      }
    },
    {
      "cell_type": "code",
      "source": [
        "# Local variable\n",
        "def greet():\n",
        "  message = \"Hello\"\n",
        "  print(\"local\", message)\n",
        "greet()\n",
        "# Here we are only able to access message through greet() function.\n",
        "# So, it is local variable"
      ],
      "metadata": {
        "colab": {
          "base_uri": "https://localhost:8080/"
        },
        "id": "76infMJ7sQVi",
        "outputId": "1be11dc7-262c-4252-8bbe-0ea757151fcf"
      },
      "execution_count": 31,
      "outputs": [
        {
          "output_type": "stream",
          "name": "stdout",
          "text": [
            "local Hello\n"
          ]
        }
      ]
    },
    {
      "cell_type": "code",
      "source": [
        "print(\"Hi\")"
      ],
      "metadata": {
        "colab": {
          "base_uri": "https://localhost:8080/"
        },
        "id": "H3E76VNzy00F",
        "outputId": "b89e9345-857e-46e0-a816-16f6c71348c3"
      },
      "execution_count": 32,
      "outputs": [
        {
          "output_type": "stream",
          "name": "stdout",
          "text": [
            "Hi\n"
          ]
        }
      ]
    },
    {
      "cell_type": "code",
      "source": [
        "# Global variable\n",
        "university = \"AKTU\"\n",
        "def univer():\n",
        "  print(\"University name is: \", university)\n",
        "univer()\n",
        "\n",
        "print(university)"
      ],
      "metadata": {
        "colab": {
          "base_uri": "https://localhost:8080/"
        },
        "id": "7mv69fzs-cJt",
        "outputId": "7879a669-cec5-4845-959d-30559e12a3c1"
      },
      "execution_count": 33,
      "outputs": [
        {
          "output_type": "stream",
          "name": "stdout",
          "text": [
            "University name is:  AKTU\n",
            "AKTU\n"
          ]
        }
      ]
    },
    {
      "cell_type": "markdown",
      "source": [
        "# Some info anout __init__.py file:\n",
        "\n",
        "*   A directory must contain __init__.py file, in order for python to consider\n",
        "    it as a package.\n",
        "*   This can be left empty but we generally placethe initialization code for\n",
        "    that package in this file.\n",
        "\n"
      ],
      "metadata": {
        "id": "95cUh7jtPjA9"
      }
    },
    {
      "cell_type": "code",
      "source": [],
      "metadata": {
        "id": "AHcULDodBi9P"
      },
      "execution_count": null,
      "outputs": []
    }
  ]
}