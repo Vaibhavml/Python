{
  "nbformat": 4,
  "nbformat_minor": 0,
  "metadata": {
    "colab": {
      "provenance": []
    },
    "kernelspec": {
      "name": "python3",
      "display_name": "Python 3"
    },
    "language_info": {
      "name": "python"
    }
  },
  "cells": [
    {
      "cell_type": "code",
      "execution_count": 1,
      "metadata": {
        "colab": {
          "base_uri": "https://localhost:8080/"
        },
        "id": "DWMrh6tJmhJ8",
        "outputId": "a707b38d-69cd-4919-cb79-a448b8f83d8b"
      },
      "outputs": [
        {
          "output_type": "stream",
          "name": "stdout",
          "text": [
            "15\n"
          ]
        }
      ],
      "source": [
        "# Q: Write a Python Program to find sum of array?\n",
        "\n",
        "def array_sum(arr):\n",
        "    sum_of_elements = 0\n",
        "    for element in arr:\n",
        "        sum_of_elements += element\n",
        "    return sum_of_elements\n",
        "\n",
        "array = [1, 2, 3, 4, 5]\n",
        "print(array_sum(array))\n"
      ]
    },
    {
      "cell_type": "code",
      "source": [
        "# Q: Write a Python Program to find largest element in an array?\n",
        "def find_largest_element(arr):\n",
        "    largest = arr[0]\n",
        "    for element in arr:\n",
        "        if element > largest:\n",
        "            largest = element\n",
        "    return largest\n",
        "\n",
        "# Example usage:\n",
        "array = [10, 20, 4, 45, 99]\n",
        "print(\"Array:\", array)\n",
        "print(\"Largest element:\", find_largest_element(array))\n"
      ],
      "metadata": {
        "colab": {
          "base_uri": "https://localhost:8080/"
        },
        "id": "I8-ILBA3nDDA",
        "outputId": "32389cbb-21d7-4ce6-8e94-ddf3c3bc71af"
      },
      "execution_count": 2,
      "outputs": [
        {
          "output_type": "stream",
          "name": "stdout",
          "text": [
            "Array: [10, 20, 4, 45, 99]\n",
            "Largest element: 99\n"
          ]
        }
      ]
    },
    {
      "cell_type": "code",
      "source": [
        "# Q:Write a Python Program to Split the array and add the first part to the end?\n",
        "def split_and_add(arr, position):\n",
        "    return arr[position:] + arr[:position]\n",
        "\n",
        "array = [1, 2, 3, 4, 5]\n",
        "position = 2\n",
        "print(\"Original Array:\", array)\n",
        "print(\"Position to split:\", position)\n",
        "print(\"Array after splitting and adding the first part to the end:\", split_and_add(array, position))\n"
      ],
      "metadata": {
        "colab": {
          "base_uri": "https://localhost:8080/"
        },
        "id": "S1vcOAcLnC_u",
        "outputId": "2fcf12a6-d3cf-4a08-99db-ac3583714677"
      },
      "execution_count": 5,
      "outputs": [
        {
          "output_type": "stream",
          "name": "stdout",
          "text": [
            "Original Array: [1, 2, 3, 4, 5]\n",
            "Position to split: 2\n",
            "Array after splitting and adding the first part to the end: [3, 4, 5, 1, 2]\n"
          ]
        }
      ]
    },
    {
      "cell_type": "code",
      "source": [
        "# Q: Write a Python Program to check if given array is Monotonic?\n",
        "def is_monotonic(arr):\n",
        "\n",
        "    increasing = decreasing = True\n",
        "\n",
        "    for i in range(1, len(arr)):\n",
        "        if arr[i] > arr[i - 1]:\n",
        "            decreasing = False\n",
        "        elif arr[i] < arr[i - 1]:\n",
        "            increasing = False\n",
        "\n",
        "    return increasing or decreasing\n",
        "\n",
        "\n",
        "array1 = [6, 5, 4, 3, 2]\n",
        "array2 = [1, 2, 3, 3, 4, 5]\n",
        "array3 = [1, 1, 1, 1, 1]\n",
        "\n",
        "print(\"Array 1:\", array1)\n",
        "print(\"Is array 1 monotonic?\", is_monotonic(array1))\n",
        "\n",
        "print(\"Array 2:\", array2)\n",
        "print(\"Is array 2 monotonic?\", is_monotonic(array2))\n",
        "\n",
        "print(\"Array 3:\", array3)\n",
        "print(\"Is array 3 monotonic?\", is_monotonic(array3))\n"
      ],
      "metadata": {
        "colab": {
          "base_uri": "https://localhost:8080/"
        },
        "id": "sCT6HDBGnC0O",
        "outputId": "089049b2-fc94-42e7-ea94-f4ac11f5525f"
      },
      "execution_count": 12,
      "outputs": [
        {
          "output_type": "stream",
          "name": "stdout",
          "text": [
            "Array 1: [6, 5, 4, 3, 2]\n",
            "Is array 1 monotonic? True\n",
            "Array 2: [1, 2, 3, 3, 4, 5]\n",
            "Is array 2 monotonic? True\n",
            "Array 3: [1, 1, 1, 1, 1]\n",
            "Is array 3 monotonic? True\n"
          ]
        }
      ]
    },
    {
      "cell_type": "code",
      "source": [],
      "metadata": {
        "id": "lFnzADSNnCxK"
      },
      "execution_count": null,
      "outputs": []
    },
    {
      "cell_type": "code",
      "source": [],
      "metadata": {
        "id": "Jmks2PbsnCuK"
      },
      "execution_count": null,
      "outputs": []
    },
    {
      "cell_type": "code",
      "source": [],
      "metadata": {
        "id": "Pmi0Ce7TnCrY"
      },
      "execution_count": null,
      "outputs": []
    },
    {
      "cell_type": "code",
      "source": [],
      "metadata": {
        "id": "jyqy0WcWnCoq"
      },
      "execution_count": null,
      "outputs": []
    }
  ]
}