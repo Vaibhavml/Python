{
  "nbformat": 4,
  "nbformat_minor": 0,
  "metadata": {
    "colab": {
      "provenance": []
    },
    "kernelspec": {
      "name": "python3",
      "display_name": "Python 3"
    },
    "language_info": {
      "name": "python"
    }
  },
  "cells": [
    {
      "cell_type": "code",
      "source": [
        "# Q. \tWrite a Python Program to Find LCM?\n",
        "def gcd(a, b):\n",
        "    while b:\n",
        "        a, b = b, a % b\n",
        "    return a\n",
        "\n",
        "def lcm(a, b):\n",
        "    return (a * b) // gcd(a, b)\n",
        "\n",
        "num1 = int(input(\"Enter first number: \"))\n",
        "num2 = int(input(\"Enter second number: \"))\n",
        "\n",
        "lcm_result = lcm(num1, num2)\n",
        "print(f\"The LCM of {num1} and {num2} is {lcm_result}.\")\n"
      ],
      "metadata": {
        "colab": {
          "base_uri": "https://localhost:8080/"
        },
        "id": "fcZSGiWhA2B1",
        "outputId": "b700fa12-8687-4dcd-a098-3c6af66f2c47"
      },
      "execution_count": null,
      "outputs": [
        {
          "output_type": "stream",
          "name": "stdout",
          "text": [
            "Enter first number: 15\n",
            "Enter second number: 78\n",
            "The LCM of 15 and 78 is 390.\n"
          ]
        }
      ]
    },
    {
      "cell_type": "code",
      "source": [
        "# Q .Write a Python Program to Find HCF?\n",
        "def hcf(a, b):\n",
        "    while b:\n",
        "        a, b = b, a % b\n",
        "    return a\n",
        "\n",
        "num1 = int(input(\"Enter first number: \"))\n",
        "num2 = int(input(\"Enter second number: \"))\n",
        "\n",
        "hcf_result = hcf(num1, num2)\n",
        "print(f\"The HCF of {num1} and {num2} is {hcf_result}.\")\n"
      ],
      "metadata": {
        "colab": {
          "base_uri": "https://localhost:8080/"
        },
        "id": "qFo7OS1MBSRG",
        "outputId": "a4a12a69-b98f-46c6-e9d3-57dafc666844"
      },
      "execution_count": null,
      "outputs": [
        {
          "output_type": "stream",
          "name": "stdout",
          "text": [
            "Enter first number: 12\n",
            "Enter second number: 14\n",
            "The HCF of 12 and 14 is 2.\n"
          ]
        }
      ]
    },
    {
      "cell_type": "code",
      "source": [
        "# Q .\tWrite a Python Program to Convert Decimal to Binary, Octal and Hexadecimal?\n",
        "dec_num = int(input(\"Enter a decimal number: \"))\n",
        "\n",
        "binary_num = bin(dec_num)[2:]\n",
        "octal_num = oct(dec_num)[2:]\n",
        "hexadecimal_num = hex(dec_num)[2:]\n",
        "\n",
        "print(f\"Binary: {binary_num}\")\n",
        "print(f\"Octal: {octal_num}\")\n",
        "print(f\"Hexadecimal: {hexadecimal_num}\")\n",
        "\n"
      ],
      "metadata": {
        "colab": {
          "base_uri": "https://localhost:8080/"
        },
        "id": "swbrHTzEBtKo",
        "outputId": "31e3a238-3d40-41d6-859f-1282c96c7e92"
      },
      "execution_count": null,
      "outputs": [
        {
          "output_type": "stream",
          "name": "stdout",
          "text": [
            "Enter a decimal number: 14\n",
            "Binary: 1110\n",
            "Octal: 16\n",
            "Hexadecimal: e\n"
          ]
        }
      ]
    },
    {
      "cell_type": "code",
      "source": [
        "# Q .\tWrite a Python Program To Find ASCII value of a character?\n",
        "char = input(\"Enter a character: \")\n",
        "\n",
        "ascii_value = ord(char)\n",
        "\n",
        "print(f\"The ASCII value of '{char}' is {ascii_value}.\")\n"
      ],
      "metadata": {
        "id": "Z-08t3uHB4nB"
      },
      "execution_count": null,
      "outputs": []
    },
    {
      "cell_type": "code",
      "source": [
        "# Q. Write a Python Program to Make a Simple Calculator with 4 basic mathematical operations?\n",
        "def add(num1, num2):\n",
        "    return num1 + num2\n",
        "\n",
        "def subtract(num1, num2):\n",
        "    return num1 - num2\n",
        "\n",
        "def multiply(num1, num2):\n",
        "    return num1 * num2\n",
        "def divide(num1, num2):\n",
        "    return num1 / num2\n",
        "\n",
        "num1 = float(input(\"Enter first number: \"))\n",
        "num2 = float(input(\"Enter second number: \"))\n",
        "\n",
        "print(\"\\nOperations:\")\n",
        "print(\"1. Addition\")\n",
        "print(\"2. Subtraction\")\n",
        "print(\"3. Multiplication\")\n",
        "print(\"4. Division\")\n",
        "\n",
        "choice = input(\"\\nEnter the operation number (1/2/3/4): \")\n",
        "\n",
        "if choice == '1':\n",
        "    print(f\"\\n{num1} + {num2} = {add(num1, num2)}\")\n",
        "elif choice == '2':\n",
        "    print(f\"\\n{num1} - {num2} = {subtract(num1, num2)}\")\n",
        "elif choice == '3':\n",
        "    print(f\"\\n{num1} * {num2} = {multiply(num1, num2)}\")\n",
        "elif choice == '4':\n",
        "    if num2 == 0:\n",
        "        print(\"Error! Division by zero.\")\n",
        "    else:\n",
        "        print(f\"\\n{num1} / {num2} = {divide(num1, num2)}\")\n",
        "else:\n",
        "    print(\"Invalid input. Please enter a valid operation number (1/2/3/4).\")\n"
      ],
      "metadata": {
        "colab": {
          "base_uri": "https://localhost:8080/"
        },
        "id": "D94AqIMBCK3_",
        "outputId": "29e5787d-f095-4707-f2e5-a4bc7e6f91e4"
      },
      "execution_count": null,
      "outputs": [
        {
          "output_type": "stream",
          "name": "stdout",
          "text": [
            "Enter first number: 14\n",
            "Enter second number: 12\n",
            "\n",
            "Operations:\n",
            "1. Addition\n",
            "2. Subtraction\n",
            "3. Multiplication\n",
            "4. Division\n",
            "\n",
            "Enter the operation number (1/2/3/4): 1\n",
            "\n",
            "14.0 + 12.0 = 26.0\n"
          ]
        }
      ]
    }
  ]
}