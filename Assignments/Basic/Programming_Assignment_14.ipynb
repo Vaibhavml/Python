{
  "nbformat": 4,
  "nbformat_minor": 0,
  "metadata": {
    "colab": {
      "provenance": []
    },
    "kernelspec": {
      "name": "python3",
      "display_name": "Python 3"
    },
    "language_info": {
      "name": "python"
    }
  },
  "cells": [
    {
      "cell_type": "code",
      "execution_count": 1,
      "metadata": {
        "colab": {
          "base_uri": "https://localhost:8080/"
        },
        "id": "V1RP2e3spySx",
        "outputId": "9738b34d-8fe8-478b-fdc9-d25c17ee9fcb"
      },
      "outputs": [
        {
          "output_type": "stream",
          "name": "stdout",
          "text": [
            "0\n",
            "7\n",
            "14\n",
            "21\n",
            "28\n",
            "35\n",
            "42\n",
            "49\n"
          ]
        }
      ],
      "source": [
        "# Q: Define a class with a generator which can iterate the numbers, which are divisible by\n",
        "# 7, between a given range 0 and n.\n",
        "\n",
        "class DivisibleBySeven:\n",
        "    def __init__(self, n):\n",
        "        self.n = n\n",
        "\n",
        "    def __iter__(self):\n",
        "        for num in range(self.n + 1):\n",
        "            if num % 7 == 0:\n",
        "                yield num\n",
        "\n",
        "# Example:\n",
        "n = 50\n",
        "generator = DivisibleBySeven(n)\n",
        "for num in generator:\n",
        "    print(num)\n"
      ]
    },
    {
      "cell_type": "code",
      "source": [
        "# Q: Write a program to compute the frequency of the words from the input. The output\n",
        "# should output after sorting the key alphanumerically.\n",
        "# Suppose the following input is supplied to the program:\n",
        "\n",
        "def word_frequency(input_string):\n",
        "    # Split the input string into words\n",
        "    words = input_string.split()\n",
        "\n",
        "    # Create a dictionary to store word frequencies\n",
        "    word_freq = {}\n",
        "\n",
        "    # Count the frequency of each word\n",
        "    for word in words:\n",
        "        word_freq[word] = word_freq.get(word, 0) + 1\n",
        "\n",
        "    # Sort the dictionary by keys alphabetically\n",
        "    sorted_word_freq = sorted(word_freq.items())\n",
        "\n",
        "    # Print the sorted word frequencies\n",
        "    for word, freq in sorted_word_freq:\n",
        "        print(f\"{word}:{freq}\")\n",
        "\n",
        "# Example input\n",
        "input_string = \"New to Python or choosing between Python 2 and Python 3? Read Python 2 or Python 3.\"\n",
        "\n",
        "# Compute and print word frequencies\n",
        "word_frequency(input_string)\n"
      ],
      "metadata": {
        "colab": {
          "base_uri": "https://localhost:8080/"
        },
        "id": "pycRtGI80YV1",
        "outputId": "da1e9d9d-f4ed-47f9-87f9-2a15483dfd80"
      },
      "execution_count": 3,
      "outputs": [
        {
          "output_type": "stream",
          "name": "stdout",
          "text": [
            "2:2\n",
            "3.:1\n",
            "3?:1\n",
            "New:1\n",
            "Python:5\n",
            "Read:1\n",
            "and:1\n",
            "between:1\n",
            "choosing:1\n",
            "or:2\n",
            "to:1\n"
          ]
        }
      ]
    },
    {
      "cell_type": "code",
      "source": [
        "# Q: Define a class Person and its two child classes: Male and Female. All classes have a\n",
        " #method getGender; which can print \"Male\" for Male class and \"Female\" for Female\n",
        " #class.\n",
        "\n",
        "class Person:\n",
        "    def getGender(self):\n",
        "        return \"Unknown\"\n",
        "\n",
        "class Male(Person):\n",
        "    def getGender(self):\n",
        "        return \"Male\"\n",
        "\n",
        "class Female(Person):\n",
        "    def getGender(self):\n",
        "        return \"Female\"\n",
        "\n",
        "# Example:\n",
        "person1 = Male()\n",
        "person2 = Female()\n",
        "\n",
        "print(person1.getGender())  # Output: Male\n",
        "print(person2.getGender())  # Output: Female\n"
      ],
      "metadata": {
        "colab": {
          "base_uri": "https://localhost:8080/"
        },
        "id": "hn4xS3DaquL4",
        "outputId": "63a6b4c5-de96-417d-e49f-1ed07750d540"
      },
      "execution_count": 4,
      "outputs": [
        {
          "output_type": "stream",
          "name": "stdout",
          "text": [
            "Male\n",
            "Female\n"
          ]
        }
      ]
    },
    {
      "cell_type": "code",
      "source": [
        "# Q: Please write a program to generate all sentences where subject is in [\"I\", \"You\"] and\n",
        "# verb is in [\"Play\", \"Love\"] and the object is in [\"Hockey\",\"Football\"].\n",
        "\n",
        "subjects = [\"I\", \"You\"]\n",
        "verbs = [\"Play\", \"Love\"]\n",
        "objects = [\"Hockey\", \"Football\"]\n",
        "\n",
        "# Generate and print all sentences\n",
        "for subject in subjects:\n",
        "    for verb in verbs:\n",
        "        for obj in objects:\n",
        "            sentence = f\"{subject} {verb} {obj}.\"\n",
        "            print(sentence)\n"
      ],
      "metadata": {
        "colab": {
          "base_uri": "https://localhost:8080/"
        },
        "id": "53n4KFeJquIh",
        "outputId": "7168f355-b05e-4a23-ee0c-13b37525c47a"
      },
      "execution_count": 5,
      "outputs": [
        {
          "output_type": "stream",
          "name": "stdout",
          "text": [
            "I Play Hockey.\n",
            "I Play Football.\n",
            "I Love Hockey.\n",
            "I Love Football.\n",
            "You Play Hockey.\n",
            "You Play Football.\n",
            "You Love Hockey.\n",
            "You Love Football.\n"
          ]
        }
      ]
    },
    {
      "cell_type": "code",
      "source": [
        "# Q: Please write a program to compress and decompress the string hello world!hello\n",
        "# world!hello world!hello world!.\n",
        "\n",
        "import zlib\n",
        "\n",
        "def compress_string(input_string):\n",
        "    compressed_data = zlib.compress(input_string.encode())\n",
        "    return compressed_data\n",
        "\n",
        "def decompress_string(compressed_data):\n",
        "    decompressed_data = zlib.decompress(compressed_data)\n",
        "    return decompressed_data.decode()\n",
        "\n",
        "# Original string\n",
        "original_string = \"hello world!hello world!hello world!hello world!\"\n",
        "\n",
        "# Compress the string\n",
        "compressed_data = compress_string(original_string)\n",
        "print(\"Compressed data:\", compressed_data)\n",
        "\n",
        "# Decompress the data\n",
        "decompressed_string = decompress_string(compressed_data)\n",
        "print(\"Decompressed string:\", decompressed_string)\n"
      ],
      "metadata": {
        "colab": {
          "base_uri": "https://localhost:8080/"
        },
        "id": "wz1sjfnMquGC",
        "outputId": "6e8d3cce-a7f8-4512-b791-1fe38cb90bfc"
      },
      "execution_count": 6,
      "outputs": [
        {
          "output_type": "stream",
          "name": "stdout",
          "text": [
            "Compressed data: b'x\\x9c\\xcbH\\xcd\\xc9\\xc9W(\\xcf/\\xcaIQ\\xcc \\x82\\r\\x00\\xbd[\\x11\\xf5'\n",
            "Decompressed string: hello world!hello world!hello world!hello world!\n"
          ]
        }
      ]
    },
    {
      "cell_type": "code",
      "source": [
        "# Q: Please write a binary search function which searches an item in a sorted list. The\n",
        "# function should return the index of element to be searched in the list.\n",
        "\n",
        "def binary_search(arr, target):\n",
        "    left, right = 0, len(arr) - 1\n",
        "\n",
        "    while left <= right:\n",
        "        mid = (left + right) // 2\n",
        "        if arr[mid] == target:\n",
        "            return mid\n",
        "        elif arr[mid] < target:\n",
        "            left = mid + 1\n",
        "        else:\n",
        "            right = mid - 1\n",
        "\n",
        "    return -1  # Return -1 if the element is not found\n",
        "\n",
        "# Example:\n",
        "sorted_list = [1, 3, 5, 7, 9, 11, 13, 15, 17, 19]\n",
        "target = 11\n",
        "index = binary_search(sorted_list, target)\n",
        "print(f\"Index of {target}:\", index)  # Output: Index of 11: 5\n"
      ],
      "metadata": {
        "colab": {
          "base_uri": "https://localhost:8080/"
        },
        "id": "-wF-HMNEquDP",
        "outputId": "ff44819d-f460-484c-f7db-c8dda6d05553"
      },
      "execution_count": 7,
      "outputs": [
        {
          "output_type": "stream",
          "name": "stdout",
          "text": [
            "Index of 11: 5\n"
          ]
        }
      ]
    },
    {
      "cell_type": "code",
      "source": [
        "\n"
      ],
      "metadata": {
        "id": "n13BCQJ8rkI9"
      },
      "execution_count": null,
      "outputs": []
    },
    {
      "cell_type": "code",
      "source": [],
      "metadata": {
        "id": "FnnI5-LBGIur"
      },
      "execution_count": null,
      "outputs": []
    }
  ]
}