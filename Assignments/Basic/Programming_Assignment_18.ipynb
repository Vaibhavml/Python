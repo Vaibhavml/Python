{
  "nbformat": 4,
  "nbformat_minor": 0,
  "metadata": {
    "colab": {
      "provenance": []
    },
    "kernelspec": {
      "name": "python3",
      "display_name": "Python 3"
    },
    "language_info": {
      "name": "python"
    }
  },
  "cells": [
    {
      "cell_type": "code",
      "source": [
        "#Question: 1\n",
        "\n",
        "def filter_list(lst):\n",
        "    return [x for x in lst if isinstance(x, int)]\n",
        "\n",
        "\n",
        "print(filter_list([1, 2, \"a\", \"b\"]))\n",
        "print(filter_list([1, \"a\", \"b\", 0, 15]))\n",
        "print(filter_list([1, 2, \"aasf\", \"1\", \"123\", 123]))\n"
      ],
      "metadata": {
        "colab": {
          "base_uri": "https://localhost:8080/"
        },
        "id": "qVl6Lw0pt0Wc",
        "outputId": "99f90144-d4da-4dc8-ce67-6b844339f2c2"
      },
      "execution_count": 23,
      "outputs": [
        {
          "output_type": "stream",
          "name": "stdout",
          "text": [
            "[1, 2]\n",
            "[1, 0, 15]\n",
            "[1, 2, 123]\n"
          ]
        }
      ]
    },
    {
      "cell_type": "code",
      "source": [
        "#Question: 2\n",
        "\n",
        "\n",
        "def reverse(s):\n",
        "    return s[::-1].swapcase()\n",
        "\n",
        "\n",
        "print(reverse(\"Hello World\"))\n",
        "print(reverse(\"ReVeRsE\"))\n",
        "print(reverse(\"Radar\"))\n"
      ],
      "metadata": {
        "colab": {
          "base_uri": "https://localhost:8080/"
        },
        "id": "Yjgi-dTAt8OU",
        "outputId": "4eb36bc1-f8dd-4bc9-f3cc-8c6f1dae72b7"
      },
      "execution_count": 24,
      "outputs": [
        {
          "output_type": "stream",
          "name": "stdout",
          "text": [
            "DLROw OLLEh\n",
            "eSrEvEr\n",
            "RADAr\n"
          ]
        }
      ]
    },
    {
      "cell_type": "code",
      "source": [
        "#Question: 3\n",
        "\n",
        "# Given list\n",
        "writeyourcodehere = [1, 2, 3, 4, 5, 6]\n",
        "\n",
        "# Unpack the list using destructuring assignment\n",
        "first, *middle, last = writeyourcodehere\n",
        "\n",
        "\n",
        "print(first)\n",
        "print(middle)\n",
        "print(last)\n"
      ],
      "metadata": {
        "colab": {
          "base_uri": "https://localhost:8080/"
        },
        "id": "xq9lyIs0uB67",
        "outputId": "45798cca-504e-4670-8102-084fb3479c12"
      },
      "execution_count": 25,
      "outputs": [
        {
          "output_type": "stream",
          "name": "stdout",
          "text": [
            "1\n",
            "[2, 3, 4, 5]\n",
            "6\n"
          ]
        }
      ]
    },
    {
      "cell_type": "code",
      "source": [
        "#Question: 4\n",
        "\n",
        "def factorial(n):\n",
        "    if n == 0 or n == 1:\n",
        "        return 1\n",
        "    else:\n",
        "        return n * factorial(n - 1)\n",
        "\n",
        "print(factorial(5))\n",
        "print(factorial(3))\n",
        "print(factorial(1))\n",
        "print(factorial(0))\n"
      ],
      "metadata": {
        "colab": {
          "base_uri": "https://localhost:8080/"
        },
        "id": "XRQNYkVewifg",
        "outputId": "6558cad9-3eac-42a4-a23f-b3d4ee00d617"
      },
      "execution_count": 26,
      "outputs": [
        {
          "output_type": "stream",
          "name": "stdout",
          "text": [
            "120\n",
            "6\n",
            "1\n",
            "1\n"
          ]
        }
      ]
    },
    {
      "cell_type": "code",
      "source": [
        "#Question: 5\n",
        "\n",
        "def move_to_end(lst, element):\n",
        "    for _ in range(lst.count(element)):\n",
        "        lst.remove(element)\n",
        "        lst.append(element)\n",
        "    return lst\n",
        "\n",
        "print(move_to_end([1, 3, 2, 4, 4, 1], 1))\n",
        "print(move_to_end([7, 8, 9, 1, 2, 3, 4], 9))\n",
        "print(move_to_end([\"a\", \"a\", \"a\", \"b\"], \"a\"))\n"
      ],
      "metadata": {
        "colab": {
          "base_uri": "https://localhost:8080/"
        },
        "id": "Hlet6uKCwicY",
        "outputId": "be1a6d0d-56f5-497e-dd59-a36303d880b0"
      },
      "execution_count": 27,
      "outputs": [
        {
          "output_type": "stream",
          "name": "stdout",
          "text": [
            "[3, 2, 4, 4, 1, 1]\n",
            "[7, 8, 1, 2, 3, 4, 9]\n",
            "['b', 'a', 'a', 'a']\n"
          ]
        }
      ]
    }
  ]
}