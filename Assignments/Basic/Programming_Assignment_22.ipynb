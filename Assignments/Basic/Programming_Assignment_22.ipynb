{
  "nbformat": 4,
  "nbformat_minor": 0,
  "metadata": {
    "colab": {
      "provenance": []
    },
    "kernelspec": {
      "name": "python3",
      "display_name": "Python 3"
    },
    "language_info": {
      "name": "python"
    }
  },
  "cells": [
    {
      "cell_type": "code",
      "source": [
        "#Question: 1\n",
        "\n",
        "def list_operation(x, y, n):\n",
        "    return [num for num in range(x, y + 1) if num % n == 0]\n",
        "\n",
        "\n",
        "print(list_operation(1, 10, 3))\n",
        "print(list_operation(7, 9, 2))\n",
        "print(list_operation(15, 20, 7))\n"
      ],
      "metadata": {
        "colab": {
          "base_uri": "https://localhost:8080/"
        },
        "id": "qVl6Lw0pt0Wc",
        "outputId": "bda76962-7b77-4bf5-cc74-42c41977021b"
      },
      "execution_count": 1,
      "outputs": [
        {
          "output_type": "stream",
          "name": "stdout",
          "text": [
            "[3, 6, 9]\n",
            "[8]\n",
            "[]\n"
          ]
        }
      ]
    },
    {
      "cell_type": "code",
      "source": [
        "#Question: 2\n",
        "\n",
        "def simon_says(list1, list2):\n",
        "    return list1[:-1] == list2[1:]\n",
        "\n",
        "print(simon_says([1, 2], [5, 1]))\n",
        "print(simon_says([1, 2], [5, 5]))\n",
        "print(simon_says([1, 2, 3, 4, 5], [0, 1, 2, 3, 4]))\n",
        "print(simon_says([1, 2, 3, 4, 5], [5, 5, 1, 2, 3]))\n",
        "\n"
      ],
      "metadata": {
        "colab": {
          "base_uri": "https://localhost:8080/"
        },
        "id": "Yjgi-dTAt8OU",
        "outputId": "a3f1bd31-263d-4634-c7c2-b4487775ef36"
      },
      "execution_count": 3,
      "outputs": [
        {
          "output_type": "stream",
          "name": "stdout",
          "text": [
            "True\n",
            "False\n",
            "True\n",
            "False\n"
          ]
        }
      ]
    },
    {
      "cell_type": "code",
      "source": [
        "#Question: 3\n",
        "\n",
        "def society_name(names):\n",
        "    # Extract the first letter of each name and concatenate them into a string\n",
        "    secret_name = ''.join(name[0] for name in names)\n",
        "    # Sort the string alphabetically\n",
        "    secret_name = ''.join(sorted(secret_name))\n",
        "    return secret_name\n",
        "\n",
        "\n",
        "print(society_name([\"Adam\", \"Sarah\", \"Malcolm\"]))\n",
        "print(society_name([\"Harry\", \"Newt\", \"Luna\", \"Cho\"]))\n",
        "print(society_name([\"Phoebe\", \"Chandler\", \"Rachel\", \"Ross\", \"Monica\", \"Joey\"]))\n"
      ],
      "metadata": {
        "colab": {
          "base_uri": "https://localhost:8080/"
        },
        "id": "xq9lyIs0uB67",
        "outputId": "3ad5d6ae-6abb-478e-a800-a1088bebc58c"
      },
      "execution_count": 4,
      "outputs": [
        {
          "output_type": "stream",
          "name": "stdout",
          "text": [
            "AMS\n",
            "CHLN\n",
            "CJMPRR\n"
          ]
        }
      ]
    },
    {
      "cell_type": "code",
      "source": [
        "#Question: 4\n",
        "\n",
        "def is_isogram(string):\n",
        "    # Convert the string to lowercase\n",
        "    string = string.lower()\n",
        "    # Initialize a dictionary to store the frequency of each character\n",
        "    char_freq = {}\n",
        "    # Iterate over each character in the string\n",
        "    for char in string:\n",
        "        # If the character is not a space and is already in the dictionary, return False\n",
        "        if char != ' ' and char in char_freq:\n",
        "            return False\n",
        "        # Otherwise, update the frequency of the character in the dictionary\n",
        "        char_freq[char] = 1\n",
        "    # If no character appears more than once, return True\n",
        "    return True\n",
        "\n",
        "# Test cases\n",
        "print(is_isogram(\"Algorism\"))\n",
        "print(is_isogram(\"PasSword\"))\n",
        "print(is_isogram(\"Consecutive\"))\n"
      ],
      "metadata": {
        "colab": {
          "base_uri": "https://localhost:8080/"
        },
        "id": "XRQNYkVewifg",
        "outputId": "096f0131-24cc-49fc-ffd1-5ee9c74992eb"
      },
      "execution_count": 5,
      "outputs": [
        {
          "output_type": "stream",
          "name": "stdout",
          "text": [
            "True\n",
            "False\n",
            "False\n"
          ]
        }
      ]
    },
    {
      "cell_type": "code",
      "source": [
        "#Question: 5\n",
        "\n",
        "def is_in_order(s):\n",
        "    return all(s[i] <= s[i+1] for i in range(len(s) - 1))\n",
        "\n",
        "print(is_in_order(\"abc\"))\n",
        "print(is_in_order(\"edabit\"))\n",
        "print(is_in_order(\"123\"))\n",
        "print(is_in_order(\"xyzz\"))\n"
      ],
      "metadata": {
        "colab": {
          "base_uri": "https://localhost:8080/"
        },
        "id": "Hlet6uKCwicY",
        "outputId": "e27d9910-f67e-4e2d-d595-865ef95b48a3"
      },
      "execution_count": 6,
      "outputs": [
        {
          "output_type": "stream",
          "name": "stdout",
          "text": [
            "True\n",
            "False\n",
            "True\n",
            "True\n"
          ]
        }
      ]
    },
    {
      "cell_type": "code",
      "source": [],
      "metadata": {
        "id": "5waT18XgwiZJ"
      },
      "execution_count": null,
      "outputs": []
    },
    {
      "cell_type": "code",
      "source": [],
      "metadata": {
        "id": "HtQgkyM2wiWC"
      },
      "execution_count": null,
      "outputs": []
    }
  ]
}