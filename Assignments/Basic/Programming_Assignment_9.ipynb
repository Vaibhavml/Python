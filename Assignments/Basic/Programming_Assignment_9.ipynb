{
  "nbformat": 4,
  "nbformat_minor": 0,
  "metadata": {
    "colab": {
      "provenance": []
    },
    "kernelspec": {
      "name": "python3",
      "display_name": "Python 3"
    },
    "language_info": {
      "name": "python"
    }
  },
  "cells": [
    {
      "cell_type": "code",
      "execution_count": 1,
      "metadata": {
        "colab": {
          "base_uri": "https://localhost:8080/"
        },
        "id": "V1RP2e3spySx",
        "outputId": "ef88b740-1a16-49c2-b951-f6bfeca4c34e"
      },
      "outputs": [
        {
          "output_type": "stream",
          "name": "stdout",
          "text": [
            "Enter a number: 50\n",
            "50 is not a Disarium number\n"
          ]
        }
      ],
      "source": [
        "# Q: Write a Python program to check if the given number is a Disarium Number.\n",
        "\n",
        "def is_disarium(num):\n",
        "    num_str = str(num)\n",
        "    sum = 0\n",
        "    for i in range(len(num_str)):\n",
        "        sum += int(num_str[i]) ** (i + 1)\n",
        "    return sum == num\n",
        "\n",
        "# Test the function\n",
        "number = int(input(\"Enter a number: \"))\n",
        "if is_disarium(number):\n",
        "    print(number, \"is a Disarium number\")\n",
        "else:\n",
        "    print(number, \"is not a Disarium number\")\n"
      ]
    },
    {
      "cell_type": "code",
      "source": [
        "# Q: Write a Python program to print all disarium numbers between 1 to 100\n",
        "\n",
        "def is_disarium(num):\n",
        "    num_str = str(num)\n",
        "    sum = 0\n",
        "    for i in range(len(num_str)):\n",
        "        sum += int(num_str[i]) ** (i + 1)\n",
        "    return sum == num\n",
        "\n",
        "print(\"Disarium numbers between 1 and 100:\")\n",
        "for i in range(1, 101):\n",
        "    if is_disarium(i):\n",
        "        print(i)\n"
      ],
      "metadata": {
        "colab": {
          "base_uri": "https://localhost:8080/"
        },
        "id": "hn4xS3DaquL4",
        "outputId": "2b53f150-ca28-4a3b-cdb8-73b2fc13b912"
      },
      "execution_count": 2,
      "outputs": [
        {
          "output_type": "stream",
          "name": "stdout",
          "text": [
            "Disarium numbers between 1 and 100:\n",
            "1\n",
            "2\n",
            "3\n",
            "4\n",
            "5\n",
            "6\n",
            "7\n",
            "8\n",
            "9\n",
            "89\n"
          ]
        }
      ]
    },
    {
      "cell_type": "code",
      "source": [
        "# Q: Write a Python program to check if the given number is Happy Number.\n",
        "\n",
        "def is_happy_number(num):\n",
        "    seen = set()\n",
        "    while num != 1:\n",
        "        num = sum(int(digit) ** 2 for digit in str(num))\n",
        "        if num in seen:\n",
        "            return False\n",
        "        seen.add(num)\n",
        "    return True\n",
        "\n",
        "# Test the function\n",
        "number = int(input(\"Enter a number: \"))\n",
        "if is_happy_number(number):\n",
        "    print(number, \"is a Happy number\")\n",
        "else:\n",
        "    print(number, \"is not a Happy number\")\n"
      ],
      "metadata": {
        "colab": {
          "base_uri": "https://localhost:8080/"
        },
        "id": "53n4KFeJquIh",
        "outputId": "5e87861f-f36a-4b1b-d52a-bcfb15319c73"
      },
      "execution_count": 3,
      "outputs": [
        {
          "output_type": "stream",
          "name": "stdout",
          "text": [
            "Enter a number: 59\n",
            "59 is not a Happy number\n"
          ]
        }
      ]
    },
    {
      "cell_type": "code",
      "source": [
        "# Q: Write a Python program to print all happy numbers between 1 and 100.\n",
        "\n",
        "def is_happy_number(num):\n",
        "    seen = set()\n",
        "    while num != 1:\n",
        "        num = sum(int(digit) ** 2 for digit in str(num))\n",
        "        if num in seen:\n",
        "            return False\n",
        "        seen.add(num)\n",
        "    return True\n",
        "\n",
        "def print_happy_numbers():\n",
        "    print(\"Happy numbers between 1 and 100:\")\n",
        "    for i in range(1, 101):\n",
        "        if is_happy_number(i):\n",
        "            print(i)\n",
        "\n",
        "print_happy_numbers()\n"
      ],
      "metadata": {
        "colab": {
          "base_uri": "https://localhost:8080/"
        },
        "id": "wz1sjfnMquGC",
        "outputId": "b811e248-5507-466f-f79d-8d55482768c2"
      },
      "execution_count": 4,
      "outputs": [
        {
          "output_type": "stream",
          "name": "stdout",
          "text": [
            "Happy numbers between 1 and 100:\n",
            "1\n",
            "7\n",
            "10\n",
            "13\n",
            "19\n",
            "23\n",
            "28\n",
            "31\n",
            "32\n",
            "44\n",
            "49\n",
            "68\n",
            "70\n",
            "79\n",
            "82\n",
            "86\n",
            "91\n",
            "94\n",
            "97\n",
            "100\n"
          ]
        }
      ]
    },
    {
      "cell_type": "code",
      "source": [
        "# Q: Write a Python program to determine whether the given number is a Harshad Number\n",
        "def is_harshad_number(num):\n",
        "    digits_sum = sum(int(digit) for digit in str(num))\n",
        "    return num % digits_sum == 0\n",
        "\n",
        "# Test the function\n",
        "number = int(input(\"Enter a number: \"))\n",
        "if is_harshad_number(number):\n",
        "    print(number, \"is a Harshad number\")\n",
        "else:\n",
        "    print(number, \"is not a Harshad number\")\n"
      ],
      "metadata": {
        "colab": {
          "base_uri": "https://localhost:8080/"
        },
        "id": "-wF-HMNEquDP",
        "outputId": "939575a5-39ff-4568-f7c8-eb6254318098"
      },
      "execution_count": 5,
      "outputs": [
        {
          "output_type": "stream",
          "name": "stdout",
          "text": [
            "Enter a number: 55\n",
            "55 is not a Harshad number\n"
          ]
        }
      ]
    },
    {
      "cell_type": "code",
      "source": [
        "# Q: Write a Python program to print all pronic numbers between 1 and 100.\n",
        "\n",
        "def is_pronic(num):\n",
        "    for i in range(num):\n",
        "        if i * (i + 1) == num:\n",
        "            return True\n",
        "    return False\n",
        "\n",
        "def print_pronic_numbers():\n",
        "    print(\"Pronic numbers between 1 and 100:\")\n",
        "    for i in range(1, 101):\n",
        "        if is_pronic(i):\n",
        "            print(i)\n",
        "\n",
        "print_pronic_numbers()\n"
      ],
      "metadata": {
        "colab": {
          "base_uri": "https://localhost:8080/"
        },
        "id": "Gu065PlxquAR",
        "outputId": "52ca8e18-6e65-42c9-b784-f0cd493a1d94"
      },
      "execution_count": 6,
      "outputs": [
        {
          "output_type": "stream",
          "name": "stdout",
          "text": [
            "Pronic numbers between 1 and 100:\n",
            "2\n",
            "6\n",
            "12\n",
            "20\n",
            "30\n",
            "42\n",
            "56\n",
            "72\n",
            "90\n"
          ]
        }
      ]
    },
    {
      "cell_type": "code",
      "source": [],
      "metadata": {
        "id": "n13BCQJ8rkI9"
      },
      "execution_count": null,
      "outputs": []
    }
  ]
}