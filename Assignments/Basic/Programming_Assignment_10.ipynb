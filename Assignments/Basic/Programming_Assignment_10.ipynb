{
  "nbformat": 4,
  "nbformat_minor": 0,
  "metadata": {
    "colab": {
      "provenance": []
    },
    "kernelspec": {
      "name": "python3",
      "display_name": "Python 3"
    },
    "language_info": {
      "name": "python"
    }
  },
  "cells": [
    {
      "cell_type": "code",
      "execution_count": 14,
      "metadata": {
        "colab": {
          "base_uri": "https://localhost:8080/"
        },
        "id": "V1RP2e3spySx",
        "outputId": "52703f97-b8ce-48cf-cc70-7148825c3c8a"
      },
      "outputs": [
        {
          "output_type": "stream",
          "name": "stdout",
          "text": [
            "Sum of elements in the list: 15\n"
          ]
        }
      ],
      "source": [
        "# Q: Write a Python program to find sum of elements in list?\n",
        "\n",
        "def sum_of_elements(lst):\n",
        "    total = 0\n",
        "    for num in lst:\n",
        "        total += num\n",
        "    return total\n",
        "\n",
        "# Example:\n",
        "my_list = [1, 2, 3, 4, 5]\n",
        "print(\"Sum of elements in the list:\", sum_of_elements(my_list))\n"
      ]
    },
    {
      "cell_type": "code",
      "source": [
        "# Q: Write a Python program to Multiply all numbers in the list?\n",
        "def multiply_all_numbers(lst):\n",
        "    result = 1\n",
        "    for num in lst:\n",
        "        result *= num\n",
        "    return result\n",
        "\n",
        "# Example:\n",
        "my_list = [1, 2, 3, 4, 5]\n",
        "print(\"Multiplication of all numbers in the list:\", multiply_all_numbers(my_list))\n"
      ],
      "metadata": {
        "colab": {
          "base_uri": "https://localhost:8080/"
        },
        "id": "hn4xS3DaquL4",
        "outputId": "fbd4a411-21a4-4331-ad26-7f885c5c0cb3"
      },
      "execution_count": 15,
      "outputs": [
        {
          "output_type": "stream",
          "name": "stdout",
          "text": [
            "Multiplication of all numbers in the list: 120\n"
          ]
        }
      ]
    },
    {
      "cell_type": "code",
      "source": [
        "# Q: Write a Python program to find smallest number in a list?\n",
        "\n",
        "def find_smallest_number(lst):\n",
        "    if not lst:\n",
        "        return None\n",
        "    smallest = lst[0]\n",
        "    for num in lst[1:]:\n",
        "        if num < smallest:\n",
        "            smallest = num\n",
        "    return smallest\n",
        "\n",
        "# Example:\n",
        "my_list = [5, 3, 9, 1, 7]\n",
        "print(\"The smallest number in the list is:\", find_smallest_number(my_list))\n"
      ],
      "metadata": {
        "colab": {
          "base_uri": "https://localhost:8080/"
        },
        "id": "53n4KFeJquIh",
        "outputId": "f219990c-5d81-4f89-b021-3eab3d2d2fdb"
      },
      "execution_count": 16,
      "outputs": [
        {
          "output_type": "stream",
          "name": "stdout",
          "text": [
            "The smallest number in the list is: 1\n"
          ]
        }
      ]
    },
    {
      "cell_type": "code",
      "source": [
        "# Q: Write a Python program to find largest number in a list?\n",
        "\n",
        "def find_largest_number(lst):\n",
        "    if not lst:\n",
        "        return None\n",
        "    largest = lst[0]\n",
        "    for num in lst[1:]:\n",
        "        if num > largest:\n",
        "            largest = num\n",
        "    return largest\n",
        "\n",
        "# Example:\n",
        "my_list = [5, 3, 9, 1, 7]\n",
        "print(\"The largest number in the list is:\", find_largest_number(my_list))\n"
      ],
      "metadata": {
        "colab": {
          "base_uri": "https://localhost:8080/"
        },
        "id": "wz1sjfnMquGC",
        "outputId": "aca4a67b-be21-4393-fb5b-7064728c59cd"
      },
      "execution_count": 17,
      "outputs": [
        {
          "output_type": "stream",
          "name": "stdout",
          "text": [
            "The largest number in the list is: 9\n"
          ]
        }
      ]
    },
    {
      "cell_type": "code",
      "source": [
        "# Q: Write a Python program to find second largest number in a list?\n",
        "\n",
        "def find_second_largest(lst):\n",
        "    if len(lst) < 2:\n",
        "        return None\n",
        "    largest = max(lst[0], lst[1])\n",
        "    second_largest = min(lst[0], lst[1])\n",
        "    for num in lst[2:]:\n",
        "        if num > largest:\n",
        "            second_largest = largest\n",
        "            largest = num\n",
        "        elif num > second_largest and num != largest:\n",
        "            second_largest = num\n",
        "    return second_largest\n",
        "\n",
        "# Example:\n",
        "my_list = [5, 3, 9, 1, 7]\n",
        "print(\"The second largest number in the list is:\", find_second_largest(my_list))\n"
      ],
      "metadata": {
        "colab": {
          "base_uri": "https://localhost:8080/"
        },
        "id": "-wF-HMNEquDP",
        "outputId": "c6b17f35-74c3-40e7-f418-ffc525cfb68c"
      },
      "execution_count": 18,
      "outputs": [
        {
          "output_type": "stream",
          "name": "stdout",
          "text": [
            "The second largest number in the list is: 7\n"
          ]
        }
      ]
    },
    {
      "cell_type": "code",
      "source": [
        "# Q: Write a Python program to find N largest elements from a list?\n",
        "\n",
        "def find_n_largest(lst, n):\n",
        "    if len(lst) < n:\n",
        "        return None\n",
        "    lst.sort(reverse=True)\n",
        "    return lst[:n]\n",
        "\n",
        "# Example:\n",
        "my_list = [5, 3, 9, 1, 7]\n",
        "N = 3\n",
        "print(f\"The {N} largest elements in the list are:\", find_n_largest(my_list, N))\n"
      ],
      "metadata": {
        "colab": {
          "base_uri": "https://localhost:8080/"
        },
        "id": "Gu065PlxquAR",
        "outputId": "ef2221ee-bf70-4be9-9a16-d4d2f62bd758"
      },
      "execution_count": 19,
      "outputs": [
        {
          "output_type": "stream",
          "name": "stdout",
          "text": [
            "The 3 largest elements in the list are: [9, 7, 5]\n"
          ]
        }
      ]
    },
    {
      "cell_type": "code",
      "source": [
        "# Q: Write a Python program to print even numbers in a list?\n",
        "\n",
        "def print_even_numbers(lst):\n",
        "    for num in lst:\n",
        "        if num % 2 == 0:\n",
        "            print(num)\n",
        "\n",
        "# Example:\n",
        "my_list = [1, 2, 3, 4, 5, 6, 7, 8, 9, 10]\n",
        "print(\"Even numbers in the list:\")\n",
        "print_even_numbers(my_list)\n"
      ],
      "metadata": {
        "colab": {
          "base_uri": "https://localhost:8080/"
        },
        "id": "n13BCQJ8rkI9",
        "outputId": "222787f7-ba49-4af2-f16f-74937016d3c1"
      },
      "execution_count": 20,
      "outputs": [
        {
          "output_type": "stream",
          "name": "stdout",
          "text": [
            "Even numbers in the list:\n",
            "2\n",
            "4\n",
            "6\n",
            "8\n",
            "10\n"
          ]
        }
      ]
    },
    {
      "cell_type": "code",
      "source": [
        "# Q: Write a Python program to print odd numbers in a List?\n",
        "\n",
        "def print_odd_numbers(lst):\n",
        "    for num in lst:\n",
        "        if num % 2 != 0:\n",
        "            print(num)\n",
        "\n",
        "# Example:\n",
        "my_list = [1, 2, 3, 4, 5, 6, 7, 8, 9, 10]\n",
        "print(\"Odd numbers in the list:\")\n",
        "print_odd_numbers(my_list)\n"
      ],
      "metadata": {
        "colab": {
          "base_uri": "https://localhost:8080/"
        },
        "id": "wvQb8ANLtkwx",
        "outputId": "2eb15730-4b7d-44a1-f66f-e8bb9d025481"
      },
      "execution_count": 21,
      "outputs": [
        {
          "output_type": "stream",
          "name": "stdout",
          "text": [
            "Odd numbers in the list:\n",
            "1\n",
            "3\n",
            "5\n",
            "7\n",
            "9\n"
          ]
        }
      ]
    },
    {
      "cell_type": "code",
      "source": [
        "#  Q: Write a Python program to Remove empty List from List\n",
        "\n",
        "def remove_empty_lists(lst):\n",
        "    return [sublist for sublist in lst if sublist]\n",
        "\n",
        "# Example:\n",
        "my_list = [1, [], 2, [], [], 3, [], 4]\n",
        "result_list = remove_empty_lists(my_list)\n",
        "print(\"List after removing empty lists:\", result_list)\n"
      ],
      "metadata": {
        "colab": {
          "base_uri": "https://localhost:8080/"
        },
        "id": "U7NMgNA-tktL",
        "outputId": "b75d40fe-af7d-4201-83a7-5a26608068bd"
      },
      "execution_count": 22,
      "outputs": [
        {
          "output_type": "stream",
          "name": "stdout",
          "text": [
            "List after removing empty lists: [1, 2, 3, 4]\n"
          ]
        }
      ]
    },
    {
      "cell_type": "code",
      "source": [
        "# Q: Write a Python program to Cloning or Copying a list?\n",
        "\n",
        "def clone_list(lst):\n",
        "    return lst[:]\n",
        "\n",
        "# Example:\n",
        "original_list = [1, 2, 3, 4, 5]\n",
        "cloned_list = clone_list(original_list)\n",
        "print(\"Original list:\", original_list)\n",
        "print(\"Cloned list:\", cloned_list)\n"
      ],
      "metadata": {
        "colab": {
          "base_uri": "https://localhost:8080/"
        },
        "id": "2eQDU0CYtkqd",
        "outputId": "43fa7dd8-51f9-4df8-fe8b-88499fd16d3c"
      },
      "execution_count": 23,
      "outputs": [
        {
          "output_type": "stream",
          "name": "stdout",
          "text": [
            "Original list: [1, 2, 3, 4, 5]\n",
            "Cloned list: [1, 2, 3, 4, 5]\n"
          ]
        }
      ]
    },
    {
      "cell_type": "code",
      "source": [
        "# Q: Write a Python program to Count occurrences of an element in a list?\n",
        "\n",
        "def count_occurrences(lst, element):\n",
        "    return lst.count(element)\n",
        "\n",
        "# Example:\n",
        "my_list = [1, 2, 3, 4, 1, 2, 1, 5]\n",
        "element_to_count = 1\n",
        "occurrences = count_occurrences(my_list, element_to_count)\n",
        "print(f\"The element {element_to_count} occurs {occurrences} times in the list.\")\n"
      ],
      "metadata": {
        "colab": {
          "base_uri": "https://localhost:8080/"
        },
        "id": "RtNl_VAetkns",
        "outputId": "59fec025-ad21-43a2-9528-bf61f6a08406"
      },
      "execution_count": 24,
      "outputs": [
        {
          "output_type": "stream",
          "name": "stdout",
          "text": [
            "The element 1 occurs 3 times in the list.\n"
          ]
        }
      ]
    },
    {
      "cell_type": "code",
      "source": [],
      "metadata": {
        "id": "GOoVtEXbuTO7"
      },
      "execution_count": null,
      "outputs": []
    }
  ]
}