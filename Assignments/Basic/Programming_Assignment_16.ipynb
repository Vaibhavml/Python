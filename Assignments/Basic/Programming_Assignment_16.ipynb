{
  "nbformat": 4,
  "nbformat_minor": 0,
  "metadata": {
    "colab": {
      "provenance": []
    },
    "kernelspec": {
      "name": "python3",
      "display_name": "Python 3"
    },
    "language_info": {
      "name": "python"
    }
  },
  "cells": [
    {
      "cell_type": "code",
      "source": [
        "#Question: 1\n",
        "\n",
        "def stutter(word):\n",
        "    stuttered = word[:2] + \"... \" + word[:2] + \"... \" + word + \"?\"\n",
        "    return stuttered\n",
        "\n",
        "\n",
        "print(stutter(\"incredible\"))\n",
        "print(stutter(\"enthusiastic\"))\n",
        "print(stutter(\"outstanding\"))\n"
      ],
      "metadata": {
        "colab": {
          "base_uri": "https://localhost:8080/"
        },
        "id": "qVl6Lw0pt0Wc",
        "outputId": "b073ccfe-b608-42ac-e160-12cb2f406f0f"
      },
      "execution_count": 33,
      "outputs": [
        {
          "output_type": "stream",
          "name": "stdout",
          "text": [
            "in... in... incredible?\n",
            "en... en... enthusiastic?\n",
            "ou... ou... outstanding?\n"
          ]
        }
      ]
    },
    {
      "cell_type": "code",
      "source": [
        "#Question: 2\n",
        "\n",
        "import math\n",
        "\n",
        "def radians_to_degrees(radians):\n",
        "    degrees = radians * (180 / math.pi)\n",
        "    return round(degrees, 1)\n",
        "\n",
        "\n",
        "print(radians_to_degrees(1))\n",
        "print(radians_to_degrees(20))\n",
        "print(radians_to_degrees(50))\n"
      ],
      "metadata": {
        "colab": {
          "base_uri": "https://localhost:8080/"
        },
        "id": "Yjgi-dTAt8OU",
        "outputId": "a5d3c770-9ef6-441b-e283-b8f212be2675"
      },
      "execution_count": 34,
      "outputs": [
        {
          "output_type": "stream",
          "name": "stdout",
          "text": [
            "57.3\n",
            "1145.9\n",
            "2864.8\n"
          ]
        }
      ]
    },
    {
      "cell_type": "code",
      "source": [
        "#Question: 3\n",
        "\n",
        "def is_curzon(num):\n",
        "    term1 = 2 ** num + 1\n",
        "    term2 = 2 * num + 1\n",
        "    return term1 % term2 == 0\n",
        "\n",
        "\n",
        "print(is_curzon(5))\n",
        "print(is_curzon(10))\n",
        "print(is_curzon(14))\n"
      ],
      "metadata": {
        "colab": {
          "base_uri": "https://localhost:8080/"
        },
        "id": "xq9lyIs0uB67",
        "outputId": "4fdd1618-9f92-4ffc-b28d-ee24a5dabd8e"
      },
      "execution_count": 35,
      "outputs": [
        {
          "output_type": "stream",
          "name": "stdout",
          "text": [
            "True\n",
            "False\n",
            "True\n"
          ]
        }
      ]
    },
    {
      "cell_type": "code",
      "source": [
        "#Question: 5\n",
        "\n",
        "def binary(decimal):\n",
        "    binary_str = \"\"\n",
        "    while decimal > 0:\n",
        "        remainder = decimal % 2\n",
        "        binary_str = str(remainder) + binary_str\n",
        "        decimal //= 2\n",
        "    return binary_str if binary_str else \"0\"\n",
        "\n",
        "\n",
        "print(binary(1))\n",
        "print(binary(5))\n",
        "print(binary(10))\n"
      ],
      "metadata": {
        "colab": {
          "base_uri": "https://localhost:8080/"
        },
        "id": "XRQNYkVewifg",
        "outputId": "ca01ef3e-1733-4627-94dc-b08559875035"
      },
      "execution_count": 36,
      "outputs": [
        {
          "output_type": "stream",
          "name": "stdout",
          "text": [
            "1\n",
            "101\n",
            "1010\n"
          ]
        }
      ]
    }
  ]
}