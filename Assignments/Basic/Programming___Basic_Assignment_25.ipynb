{
  "nbformat": 4,
  "nbformat_minor": 0,
  "metadata": {
    "colab": {
      "provenance": []
    },
    "kernelspec": {
      "name": "python3",
      "display_name": "Python 3"
    },
    "language_info": {
      "name": "python"
    }
  },
  "cells": [
    {
      "cell_type": "code",
      "source": [
        "#Question: 1\n",
        "\n",
        "def equal(a, b, c):\n",
        "    if a == b == c:\n",
        "        return 3\n",
        "    elif a == b or a == c or b == c:\n",
        "        return 2\n",
        "    else:\n",
        "        return 0\n",
        "\n",
        "print(equal(3, 4, 3))\n",
        "print(equal(1, 1, 1))\n",
        "print(equal(3, 4, 1))\n"
      ],
      "metadata": {
        "colab": {
          "base_uri": "https://localhost:8080/"
        },
        "id": "qVl6Lw0pt0Wc",
        "outputId": "162ffe77-703a-4a94-b6a0-26a6b37136d2"
      },
      "execution_count": 9,
      "outputs": [
        {
          "output_type": "stream",
          "name": "stdout",
          "text": [
            "2\n",
            "3\n",
            "0\n"
          ]
        }
      ]
    },
    {
      "cell_type": "code",
      "source": [
        "#Question: 2\n",
        "def dict_to_list(dictionary):\n",
        "    return sorted(dictionary.items())\n",
        "\n",
        "# Test cases\n",
        "print(dict_to_list({\"D\": 1, \"B\": 2, \"C\": 3}))\n",
        "print(dict_to_list({\"likes\": 2, \"dislikes\": 3, \"followers\": 10}))\n"
      ],
      "metadata": {
        "colab": {
          "base_uri": "https://localhost:8080/"
        },
        "id": "Yjgi-dTAt8OU",
        "outputId": "0206af7b-43bf-4664-9d16-c1381b57b420"
      },
      "execution_count": 10,
      "outputs": [
        {
          "output_type": "stream",
          "name": "stdout",
          "text": [
            "[('B', 2), ('C', 3), ('D', 1)]\n",
            "[('dislikes', 3), ('followers', 10), ('likes', 2)]\n"
          ]
        }
      ]
    },
    {
      "cell_type": "code",
      "source": [
        "#Question: 3\n",
        "\n",
        "def mapping(lst):\n",
        "    return {letter: letter.upper() for letter in lst}\n",
        "\n",
        "print(mapping([\"p\", \"s\"]))\n",
        "print(mapping([\"a\", \"b\", \"c\"]))\n",
        "print(mapping([\"a\", \"v\", \"y\", \"z\"]))\n"
      ],
      "metadata": {
        "colab": {
          "base_uri": "https://localhost:8080/"
        },
        "id": "xq9lyIs0uB67",
        "outputId": "ffa739f8-2f82-4519-884b-bea459c0bfeb"
      },
      "execution_count": 11,
      "outputs": [
        {
          "output_type": "stream",
          "name": "stdout",
          "text": [
            "{'p': 'P', 's': 'S'}\n",
            "{'a': 'A', 'b': 'B', 'c': 'C'}\n",
            "{'a': 'A', 'v': 'V', 'y': 'Y', 'z': 'Z'}\n"
          ]
        }
      ]
    },
    {
      "cell_type": "code",
      "source": [
        "#Question: 4\n",
        "\n",
        "def vow_replace(string, vowel):\n",
        "    vowels = 'aeiou'\n",
        "    return ''.join(vowel if char in vowels else char for char in string)\n",
        "\n",
        "# Test cases\n",
        "print(vow_replace(\"apples and bananas\", \"u\"))\n",
        "print(vow_replace(\"cheese casserole\", \"o\"))\n",
        "print(vow_replace(\"stuffed jalapeno poppers\", \"e\"))\n"
      ],
      "metadata": {
        "colab": {
          "base_uri": "https://localhost:8080/"
        },
        "id": "XRQNYkVewifg",
        "outputId": "83707d88-f778-47bb-d89b-d0a2680783ee"
      },
      "execution_count": 12,
      "outputs": [
        {
          "output_type": "stream",
          "name": "stdout",
          "text": [
            "upplus und bununus\n",
            "chooso cossorolo\n",
            "steffed jelepene peppers\n"
          ]
        }
      ]
    },
    {
      "cell_type": "code",
      "source": [
        "#Question: 5\n",
        "\n",
        "def ascii_capitalize(string):\n",
        "    result = \"\"\n",
        "    for char in string:\n",
        "        ascii_code = ord(char)\n",
        "        if ascii_code % 2 == 0:\n",
        "            result += char.upper()\n",
        "        else:  # ASCII code is odd\n",
        "            result += char.lower()\n",
        "    return result\n",
        "\n",
        "# Test cases\n",
        "print(ascii_capitalize(\"to be or not to be!\"))\n",
        "print(ascii_capitalize(\"THE LITTLE MERMAID\"))\n",
        "print(ascii_capitalize(\"Oh what a beautiful morning.\"))\n"
      ],
      "metadata": {
        "colab": {
          "base_uri": "https://localhost:8080/"
        },
        "id": "Hlet6uKCwicY",
        "outputId": "05692f79-1915-43e7-ea13-e0d239347a0c"
      },
      "execution_count": 13,
      "outputs": [
        {
          "output_type": "stream",
          "name": "stdout",
          "text": [
            "To Be oR NoT To Be!\n",
            "THe LiTTLe meRmaiD\n",
            "oH wHaT a BeauTiFuL moRNiNg.\n"
          ]
        }
      ]
    },
    {
      "cell_type": "code",
      "source": [],
      "metadata": {
        "id": "5waT18XgwiZJ"
      },
      "execution_count": null,
      "outputs": []
    },
    {
      "cell_type": "code",
      "source": [],
      "metadata": {
        "id": "HtQgkyM2wiWC"
      },
      "execution_count": null,
      "outputs": []
    }
  ]
}