{
  "nbformat": 4,
  "nbformat_minor": 0,
  "metadata": {
    "colab": {
      "provenance": []
    },
    "kernelspec": {
      "name": "python3",
      "display_name": "Python 3"
    },
    "language_info": {
      "name": "python"
    }
  },
  "cells": [
    {
      "cell_type": "markdown",
      "source": [
        "## Q:  Write a program that calculates and prints the value according to the given formula:\n",
        "Q = Square root of [(2 * C * D)/H]\n",
        "\n",
        "Following are the fixed values of C and H:\n",
        "C is 50. H is 30.\n",
        "\n",
        "D is the variable whose values should be input to your program in a comma-separated\n",
        "sequence.\n",
        "\n",
        "Example:\n",
        "\n",
        "Let us assume the following comma separated input sequence is given to the program:\n",
        "100,150,180\n",
        "The output of the program should be:\n",
        "18,22,24"
      ],
      "metadata": {
        "id": "eV4W0RXezClH"
      }
    },
    {
      "cell_type": "code",
      "execution_count": 50,
      "metadata": {
        "colab": {
          "base_uri": "https://localhost:8080/"
        },
        "id": "V1RP2e3spySx",
        "outputId": "700d96f3-a9e1-4fa1-fefe-b4c321603a58"
      },
      "outputs": [
        {
          "output_type": "stream",
          "name": "stdout",
          "text": [
            "25,20,31\n"
          ]
        }
      ],
      "source": [
        "import math\n",
        "\n",
        "def calculate_Q(D_values, C=50, H=30):\n",
        "    results = []\n",
        "    for D in D_values:\n",
        "        Q = math.sqrt((2 * C * D) / H)\n",
        "        results.append(int(Q))\n",
        "    return results\n",
        "\n",
        "# Example:\n",
        "input_sequence = \"200,120,300\"\n",
        "D_values = map(int, input_sequence.split(','))  # Convert the input string to a list of integers\n",
        "output_values = calculate_Q(D_values)\n",
        "print(','.join(map(str, output_values)))  # Convert the output list to a string for printing\n"
      ]
    },
    {
      "cell_type": "markdown",
      "source": [
        "## Q: Write a program which takes 2 digits, X,Y as input and generates a 2-dimensional array.\n",
        "The element value in the i-th row and j-th column of the array should be i*j.\n",
        "\n",
        "Note: i=0,1.., X-1; j=0,1,¡Y-1.\n",
        "\n",
        "Example:\n",
        "\n",
        "Suppose the following inputs are given to the program:\n",
        "3,5\n",
        "Then, the output of the program should be:\n",
        "[[0, 0, 0, 0, 0], [0, 1, 2, 3, 4], [0, 2, 4, 6, 8]]"
      ],
      "metadata": {
        "id": "HN2wu3vYz3mk"
      }
    },
    {
      "cell_type": "code",
      "source": [
        "def generate_2d_array(X, Y):\n",
        "    array_2d = []\n",
        "    for i in range(X):\n",
        "        row = []\n",
        "        for j in range(Y):\n",
        "            row.append(i * j)\n",
        "        array_2d.append(row)\n",
        "    return array_2d\n",
        "\n",
        "# Example:\n",
        "input_str = \"2,3\"\n",
        "X, Y = map(int, input_str.split(','))\n",
        "result = generate_2d_array(X, Y)\n",
        "print(result)\n"
      ],
      "metadata": {
        "colab": {
          "base_uri": "https://localhost:8080/"
        },
        "id": "pycRtGI80YV1",
        "outputId": "0d5f6732-9729-4581-c771-b279a1f1a149"
      },
      "execution_count": 52,
      "outputs": [
        {
          "output_type": "stream",
          "name": "stdout",
          "text": [
            "[[0, 0, 0], [0, 1, 2]]\n"
          ]
        }
      ]
    },
    {
      "cell_type": "markdown",
      "source": [
        "## Write a program that accepts a comma separated sequence of words as input and prints the words in a comma-separated sequence after sorting them alphabetically.\n",
        "\n",
        "Suppose the following input is supplied to the program:\n",
        "\n",
        "without,hello,bag,world\n",
        "\n",
        "Then, the output should be:\n",
        "\n",
        "bag,hello,without,world"
      ],
      "metadata": {
        "id": "_p41z3te0lh5"
      }
    },
    {
      "cell_type": "code",
      "source": [
        "def sort_words(input_string):\n",
        "    words = input_string.split(',')\n",
        "    sorted_words = sorted(words)\n",
        "    return ','.join(sorted_words)\n",
        "\n",
        "# Example:\n",
        "input_sequence = \"whale,hides,beneath,water\"\n",
        "sorted_sequence = sort_words(input_sequence)\n",
        "print(sorted_sequence)\n"
      ],
      "metadata": {
        "colab": {
          "base_uri": "https://localhost:8080/"
        },
        "id": "hn4xS3DaquL4",
        "outputId": "adfeb4c2-55df-42e2-e131-0bdc73c51a68"
      },
      "execution_count": 54,
      "outputs": [
        {
          "output_type": "stream",
          "name": "stdout",
          "text": [
            "beneath,hides,water,whale\n"
          ]
        }
      ]
    },
    {
      "cell_type": "markdown",
      "source": [
        "## Write a program that accepts a sequence of whitespace separated words as input and prints the words after removing all duplicate words and sorting them alphanumerically.\n",
        "\n",
        "Suppose the following input is supplied to the program:\n",
        "\n",
        "hello world and practice makes perfect and hello world again\n",
        "\n",
        "Then, the output should be:\n",
        "\n",
        "again and hello makes perfect practice world"
      ],
      "metadata": {
        "id": "SXpKo1vL1DW9"
      }
    },
    {
      "cell_type": "code",
      "source": [
        "def remove_duplicates_and_sort(input_string):\n",
        "    words = input_string.split()\n",
        "    unique_words = sorted(set(words))\n",
        "    return ' '.join(unique_words)\n",
        "\n",
        "# Example:\n",
        "input_sequence = \"hi wong you paints mask perfectly you hi wong again\"\n",
        "result = remove_duplicates_and_sort(input_sequence)\n",
        "print(result)\n"
      ],
      "metadata": {
        "colab": {
          "base_uri": "https://localhost:8080/"
        },
        "id": "53n4KFeJquIh",
        "outputId": "5143f1f2-99b3-4f5e-ec85-afdf3df19668"
      },
      "execution_count": 56,
      "outputs": [
        {
          "output_type": "stream",
          "name": "stdout",
          "text": [
            "again hi mask paints perfectly wong you\n"
          ]
        }
      ]
    },
    {
      "cell_type": "markdown",
      "source": [
        "## Write a program that accepts a sentence and calculate the number of letters and digits.\n",
        "\n",
        "Suppose the following input is supplied to the program:\n",
        "\n",
        "hello world! 123\n",
        "\n",
        "Then, the output should be:\n",
        "\n",
        "LETTERS 10\n",
        "\n",
        "DIGITS 3"
      ],
      "metadata": {
        "id": "be-AuerQ1orO"
      }
    },
    {
      "cell_type": "code",
      "source": [
        "def count_letters_and_digits(sentence):\n",
        "    letter_count = 0\n",
        "    digit_count = 0\n",
        "    for char in sentence:\n",
        "        if char.isalpha():\n",
        "            letter_count += 1\n",
        "        elif char.isdigit():\n",
        "            digit_count += 1\n",
        "    return letter_count, digit_count\n",
        "\n",
        "# Example:\n",
        "input_sentence = \"he Friend! 1199775858\"\n",
        "letters, digits = count_letters_and_digits(input_sentence)\n",
        "print(\"LETTERS\", letters)\n",
        "print(\"DIGITS\", digits)\n"
      ],
      "metadata": {
        "colab": {
          "base_uri": "https://localhost:8080/"
        },
        "id": "wz1sjfnMquGC",
        "outputId": "44d1bdb6-5417-41e6-9a4f-f561d013c7e3"
      },
      "execution_count": 58,
      "outputs": [
        {
          "output_type": "stream",
          "name": "stdout",
          "text": [
            "LETTERS 8\n",
            "DIGITS 10\n"
          ]
        }
      ]
    },
    {
      "cell_type": "markdown",
      "source": [
        "#A website requires the users to input username and password to register.\n",
        "\n",
        "Write a program to check the validity of password input by users.\n",
        "\n",
        "Following are the criteria for checking the password:\n",
        "1. At least 1 letter between [a-z]\n",
        "2. At least 1 number between [0-9]\n",
        "1. At least 1 letter between [A-Z]\n",
        "3. At least 1 character from [$#@]\n",
        "4. Minimum length of transaction password: 6\n",
        "5. Maximum length of transaction password: 12\n",
        "\n",
        "Your program should accept a sequence of comma separated passwords and will check them according to the above criteria. Passwords that match the criteria are to be printed, each separated by a comma.\n",
        "\n",
        "Example\n",
        "\n",
        "If the following passwords are given as input to the program:\n",
        "\n",
        "ABd1234@1,a F1#,2w3E*,2We3345\n",
        "\n",
        "Then, the output of the program should be:\n",
        "ABd1234@1"
      ],
      "metadata": {
        "id": "iSqQbuoq2B7o"
      }
    },
    {
      "cell_type": "code",
      "source": [
        "import re\n",
        "\n",
        "def is_valid_password(password):\n",
        "    # Check length\n",
        "    if len(password) < 6 or len(password) > 12:\n",
        "        return False\n",
        "    # Check lowercase letter\n",
        "    if not re.search(\"[a-z]\", password):\n",
        "        return False\n",
        "    # Check uppercase letter\n",
        "    if not re.search(\"[A-Z]\", password):\n",
        "        return False\n",
        "    # Check digit\n",
        "    if not re.search(\"[0-9]\", password):\n",
        "        return False\n",
        "    # Check special character\n",
        "    if not re.search(\"[$#@]\", password):\n",
        "        return False\n",
        "    return True\n",
        "\n",
        "# Example:\n",
        "passwords = [\"ABd1234@1\", \"a F1#\", \"2w3E*\", \"2We3345\"]\n",
        "valid_passwords = [password for password in passwords if is_valid_password(password)]\n",
        "if valid_passwords:\n",
        "    print(\",\".join(valid_passwords))\n",
        "else:\n",
        "    print(\"No valid passwords found.\")\n"
      ],
      "metadata": {
        "colab": {
          "base_uri": "https://localhost:8080/"
        },
        "id": "-wF-HMNEquDP",
        "outputId": "c5dac089-6b21-4e91-c423-8152a0a6fd02"
      },
      "execution_count": 61,
      "outputs": [
        {
          "output_type": "stream",
          "name": "stdout",
          "text": [
            "ABd1234@1\n"
          ]
        }
      ]
    },
    {
      "cell_type": "code",
      "source": [
        "\n"
      ],
      "metadata": {
        "id": "n13BCQJ8rkI9"
      },
      "execution_count": 58,
      "outputs": []
    }
  ]
}