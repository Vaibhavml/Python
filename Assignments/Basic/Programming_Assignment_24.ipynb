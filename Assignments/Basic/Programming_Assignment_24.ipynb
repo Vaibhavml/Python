{
  "nbformat": 4,
  "nbformat_minor": 0,
  "metadata": {
    "colab": {
      "provenance": []
    },
    "kernelspec": {
      "name": "python3",
      "display_name": "Python 3"
    },
    "language_info": {
      "name": "python"
    }
  },
  "cells": [
    {
      "cell_type": "code",
      "source": [
        "#Question: 1\n",
        "\n",
        "def amplify(num):\n",
        "    result = []\n",
        "    for i in range(1, num + 1):\n",
        "        if i % 4 == 0:  # If divisible by 4\n",
        "            result.append(i * 10)\n",
        "        else:\n",
        "            result.append(i)\n",
        "    return result\n",
        "\n",
        "# Test cases\n",
        "print(amplify(4))\n",
        "print(amplify(3))\n",
        "print(amplify(25))\n",
        "\n"
      ],
      "metadata": {
        "colab": {
          "base_uri": "https://localhost:8080/"
        },
        "id": "qVl6Lw0pt0Wc",
        "outputId": "18dd1cd8-7ba0-4dab-88d6-917c52dfd44a"
      },
      "execution_count": 14,
      "outputs": [
        {
          "output_type": "stream",
          "name": "stdout",
          "text": [
            "[1, 2, 3, 40]\n",
            "[1, 2, 3]\n",
            "[1, 2, 3, 40, 5, 6, 7, 80, 9, 10, 11, 120, 13, 14, 15, 160, 17, 18, 19, 200, 21, 22, 23, 240, 25]\n"
          ]
        }
      ]
    },
    {
      "cell_type": "code",
      "source": [
        "#Question: 2\n",
        "\n",
        "def unique(lst):\n",
        "    counts = {}\n",
        "    for num in lst:\n",
        "        if num in counts:\n",
        "            counts[num] += 1\n",
        "        else:\n",
        "            counts[num] = 1\n",
        "\n",
        "    for key, value in counts.items():\n",
        "        if value == 1:\n",
        "            return key\n",
        "\n",
        "\n",
        "print(unique([3, 3, 3, 7, 3, 3]))\n",
        "print(unique([0, 0, 0.77, 0, 0]))\n",
        "print(unique([0, 1, 1, 1, 1, 1, 1, 1]))\n"
      ],
      "metadata": {
        "colab": {
          "base_uri": "https://localhost:8080/"
        },
        "id": "Yjgi-dTAt8OU",
        "outputId": "9e55321d-f36d-4603-b27d-91525653d6ae"
      },
      "execution_count": 15,
      "outputs": [
        {
          "output_type": "stream",
          "name": "stdout",
          "text": [
            "7\n",
            "0.77\n",
            "0\n"
          ]
        }
      ]
    },
    {
      "cell_type": "code",
      "source": [
        "#Question: 3\n",
        "\n",
        "import math\n",
        "\n",
        "class Circle:\n",
        "    def __init__(self, radius):\n",
        "        self.radius = radius\n",
        "\n",
        "    def getArea(self):\n",
        "        return round(math.pi * self.radius ** 2)\n",
        "\n",
        "    def getPerimeter(self):\n",
        "        return round(2 * math.pi * self.radius)\n",
        "\n",
        "\n",
        "circy = Circle(11)\n",
        "print(circy.getArea())\n",
        "circy = Circle(4.44)\n",
        "print(circy.getPerimeter())\n",
        "\n"
      ],
      "metadata": {
        "colab": {
          "base_uri": "https://localhost:8080/"
        },
        "id": "xq9lyIs0uB67",
        "outputId": "1b75d0c3-f71f-4a75-ceb3-4d7da4aaf200"
      },
      "execution_count": 16,
      "outputs": [
        {
          "output_type": "stream",
          "name": "stdout",
          "text": [
            "380\n",
            "28\n"
          ]
        }
      ]
    },
    {
      "cell_type": "code",
      "source": [
        "#Question: 4\n",
        "\n",
        "def sort_by_length(lst):\n",
        "    return sorted(lst, key=len)\n",
        "\n",
        "# Test cases\n",
        "print(sort_by_length([\"Google\", \"Apple\", \"Microsoft\"]))\n",
        "print(sort_by_length([\"Leonardo\", \"Michelangelo\", \"Raphael\", \"Donatello\"]))\n",
        "print(sort_by_length([\"Turing\", \"Einstein\", \"Jung\"]))\n",
        "\n"
      ],
      "metadata": {
        "colab": {
          "base_uri": "https://localhost:8080/"
        },
        "id": "XRQNYkVewifg",
        "outputId": "23ff5b8c-f565-4c49-d9c1-c520c0f4ad7f"
      },
      "execution_count": 17,
      "outputs": [
        {
          "output_type": "stream",
          "name": "stdout",
          "text": [
            "['Apple', 'Google', 'Microsoft']\n",
            "['Raphael', 'Leonardo', 'Donatello', 'Michelangelo']\n",
            "['Jung', 'Turing', 'Einstein']\n"
          ]
        }
      ]
    },
    {
      "cell_type": "code",
      "source": [
        "#Question: 5\n",
        "\n",
        "def is_triplet(a, b, c):\n",
        "    # Sort the numbers\n",
        "    nums = sorted([a, b, c])\n",
        "\n",
        "    # Check if it forms a Pythagorean triplet\n",
        "    return nums[0]**2 + nums[1]**2 == nums[2]**2\n",
        "\n",
        "# Test cases\n",
        "print(is_triplet(3, 4, 5))\n",
        "print(is_triplet(13, 5, 12))\n",
        "print(is_triplet(1, 2, 3))\n"
      ],
      "metadata": {
        "colab": {
          "base_uri": "https://localhost:8080/"
        },
        "id": "Hlet6uKCwicY",
        "outputId": "df3b1d82-0ff1-4aa2-ce17-2323c083b2e9"
      },
      "execution_count": 18,
      "outputs": [
        {
          "output_type": "stream",
          "name": "stdout",
          "text": [
            "True\n",
            "True\n",
            "False\n"
          ]
        }
      ]
    },
    {
      "cell_type": "code",
      "source": [],
      "metadata": {
        "id": "5waT18XgwiZJ"
      },
      "execution_count": null,
      "outputs": []
    },
    {
      "cell_type": "code",
      "source": [],
      "metadata": {
        "id": "HtQgkyM2wiWC"
      },
      "execution_count": null,
      "outputs": []
    }
  ]
}