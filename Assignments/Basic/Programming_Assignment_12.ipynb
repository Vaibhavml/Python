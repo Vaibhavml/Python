{
  "nbformat": 4,
  "nbformat_minor": 0,
  "metadata": {
    "colab": {
      "provenance": []
    },
    "kernelspec": {
      "name": "python3",
      "display_name": "Python 3"
    },
    "language_info": {
      "name": "python"
    }
  },
  "cells": [
    {
      "cell_type": "code",
      "execution_count": 41,
      "metadata": {
        "colab": {
          "base_uri": "https://localhost:8080/"
        },
        "id": "V1RP2e3spySx",
        "outputId": "707225dd-e596-4123-bb5b-614a7bae6ab6"
      },
      "outputs": [
        {
          "output_type": "stream",
          "name": "stdout",
          "text": [
            "Unique values from the dictionary: [1, 2, 3, 4, 5]\n"
          ]
        }
      ],
      "source": [
        "# Q:  Write a Python program to Extract Unique dictionary values?\n",
        "\n",
        "def extract_unique_values(dictionary):\n",
        "    unique_values = set()\n",
        "    for value in dictionary.values():\n",
        "        if isinstance(value, list):\n",
        "            unique_values.update(value)\n",
        "        else:\n",
        "            unique_values.add(value)\n",
        "    return list(unique_values)\n",
        "\n",
        "# Example:\n",
        "my_dict = {\n",
        "    'a': 1,\n",
        "    'b': 2,\n",
        "    'c': [3, 4, 5],\n",
        "    'd': 2,\n",
        "    'e': [1, 3, 5]\n",
        "}\n",
        "\n",
        "unique_values = extract_unique_values(my_dict)\n",
        "print(\"Unique values from the dictionary:\", unique_values)\n"
      ]
    },
    {
      "cell_type": "code",
      "source": [
        "# Q: Write a Python program to find the sum of all items in a dictionary?\n",
        "\n",
        "def sum_of_items(dictionary):\n",
        "    total_sum = sum(dictionary.values())\n",
        "    return total_sum\n",
        "\n",
        "# Example:\n",
        "my_dict = {'a': 1, 'b': 2, 'c': 3}\n",
        "total = sum_of_items(my_dict)\n",
        "print(\"Sum of all values in the dictionary:\", total)\n"
      ],
      "metadata": {
        "colab": {
          "base_uri": "https://localhost:8080/"
        },
        "id": "hn4xS3DaquL4",
        "outputId": "ba086a30-62dc-4c34-97cb-f10324a8753a"
      },
      "execution_count": 42,
      "outputs": [
        {
          "output_type": "stream",
          "name": "stdout",
          "text": [
            "Sum of all values in the dictionary: 6\n"
          ]
        }
      ]
    },
    {
      "cell_type": "code",
      "source": [
        "# Q: Write a Python program to Merging two Dictionaries?\n",
        "\n",
        "def merge_dictionaries(dict1, dict2):\n",
        "    merged_dict = dict1.copy()  # Make a copy of the first dictionary\n",
        "    merged_dict.update(dict2)   # Update it with the second dictionary\n",
        "    return merged_dict\n",
        "\n",
        "# Example:\n",
        "dict1 = {'a': 1, 'b': 2}\n",
        "dict2 = {'c': 3, 'd': 4}\n",
        "merged_dict = merge_dictionaries(dict1, dict2)\n",
        "print(\"Merged dictionary:\", merged_dict)\n"
      ],
      "metadata": {
        "colab": {
          "base_uri": "https://localhost:8080/"
        },
        "id": "53n4KFeJquIh",
        "outputId": "3a04c377-e827-4bd1-e510-728e9e694209"
      },
      "execution_count": 43,
      "outputs": [
        {
          "output_type": "stream",
          "name": "stdout",
          "text": [
            "Merged dictionary: {'a': 1, 'b': 2, 'c': 3, 'd': 4}\n"
          ]
        }
      ]
    },
    {
      "cell_type": "code",
      "source": [
        "# Q: Write a Python program to convert key-values list to flat dictionary?\n",
        "\n",
        "def list_to_flat_dict(kv_list):\n",
        "    flat_dict = {}\n",
        "    for pair in kv_list:\n",
        "        if len(pair) == 2:\n",
        "            key, value = pair\n",
        "            flat_dict[key] = value\n",
        "    return flat_dict\n",
        "\n",
        "# Example:\n",
        "key_values_list = [(\"a\", 1), (\"b\", 2), (\"c\", 3)]\n",
        "flat_dictionary = list_to_flat_dict(key_values_list)\n",
        "print(\"Flat dictionary:\", flat_dictionary)\n"
      ],
      "metadata": {
        "colab": {
          "base_uri": "https://localhost:8080/"
        },
        "id": "wz1sjfnMquGC",
        "outputId": "145fe35a-7794-47b3-a189-94284c535df7"
      },
      "execution_count": 44,
      "outputs": [
        {
          "output_type": "stream",
          "name": "stdout",
          "text": [
            "Flat dictionary: {'a': 1, 'b': 2, 'c': 3}\n"
          ]
        }
      ]
    },
    {
      "cell_type": "code",
      "source": [
        "# Q: Write a Python program to insertion at the beginning in OrderedDict\n",
        "\n",
        "from collections import OrderedDict\n",
        "\n",
        "def insert_at_beginning(ordered_dict, key, value):\n",
        "    new_ordered_dict = OrderedDict([(key, value)])\n",
        "    for k, v in ordered_dict.items():\n",
        "        new_ordered_dict[k] = v\n",
        "    return new_ordered_dict\n",
        "\n",
        "# Example:\n",
        "ordered_dict = OrderedDict([('a', 1), ('b', 2), ('c', 3)])\n",
        "key_to_insert = 'x'\n",
        "value_to_insert = 10\n",
        "modified_ordered_dict = insert_at_beginning(ordered_dict, key_to_insert, value_to_insert)\n",
        "print(\"Modified OrderedDict:\", modified_ordered_dict)\n"
      ],
      "metadata": {
        "colab": {
          "base_uri": "https://localhost:8080/"
        },
        "id": "-wF-HMNEquDP",
        "outputId": "c69840ac-7699-4faa-cad3-7827113cc12e"
      },
      "execution_count": 45,
      "outputs": [
        {
          "output_type": "stream",
          "name": "stdout",
          "text": [
            "Modified OrderedDict: OrderedDict([('x', 10), ('a', 1), ('b', 2), ('c', 3)])\n"
          ]
        }
      ]
    },
    {
      "cell_type": "code",
      "source": [
        "# Q: Write a Python program to check order of character in string using OrderedDict()?\n",
        "\n",
        "from collections import OrderedDict\n",
        "\n",
        "def check_order_of_characters(input_string, pattern):\n",
        "    char_dict = OrderedDict.fromkeys(input_string, 0)\n",
        "    pattern_index = 0\n",
        "    for char in input_string:\n",
        "        if char == pattern[pattern_index]:\n",
        "            pattern_index += 1\n",
        "            if pattern_index == len(pattern):\n",
        "                return True\n",
        "    return False\n",
        "\n",
        "# Example:\n",
        "input_str = \"hello world\"\n",
        "pattern = \"llo\"\n",
        "if check_order_of_characters(input_str, pattern):\n",
        "    print(f\"The pattern '{pattern}' appears in the string with the same order of characters.\")\n",
        "else:\n",
        "    print(f\"The pattern '{pattern}' does not appear in the string with the same order of characters.\")\n",
        "\n"
      ],
      "metadata": {
        "colab": {
          "base_uri": "https://localhost:8080/"
        },
        "id": "Gu065PlxquAR",
        "outputId": "df35cdcf-2576-46b0-8864-742171420270"
      },
      "execution_count": 46,
      "outputs": [
        {
          "output_type": "stream",
          "name": "stdout",
          "text": [
            "The pattern 'llo' appears in the string with the same order of characters.\n"
          ]
        }
      ]
    },
    {
      "cell_type": "code",
      "source": [
        "# Q: Write a Python program to sort Python Dictionaries by Key or Value?\n",
        "\n",
        "#Sort by Key:\n",
        "def sort_by_key(dictionary):\n",
        "    sorted_dict = dict(sorted(dictionary.items()))\n",
        "    return sorted_dict\n",
        "\n",
        "# Example:\n",
        "my_dict = {'b': 2, 'a': 1, 'd': 4, 'c': 3}\n",
        "sorted_by_key = sort_by_key(my_dict)\n",
        "print(\"Dictionary sorted by key:\", sorted_by_key)\n"
      ],
      "metadata": {
        "colab": {
          "base_uri": "https://localhost:8080/"
        },
        "id": "n13BCQJ8rkI9",
        "outputId": "8ca9815e-fd11-408a-f7c0-6943a90a9ee3"
      },
      "execution_count": 47,
      "outputs": [
        {
          "output_type": "stream",
          "name": "stdout",
          "text": [
            "Dictionary sorted by key: {'a': 1, 'b': 2, 'c': 3, 'd': 4}\n"
          ]
        }
      ]
    },
    {
      "cell_type": "code",
      "source": [
        "# Q: Write a Python program to sort Python Dictionaries by Key or Value?\n",
        "\n",
        "#Sort by Value:\n",
        "def sort_by_value(dictionary):\n",
        "    sorted_dict = dict(sorted(dictionary.items(), key=lambda item: item[1]))\n",
        "    return sorted_dict\n",
        "\n",
        "# Example:\n",
        "my_dict = {'b': 2, 'a': 1, 'd': 4, 'c': 3}\n",
        "sorted_by_value = sort_by_value(my_dict)\n",
        "print(\"Dictionary sorted by value:\", sorted_by_value)\n"
      ],
      "metadata": {
        "colab": {
          "base_uri": "https://localhost:8080/"
        },
        "id": "GOoVtEXbuTO7",
        "outputId": "a2bc883d-25ba-4d8a-9f0b-30417b6f07e8"
      },
      "execution_count": 48,
      "outputs": [
        {
          "output_type": "stream",
          "name": "stdout",
          "text": [
            "Dictionary sorted by value: {'a': 1, 'b': 2, 'c': 3, 'd': 4}\n"
          ]
        }
      ]
    },
    {
      "cell_type": "code",
      "source": [],
      "metadata": {
        "id": "u4fz29wGyZRn"
      },
      "execution_count": 48,
      "outputs": []
    }
  ]
}