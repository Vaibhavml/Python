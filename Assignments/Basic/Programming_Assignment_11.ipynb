{
  "nbformat": 4,
  "nbformat_minor": 0,
  "metadata": {
    "colab": {
      "provenance": []
    },
    "kernelspec": {
      "name": "python3",
      "display_name": "Python 3"
    },
    "language_info": {
      "name": "python"
    }
  },
  "cells": [
    {
      "cell_type": "code",
      "execution_count": 25,
      "metadata": {
        "colab": {
          "base_uri": "https://localhost:8080/"
        },
        "id": "V1RP2e3spySx",
        "outputId": "cb49def3-3696-42e2-96eb-6f9727d2649e"
      },
      "outputs": [
        {
          "output_type": "stream",
          "name": "stdout",
          "text": [
            "Words greater than length 5: ['banana', 'orange']\n"
          ]
        }
      ],
      "source": [
        "# Q:  Write a Python program to find words which are greater than given length k?\n",
        "\n",
        "def find_words_greater_than_length(words, k):\n",
        "    return [word for word in words if len(word) > k]\n",
        "\n",
        "# Example:\n",
        "word_list = [\"apple\", \"banana\", \"orange\", \"kiwi\", \"grape\"]\n",
        "k = 5\n",
        "result = find_words_greater_than_length(word_list, k)\n",
        "print(f\"Words greater than length {k}: {result}\")\n"
      ]
    },
    {
      "cell_type": "code",
      "source": [
        "# Q: Write a Python program for removing i-th character from a string?\n",
        "\n",
        "def remove_ith_character(s, i):\n",
        "    if i < 0 or i >= len(s):\n",
        "        return \"Invalid index\"\n",
        "    return s[:i] + s[i+1:]\n",
        "\n",
        "# Example:\n",
        "input_string = \"example\"\n",
        "index_to_remove = 2\n",
        "result = remove_ith_character(input_string, index_to_remove)\n",
        "print(f\"The string after removing the {index_to_remove}-th character:\", result)\n"
      ],
      "metadata": {
        "colab": {
          "base_uri": "https://localhost:8080/"
        },
        "id": "hn4xS3DaquL4",
        "outputId": "78fd7389-8b2d-40ea-faa1-d8a213962be5"
      },
      "execution_count": 26,
      "outputs": [
        {
          "output_type": "stream",
          "name": "stdout",
          "text": [
            "The string after removing the 2-th character: exmple\n"
          ]
        }
      ]
    },
    {
      "cell_type": "code",
      "source": [
        "# Q: Write a Python program to split and join a string?\n",
        "\n",
        "def split_and_join(input_string):\n",
        "    # Splitting the string into a list of words\n",
        "    words = input_string.split()\n",
        "\n",
        "    # Joining the words back into a single string with spaces between them\n",
        "    joined_string = \" \".join(words)\n",
        "\n",
        "    return words, joined_string\n",
        "\n",
        "# Example:\n",
        "input_string = \"Hello, this is a sample string.\"\n",
        "split_words, joined_string = split_and_join(input_string)\n",
        "print(\"Original string:\", input_string)\n",
        "print(\"Split words:\", split_words)\n",
        "print(\"Joined string:\", joined_string)\n"
      ],
      "metadata": {
        "colab": {
          "base_uri": "https://localhost:8080/"
        },
        "id": "53n4KFeJquIh",
        "outputId": "fddd5d03-f828-4adb-daae-feeb88cf1e64"
      },
      "execution_count": 27,
      "outputs": [
        {
          "output_type": "stream",
          "name": "stdout",
          "text": [
            "Original string: Hello, this is a sample string.\n",
            "Split words: ['Hello,', 'this', 'is', 'a', 'sample', 'string.']\n",
            "Joined string: Hello, this is a sample string.\n"
          ]
        }
      ]
    },
    {
      "cell_type": "code",
      "source": [
        "# Q: Write a Python to check if a given string is binary string or not?\n",
        "\n",
        "def is_binary_string(input_string):\n",
        "    for char in input_string:\n",
        "        if char not in '01':\n",
        "            return False\n",
        "    return True\n",
        "\n",
        "# Example:\n",
        "input_str = \"101010101\"\n",
        "if is_binary_string(input_str):\n",
        "    print(f\"The string '{input_str}' is a binary string.\")\n",
        "else:\n",
        "    print(f\"The string '{input_str}' is not a binary string.\")\n",
        "\n"
      ],
      "metadata": {
        "colab": {
          "base_uri": "https://localhost:8080/"
        },
        "id": "wz1sjfnMquGC",
        "outputId": "d7605c7e-b6c6-48ce-8aad-5541ee87a1a9"
      },
      "execution_count": 28,
      "outputs": [
        {
          "output_type": "stream",
          "name": "stdout",
          "text": [
            "The string '101010101' is a binary string.\n"
          ]
        }
      ]
    },
    {
      "cell_type": "code",
      "source": [
        "# Q: Write a Python program to find uncommon words from two Strings?\n",
        "\n",
        "def find_uncommon_words(string1, string2):\n",
        "    words1 = set(string1.split())\n",
        "    words2 = set(string2.split())\n",
        "    uncommon_words = words1.symmetric_difference(words2)\n",
        "    return uncommon_words\n",
        "\n",
        "# Example:\n",
        "string1 = \"apple banana mango\"\n",
        "string2 = \"banana mango orange\"\n",
        "uncommon = find_uncommon_words(string1, string2)\n",
        "print(\"Uncommon words:\", uncommon)\n"
      ],
      "metadata": {
        "colab": {
          "base_uri": "https://localhost:8080/"
        },
        "id": "-wF-HMNEquDP",
        "outputId": "ec50fea8-5979-43fe-bd06-6546aec45ad5"
      },
      "execution_count": 29,
      "outputs": [
        {
          "output_type": "stream",
          "name": "stdout",
          "text": [
            "Uncommon words: {'orange', 'apple'}\n"
          ]
        }
      ]
    },
    {
      "cell_type": "code",
      "source": [
        "# Q: Write a Python to find all duplicate characters in string?\n",
        "\n",
        "def find_duplicate_characters(input_string):\n",
        "    duplicates = []\n",
        "    seen = set()\n",
        "    for char in input_string:\n",
        "        if char in seen:\n",
        "            duplicates.append(char)\n",
        "        else:\n",
        "            seen.add(char)\n",
        "    return duplicates\n",
        "\n",
        "# Example:\n",
        "input_str = \"hello\"\n",
        "duplicate_chars = find_duplicate_characters(input_str)\n",
        "if duplicate_chars:\n",
        "    print(\"Duplicate characters:\", duplicate_chars)\n",
        "else:\n",
        "    print(\"No duplicate characters found in the string.\")\n",
        "\n"
      ],
      "metadata": {
        "colab": {
          "base_uri": "https://localhost:8080/"
        },
        "id": "Gu065PlxquAR",
        "outputId": "191298ea-be96-4988-f46c-cef0cf29232d"
      },
      "execution_count": 30,
      "outputs": [
        {
          "output_type": "stream",
          "name": "stdout",
          "text": [
            "Duplicate characters: ['l']\n"
          ]
        }
      ]
    },
    {
      "cell_type": "code",
      "source": [
        "# Q: Write a Python Program to check if a string contains any special character?\n",
        "\n",
        "import re\n",
        "\n",
        "def contains_special_character(input_string):\n",
        "    # Regular expression to match any special character\n",
        "    special_chars_pattern = re.compile(r'[@_!#$%^&*()<>?/\\|}{~:]')\n",
        "    # Search for any special character in the input string\n",
        "    if special_chars_pattern.search(input_string):\n",
        "        return True\n",
        "    else:\n",
        "        return False\n",
        "\n",
        "# Example:\n",
        "input_str = \"Hello! How are you?\"\n",
        "if contains_special_character(input_str):\n",
        "    print(\"The string contains special characters.\")\n",
        "else:\n",
        "    print(\"The string does not contain any special characters.\")\n"
      ],
      "metadata": {
        "colab": {
          "base_uri": "https://localhost:8080/"
        },
        "id": "n13BCQJ8rkI9",
        "outputId": "e2ad0df9-e268-4053-a9f3-df1abd0ede7b"
      },
      "execution_count": 31,
      "outputs": [
        {
          "output_type": "stream",
          "name": "stdout",
          "text": [
            "The string contains special characters.\n"
          ]
        }
      ]
    },
    {
      "cell_type": "code",
      "source": [],
      "metadata": {
        "id": "GOoVtEXbuTO7"
      },
      "execution_count": null,
      "outputs": []
    }
  ]
}