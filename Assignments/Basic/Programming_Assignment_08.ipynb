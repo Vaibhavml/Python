{
  "nbformat": 4,
  "nbformat_minor": 0,
  "metadata": {
    "colab": {
      "provenance": []
    },
    "kernelspec": {
      "name": "python3",
      "display_name": "Python 3"
    },
    "language_info": {
      "name": "python"
    }
  },
  "cells": [
    {
      "cell_type": "code",
      "source": [
        "# Q: Write a Python Program to Add Two Matrices?\n",
        "import numpy as np\n",
        "\n",
        "def add_matrices(mat1, mat2):\n",
        "\n",
        "    np_mat1 = np.array(mat1)\n",
        "    np_mat2 = np.array(mat2)\n",
        "    result = np_mat1 + np_mat2\n",
        "    return result\n",
        "\n",
        "matrix1 = [[1, 2, 3],\n",
        "           [4, 5, 6],\n",
        "           [7, 8, 9]]\n",
        "\n",
        "matrix2 = [[9, 8, 7],\n",
        "           [6, 5, 4],\n",
        "           [3, 2, 1]]\n",
        "\n",
        "print(\"Matrix 1:\\n\")\n",
        "print(np.array(matrix1))\n",
        "\n",
        "print(\"\\nMatrix 2:\\n\")\n",
        "print(np.array(matrix2))\n",
        "\n",
        "result_matrix = add_matrices(matrix1, matrix2)\n",
        "print(\"\\nResult of adding the two matrices:\\n\")\n",
        "print(result_matrix)\n"
      ],
      "metadata": {
        "colab": {
          "base_uri": "https://localhost:8080/"
        },
        "id": "Fl0H7DN7reU8",
        "outputId": "e24b5de3-23d4-463a-aaaf-d83f914f7396"
      },
      "execution_count": 7,
      "outputs": [
        {
          "output_type": "stream",
          "name": "stdout",
          "text": [
            "Matrix 1:\n",
            "\n",
            "[[1 2 3]\n",
            " [4 5 6]\n",
            " [7 8 9]]\n",
            "\n",
            "Matrix 2:\n",
            "\n",
            "[[9 8 7]\n",
            " [6 5 4]\n",
            " [3 2 1]]\n",
            "\n",
            "Result of adding the two matrices:\n",
            "\n",
            "[[10 10 10]\n",
            " [10 10 10]\n",
            " [10 10 10]]\n"
          ]
        }
      ]
    },
    {
      "cell_type": "code",
      "source": [
        "# Q: Write a Python Program to Multiply Two Matrices\n",
        "import numpy as np\n",
        "\n",
        "def multiply_matrices(mat1, mat2):\n",
        "\n",
        "    np_mat1 = np.array(mat1)\n",
        "    np_mat2 = np.array(mat2)\n",
        "    result = np.dot(np_mat1, np_mat2)\n",
        "    return result\n",
        "\n",
        "matrix1 = [[1, 2, 3],\n",
        "           [4, 5, 6],\n",
        "           [7, 8, 9]]\n",
        "\n",
        "matrix2 = [[9, 8, 7],\n",
        "           [6, 5, 4],\n",
        "           [3, 2, 1]]\n",
        "\n",
        "print(\"Matrix 1:\")\n",
        "print(np.array(matrix1))\n",
        "\n",
        "print(\"\\nMatrix 2:\")\n",
        "print(np.array(matrix2))\n",
        "\n",
        "result_matrix = multiply_matrices(matrix1, matrix2)\n",
        "print(\"\\nResult of multiplying the two matrices:\")\n",
        "print(result_matrix)\n"
      ],
      "metadata": {
        "colab": {
          "base_uri": "https://localhost:8080/"
        },
        "id": "017xrkmisN60",
        "outputId": "6bf94103-9ebb-476a-a183-68fc6fb6551c"
      },
      "execution_count": 8,
      "outputs": [
        {
          "output_type": "stream",
          "name": "stdout",
          "text": [
            "Matrix 1:\n",
            "[[1 2 3]\n",
            " [4 5 6]\n",
            " [7 8 9]]\n",
            "\n",
            "Matrix 2:\n",
            "[[9 8 7]\n",
            " [6 5 4]\n",
            " [3 2 1]]\n",
            "\n",
            "Result of multiplying the two matrices:\n",
            "[[ 30  24  18]\n",
            " [ 84  69  54]\n",
            " [138 114  90]]\n"
          ]
        }
      ]
    },
    {
      "cell_type": "code",
      "source": [
        "# Q: Write a Python Program to Transpose a Matrix\n",
        "import numpy as np\n",
        "\n",
        "def transpose_matrix(mat):\n",
        "\n",
        "    np_mat = np.array(mat)\n",
        "    transposed_mat = np.transpose(np_mat)\n",
        "    return transposed_mat\n",
        "\n",
        "matrix = [[1, 2, 3],\n",
        "          [4, 5, 6],\n",
        "          [7, 8, 9]]\n",
        "\n",
        "print(\"Original Matrix:\")\n",
        "print(np.array(matrix))\n",
        "\n",
        "transposed_matrix = transpose_matrix(matrix)\n",
        "print(\"\\nTransposed Matrix:\")\n",
        "print(transposed_matrix)\n"
      ],
      "metadata": {
        "colab": {
          "base_uri": "https://localhost:8080/"
        },
        "id": "LiMijPShsN3Q",
        "outputId": "76a58bb0-0971-476f-947d-a1a4d80781f2"
      },
      "execution_count": 9,
      "outputs": [
        {
          "output_type": "stream",
          "name": "stdout",
          "text": [
            "Original Matrix:\n",
            "[[1 2 3]\n",
            " [4 5 6]\n",
            " [7 8 9]]\n",
            "\n",
            "Transposed Matrix:\n",
            "[[1 4 7]\n",
            " [2 5 8]\n",
            " [3 6 9]]\n"
          ]
        }
      ]
    },
    {
      "cell_type": "code",
      "source": [
        "# Q: Write a Python Program to Sort Words in Alphabetic Order\n",
        "def sort_words_alphabetically(sentence):\n",
        "\n",
        "    words = sentence.split()\n",
        "    sorted_words = sorted(words)\n",
        "    sorted_sentence = ' '.join(sorted_words)\n",
        "    return sorted_sentence\n",
        "\n",
        "sentence = \"Python program to sort words in alphabetical order\"\n",
        "print(\"Original Sentence:\", sentence)\n",
        "print(\"Sentence with words sorted in alphabetical order:\", sort_words_alphabetically(sentence))\n",
        "\n"
      ],
      "metadata": {
        "colab": {
          "base_uri": "https://localhost:8080/"
        },
        "id": "dx9YTkmpsN0f",
        "outputId": "1f3b54ce-87fc-4676-dfb4-b365aac00496"
      },
      "execution_count": 10,
      "outputs": [
        {
          "output_type": "stream",
          "name": "stdout",
          "text": [
            "Original Sentence: Python program to sort words in alphabetical order\n",
            "Sentence with words sorted in alphabetical order: Python alphabetical in order program sort to words\n"
          ]
        }
      ]
    },
    {
      "cell_type": "code",
      "source": [
        "# Q: Write a Python Program to Remove Punctuation From a String\n",
        "\n",
        "import string\n",
        "\n",
        "def remove_punctuation(sentence):\n",
        "\n",
        "\n",
        "    translator = str.maketrans('', '', string.punctuation)\n",
        "\n",
        "    cleaned_sentence = sentence.translate(translator)\n",
        "    return cleaned_sentence\n",
        "\n",
        "text = \"Hello! How are you? I'm doing fine, thank you.\"\n",
        "print(\"Original Text:\", text)\n",
        "print(\"Text with punctuation removed:\", remove_punctuation(text))\n"
      ],
      "metadata": {
        "colab": {
          "base_uri": "https://localhost:8080/"
        },
        "id": "ZEyfBSPQsNxf",
        "outputId": "f7535371-b851-4de2-af74-1eed364db645"
      },
      "execution_count": 13,
      "outputs": [
        {
          "output_type": "stream",
          "name": "stdout",
          "text": [
            "Original Text: Hello! How are you? I'm doing fine, thank you.\n",
            "Text with punctuation removed: Hello How are you Im doing fine thank you\n"
          ]
        }
      ]
    },
    {
      "cell_type": "code",
      "source": [],
      "metadata": {
        "id": "9ZAsGk6IuBJI"
      },
      "execution_count": null,
      "outputs": []
    }
  ]
}