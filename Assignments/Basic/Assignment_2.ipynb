{
  "nbformat": 4,
  "nbformat_minor": 0,
  "metadata": {
    "colab": {
      "provenance": []
    },
    "kernelspec": {
      "name": "python3",
      "display_name": "Python 3"
    },
    "language_info": {
      "name": "python"
    }
  },
  "cells": [
    {
      "cell_type": "markdown",
      "source": [
        "# Q: What are the two values of the Boolean data type? How do you write them?\n",
        "Ans:\n",
        "The Boolean data type has two values: true and false.\n",
        "These values represent logical truth and falsehood, respectively.\n",
        "In many programming languages, you write them exactly as shown: true and false.\n",
        "These values are commonly used in logical expressions, conditional statementsand Boolean algebra operations."
      ],
      "metadata": {
        "id": "PlsATIJRkc8q"
      }
    },
    {
      "cell_type": "markdown",
      "source": [
        "Q:  What are the three different types of Boolean operators?\n",
        "\n",
        "Ans:\n",
        "The three different types of Boolean operators are:\n",
        "-\tAND Operator (&& or AND): This operator returns true if both operands are true, otherwise, it returns false.\n",
        "\n",
        "-\tOR Operator (|| or OR): This operator returns true if at least one of the operands is true, otherwise, it returns false.\n",
        "\n",
        " - NOT Operator (! or NOT): This operator returns the opposite boolean value of the operand. If    the operand is true, NOT returns false, and if the operand is false, NOT returns true.\n"
      ],
      "metadata": {
        "id": "HiHT1qnOknSr"
      }
    },
    {
      "cell_type": "markdown",
      "source": [
        "Q: Make a list of each Boolean operator's truth tables (i.e. every possible combination of Boolean values for the operator and what it evaluate ).\n",
        "\n",
        "Ans:\n",
        "\n",
        "Here are the truth tables for each Boolean operator:\n",
        "\n",
        "\n",
        "\n",
        "OR Operator (|| or OR):\n",
        "A     B     A || B\n",
        "----------------\n",
        "true   true   true\n",
        "true   false  true\n",
        "false  true   true\n",
        "false  false  false\n",
        "\n",
        "NOT Operator (! or NOT):\n",
        "A    !A\n",
        "-------\n",
        "true  false\n",
        "false true\n",
        "\n",
        "\n"
      ],
      "metadata": {
        "id": "H5TcR_alk00H"
      }
    },
    {
      "cell_type": "code",
      "source": [
        "AND Operator (&& or AND):\n",
        "A     B      A && B\n",
        "----------------\n",
        "true   true   true\n",
        "true   false  false\n",
        "false  true   false\n",
        "false  false  false\n",
        "\n",
        "OR Operator (|| or OR):\n",
        "A     B     A || B\n",
        "----------------\n",
        "true   true   true\n",
        "true   false  true\n",
        "false  true   true\n",
        "false  false  false\n",
        "\n",
        "NOT Operator (! or NOT):\n",
        "A    !A\n",
        "-------\n",
        "true  false\n",
        "false true\n"
      ],
      "metadata": {
        "id": "VBYY-GkllVNa"
      },
      "execution_count": null,
      "outputs": []
    },
    {
      "cell_type": "code",
      "execution_count": null,
      "metadata": {
        "id": "LbJ4U-RNicv2"
      },
      "outputs": [],
      "source": [
        "# Q: What are the six comparison operators?\n",
        "\n",
        "Equal to (==): Checks if two values are equal.\n",
        "Not equal to (!=): Checks if two values are not equal.\n",
        "Greater than (>): Checks if the left operand is greater than the right operand.\n",
        "Less than (<): Checks if the left operand is less than the right operand.\n",
        "Greater than or equal to (>=): Checks if the left operand is greater than or equal to the right operand.\n",
        "Less than or equal to (<=): Checks if the left operand is less than or equal to the right operand.\n"
      ]
    },
    {
      "cell_type": "code",
      "source": [
        "# Q: How do you tell the difference between the equal to and assignment operators? Describe a condition and when you would use one.\n",
        "In programming, the equal to (==) operator is used for comparison, while the assignment operator (=) is used for assigning a value to a variable.\n",
        "Here's how we can tell the difference:\n",
        "#Equal to (==) operator: This is used to compare two values to check if they are equal. For example:\n",
        "x = 5\n",
        "y = 7\n",
        "if x == y:\n",
        "    print(\"x is equal to y\")\n",
        "else:\n",
        "    print(\"x is not equal to y\")\n",
        "\n",
        "# Assignment (=) operator: This is used to assign a value to a variable. For example:\n",
        "x = 5\n"
      ],
      "metadata": {
        "id": "_56BB2GSlr56"
      },
      "execution_count": null,
      "outputs": []
    },
    {
      "cell_type": "markdown",
      "source": [
        "A condition where we would use the equal to (==) operator is when you want to check if two values are equal before performing some action. For example, we might use it in an if statement to execute a block of code only if two values are equal.\n",
        "On the other hand, we would use the assignment (=) operator when you want to assign a value to a variable. This is commonly used when initializing variables or updating their values as the program runs.\n"
      ],
      "metadata": {
        "id": "e2cXtYzimD4f"
      }
    },
    {
      "cell_type": "markdown",
      "source": [
        "# Q: If your programme is stuck in an endless loop, what keys you’ll press?\n",
        "\n",
        "- If your program is stuck in an endless loop and you need to interrupt or terminate it, you can typically press one of the following key combinations:\n",
        "- Ctrl + C: This is a common key combination used to send an interrupt signal to the running process. In many command-line interfaces and terminal environments, pressing Ctrl + C will interrupt the execution of the program and stop the endless loop.\n",
        "\n",
        "- Ctrl + Break: On some systems, particularly in certain IDEs or development environments, Ctrl + Break can also be used to send an interrupt signal similar to Ctrl + C.\n",
        "\n",
        "- Ctrl + \\ (Ctrl + backslash): This is another key combination that can be used to terminate a program. It sends a quit signal, which can forcefully terminate the program if Ctrl + C doesn't work.\n",
        "\n",
        "- Ctrl + Shift + Esc: In some operating systems, like Windows, this key combination opens the Task Manager. From there, you can find the process associated with your program and end it.\n",
        "\n",
        "- Ctrl + Alt + Del: This key combination can also bring up options to open the Task Manager (in Windows) or the equivalent in other operating systems. From there, you can force quit the program.\n"
      ],
      "metadata": {
        "id": "4ZvYS3G2mLmP"
      }
    },
    {
      "cell_type": "markdown",
      "source": [
        "Q: How can you tell the difference between break and continue?\n",
        "\n",
        "Break:\n",
        "When we encounter the break statement within a loop, it immediately terminates the loop's execution and continues with the next statement after the loop.\n",
        "It completely exits the loop, regardless of any remaining iterations.\n",
        "It's commonly used to prematurely exit a loop when a certain condition is met or to end the loop when further iterations are unnecessary.\n",
        "\n",
        "Continue:\n",
        "When we encounter the continue statement within a loop, it skips the current iteration of the loop and proceeds with the next iteration.\n",
        "It doesn't terminate the loop; instead, it jumps to the next iteration.\n",
        "It's typically used to skip over certain iterations of a loop based on a specific condition, without completely exiting the loop.\n",
        "After encountering continue, the loop's control moves back to the loop's condition check\n"
      ],
      "metadata": {
        "id": "c-Q3ieuTmfjF"
      }
    },
    {
      "cell_type": "markdown",
      "source": [
        "Q: In a for loop, what is the difference between range(10), range(0, 10), and range(0, 10, 1)?\n",
        "\n",
        "- In a for loop, range(10), range(0, 10), and range(0, 10, 1) will produce the same sequence of numbers. They all generate a sequence of integers from 0 up to (but not including) 10, incrementing by 1 at each step."
      ],
      "metadata": {
        "id": "ddSfBwz4mtoj"
      }
    },
    {
      "cell_type": "code",
      "source": [
        "# Write a short program that prints the numbers 1 to 10 using a for loop\n",
        "for i in range(1, 11):\n",
        "  print(i)"
      ],
      "metadata": {
        "colab": {
          "base_uri": "https://localhost:8080/"
        },
        "id": "z6LWiDCTm1fz",
        "outputId": "d8ad4de0-a985-4001-9f38-3fb6c8d4767f"
      },
      "execution_count": 1,
      "outputs": [
        {
          "output_type": "stream",
          "name": "stdout",
          "text": [
            "1\n",
            "2\n",
            "3\n",
            "4\n",
            "5\n",
            "6\n",
            "7\n",
            "8\n",
            "9\n",
            "10\n"
          ]
        }
      ]
    },
    {
      "cell_type": "code",
      "source": [
        "# write an equivalent program that prints the numbers 1 to 10 using a while loop.\n",
        "i = 1\n",
        "while i <= 10:\n",
        "  print(i)\n",
        "  i += 1\n"
      ],
      "metadata": {
        "colab": {
          "base_uri": "https://localhost:8080/"
        },
        "id": "obj6xEz_l89Y",
        "outputId": "a8ebfd32-4bd5-4118-dbfd-2a15361aebe6"
      },
      "execution_count": 2,
      "outputs": [
        {
          "output_type": "stream",
          "name": "stdout",
          "text": [
            "1\n",
            "2\n",
            "3\n",
            "4\n",
            "5\n",
            "6\n",
            "7\n",
            "8\n",
            "9\n",
            "10\n"
          ]
        }
      ]
    },
    {
      "cell_type": "code",
      "source": [
        "Q: If you had a function named bacon() inside a module named spam, how would you call it after importing spam?\n",
        "\n",
        "# Import the spam module\n",
        "import spam\n",
        "\n",
        "# Call the bacon() function using the module name and dot notation\n",
        "spam.bacon()\n"
      ],
      "metadata": {
        "id": "e3Px88ndnU6b"
      },
      "execution_count": null,
      "outputs": []
    }
  ]
}