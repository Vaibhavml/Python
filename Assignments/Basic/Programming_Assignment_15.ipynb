{
  "nbformat": 4,
  "nbformat_minor": 0,
  "metadata": {
    "colab": {
      "provenance": []
    },
    "kernelspec": {
      "name": "python3",
      "display_name": "Python 3"
    },
    "language_info": {
      "name": "python"
    }
  },
  "cells": [
    {
      "cell_type": "code",
      "execution_count": 14,
      "metadata": {
        "colab": {
          "base_uri": "https://localhost:8080/"
        },
        "id": "V1RP2e3spySx",
        "outputId": "b78ef097-65d7-43ee-9c81-043358447047"
      },
      "outputs": [
        {
          "output_type": "stream",
          "name": "stdout",
          "text": [
            "Enter the value of n: 200\n",
            "0,35,70,105,140,175\n"
          ]
        }
      ],
      "source": [
        "# Q: Please write a program using generator to print the numbers which can be divisible by 5 and\n",
        "# 7 between 0 and n in comma separated form while n is input by console.\n",
        "# Example:\n",
        "# If the following n is given as input to the program:\n",
        "# 100\n",
        "# Then, the output of the program should be:\n",
        "# 0,35,70\n",
        "\n",
        "def divisible_by_5_and_7(n):\n",
        "    for i in range(n + 1):\n",
        "        if i % 5 == 0 and i % 7 == 0:\n",
        "            yield i\n",
        "\n",
        "# Example:\n",
        "n = int(input(\"Enter the value of n: \"))  # Taking input from the console\n",
        "\n",
        "result = list(divisible_by_5_and_7(n))\n",
        "print(','.join(map(str, result)))\n"
      ]
    },
    {
      "cell_type": "markdown",
      "source": [
        "# Please write a program using generator to print the even numbers between 0 and n in comma separated form while n is input by console.\n",
        "Example:\n",
        "\n",
        "If the following n is given as input to the program:\n",
        "10\n",
        "\n",
        "Then, the output of the program should be:\n",
        "\n",
        "0,2,4,6,8,10"
      ],
      "metadata": {
        "id": "Bjk06PAsSYBm"
      }
    },
    {
      "cell_type": "code",
      "source": [
        "def even_numbers(n):\n",
        "    for i in range(n + 1):\n",
        "        if i % 2 == 0:\n",
        "            yield i\n",
        "\n",
        "# Example:\n",
        "n = int(input(\"Enter the value of n: \"))  # Taking input from the console\n",
        "\n",
        "result = list(even_numbers(n))\n",
        "print(','.join(map(str, result)))\n"
      ],
      "metadata": {
        "colab": {
          "base_uri": "https://localhost:8080/"
        },
        "id": "pycRtGI80YV1",
        "outputId": "5c8dce4b-44e9-48f9-8b20-7d52cde3abd5"
      },
      "execution_count": 15,
      "outputs": [
        {
          "output_type": "stream",
          "name": "stdout",
          "text": [
            "Enter the value of n: 20\n",
            "0,2,4,6,8,10,12,14,16,18,20\n"
          ]
        }
      ]
    },
    {
      "cell_type": "markdown",
      "source": [
        "# The Fibonacci Sequence is computed based on the following formula:\n",
        "\n",
        "f(n)=0 if n=0\n",
        "f(n)=1 if n=1\n",
        "f(n)=f(n-1)+f(n-2) if n>1\n",
        "\n",
        "Please write a program using list comprehension to print the Fibonacci Sequence in comma\n",
        "separated form with a given n input by console."
      ],
      "metadata": {
        "id": "KumHcLENS7Zi"
      }
    },
    {
      "cell_type": "code",
      "source": [
        "def fibonacci_sequence(n):\n",
        "    fib_sequence = [0, 1]\n",
        "    [fib_sequence.append(fib_sequence[-1] + fib_sequence[-2]) for _ in range(2, n + 1)]\n",
        "    return fib_sequence[:n + 1]\n",
        "\n",
        "# Example:\n",
        "n = int(input(\"Enter the value of n: \"))  # Taking input from the console\n",
        "\n",
        "fib_sequence = fibonacci_sequence(n)\n",
        "print(','.join(map(str, fib_sequence)))\n"
      ],
      "metadata": {
        "colab": {
          "base_uri": "https://localhost:8080/"
        },
        "id": "hn4xS3DaquL4",
        "outputId": "4876f1e1-f00e-4fb6-c4e2-2a1b5f676aa8"
      },
      "execution_count": 17,
      "outputs": [
        {
          "output_type": "stream",
          "name": "stdout",
          "text": [
            "Enter the value of n: 10\n",
            "0,1,1,2,3,5,8,13,21,34,55\n"
          ]
        }
      ]
    },
    {
      "cell_type": "markdown",
      "source": [
        "# Assuming that we have some email addresses in the username@companyname.com\n",
        "format,\n",
        "please write program to print the user name of a given email address. Both user names and\n",
        "company names are composed of letters only.\n",
        "Example:\n",
        "If the following email address is given as input to the program:\n",
        "john@google.com\n",
        "Then, the output of the program should be:\n",
        "john"
      ],
      "metadata": {
        "id": "-DH21WtzTXkU"
      }
    },
    {
      "cell_type": "code",
      "source": [
        "def get_username(email):\n",
        "    return email.split('@')[0]\n",
        "\n",
        "# Example:\n",
        "email = input(\"Enter the email address: \")  # Taking input from the console\n",
        "\n",
        "username = get_username(email)\n",
        "print(\"Username:\", username)\n"
      ],
      "metadata": {
        "colab": {
          "base_uri": "https://localhost:8080/"
        },
        "id": "53n4KFeJquIh",
        "outputId": "52ee1766-b87f-45a3-8a6a-44e6506971f4"
      },
      "execution_count": 18,
      "outputs": [
        {
          "output_type": "stream",
          "name": "stdout",
          "text": [
            "Enter the email address: vaibhav@gmail.com\n",
            "Username: vaibhav\n"
          ]
        }
      ]
    },
    {
      "cell_type": "code",
      "source": [
        "# Q:Define a class named Shape and its subclass Square. The Square class has an init function\n",
        "# which takes a length as argument. Both classes have a area function which can print the area\n",
        "# of the shape where Shape's area is 0 by default.\n",
        "\n",
        "class Shape:\n",
        "    def area(self):\n",
        "        return 0\n",
        "\n",
        "class Square(Shape):\n",
        "    def __init__(self, length):\n",
        "        self.length = length\n",
        "\n",
        "    def area(self):\n",
        "        return self.length * self.length\n",
        "\n",
        "# Example usage:\n",
        "shape = Shape()\n",
        "square = Square(5)\n",
        "\n",
        "print(\"Area of shape:\", shape.area())    # Output: Area of shape: 0\n",
        "print(\"Area of square:\", square.area())  # Output: Area of square: 25\n",
        "\n"
      ],
      "metadata": {
        "colab": {
          "base_uri": "https://localhost:8080/"
        },
        "id": "wz1sjfnMquGC",
        "outputId": "003dae0d-4d6c-4265-d3d8-3208e681f2d1"
      },
      "execution_count": 20,
      "outputs": [
        {
          "output_type": "stream",
          "name": "stdout",
          "text": [
            "Area of shape: 0\n",
            "Area of square: 25\n"
          ]
        }
      ]
    },
    {
      "cell_type": "code",
      "source": [],
      "metadata": {
        "id": "-wF-HMNEquDP"
      },
      "execution_count": 13,
      "outputs": []
    },
    {
      "cell_type": "code",
      "source": [
        "\n"
      ],
      "metadata": {
        "id": "n13BCQJ8rkI9"
      },
      "execution_count": 13,
      "outputs": []
    },
    {
      "cell_type": "code",
      "source": [],
      "metadata": {
        "id": "FnnI5-LBGIur"
      },
      "execution_count": 13,
      "outputs": []
    }
  ]
}