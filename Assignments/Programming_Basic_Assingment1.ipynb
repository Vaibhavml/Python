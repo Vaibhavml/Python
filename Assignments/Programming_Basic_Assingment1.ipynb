{
  "nbformat": 4,
  "nbformat_minor": 0,
  "metadata": {
    "colab": {
      "provenance": []
    },
    "kernelspec": {
      "name": "python3",
      "display_name": "Python 3"
    },
    "language_info": {
      "name": "python"
    }
  },
  "cells": [
    {
      "cell_type": "code",
      "source": [
        "# Q.\tWrite a Python program to print \"Hello Python\"?\n",
        "print(\"Hello Python\")\n"
      ],
      "metadata": {
        "colab": {
          "base_uri": "https://localhost:8080/"
        },
        "id": "_WFiOuZRDlRp",
        "outputId": "683e1331-8e9f-4169-b742-74f08eb64c19"
      },
      "execution_count": null,
      "outputs": [
        {
          "output_type": "stream",
          "name": "stdout",
          "text": [
            "Hello Python\n"
          ]
        }
      ]
    },
    {
      "cell_type": "code",
      "source": [
        "# Q. # Function to add two numbers\n",
        "def add(num1, num2):\n",
        "    return num1 + num2\n",
        "\n",
        "def divide(num1, num2):\n",
        "    if num2 == 0:\n",
        "        return \"Division by zero is not allowed.\"\n",
        "    return num1 / num2\n",
        "\n",
        "num1 = float(input(\"Enter first number: \"))\n",
        "num2 = float(input(\"Enter second number: \"))\n",
        "\n",
        "print(f\"Addition: {num1} + {num2} = {add(num1, num2)}\")\n",
        "print(f\"Division: {num1} / {num2} = {divide(num1, num2)}\")\n"
      ],
      "metadata": {
        "colab": {
          "base_uri": "https://localhost:8080/"
        },
        "id": "jHGtqdQjECyl",
        "outputId": "db8d6445-6d16-4843-cd64-9cbda895d1c4"
      },
      "execution_count": null,
      "outputs": [
        {
          "output_type": "stream",
          "name": "stdout",
          "text": [
            "Enter first number: 12\n",
            "Enter second number: 14\n",
            "Addition: 12.0 + 14.0 = 26.0\n",
            "Division: 12.0 / 14.0 = 0.8571428571428571\n"
          ]
        }
      ]
    },
    {
      "cell_type": "code",
      "source": [
        "# @. \tWrite a Python program to find the area of a triangle?\n",
        "def area_of_triangle(base, height):\n",
        "    return 0.5 * base * height\n",
        "\n",
        "base = float(input(\"Enter the base of the triangle: \"))\n",
        "height = float(input(\"Enter the height of the triangle: \"))\n",
        "\n",
        "area = area_of_triangle(base, height)\n",
        "print(f\"The area of the triangle with base {base} and height {height} is {area}.\")\n"
      ],
      "metadata": {
        "colab": {
          "base_uri": "https://localhost:8080/"
        },
        "id": "DE5A-ZY_Eghd",
        "outputId": "9e0698a1-3c62-405e-b622-0e3338cc0a79"
      },
      "execution_count": null,
      "outputs": [
        {
          "output_type": "stream",
          "name": "stdout",
          "text": [
            "Enter the base of the triangle: 12\n",
            "Enter the height of the triangle: 14\n",
            "The area of the triangle with base 12.0 and height 14.0 is 84.0.\n"
          ]
        }
      ]
    },
    {
      "cell_type": "code",
      "source": [
        "# Q.\tWrite a Python program to swap two variables?\n",
        "var1 = input(\"Enter value for variable 1: \")\n",
        "var2 = input(\"Enter value for variable 2: \")\n",
        "\n",
        "print(\"\\nBefore swapping:\")\n",
        "print(\"Variable 1 =\", var1)\n",
        "print(\"Variable 2 =\", var2)\n",
        "\n",
        "var1, var2 = var2, var1\n",
        "\n",
        "print(\"\\nAfter swapping:\")\n",
        "print(\"Variable 1 =\", var1)\n",
        "print(\"Variable 2 =\", var2)\n"
      ],
      "metadata": {
        "colab": {
          "base_uri": "https://localhost:8080/"
        },
        "id": "tbwdNALdEvMv",
        "outputId": "bcb195cb-e716-482a-c9e2-46deeb6f4e43"
      },
      "execution_count": null,
      "outputs": [
        {
          "output_type": "stream",
          "name": "stdout",
          "text": [
            "Enter value for variable 1: 14\n",
            "Enter value for variable 2: 212\n",
            "\n",
            "Before swapping:\n",
            "Variable 1 = 14\n",
            "Variable 2 = 212\n",
            "\n",
            "After swapping:\n",
            "Variable 1 = 212\n",
            "Variable 2 = 14\n"
          ]
        }
      ]
    },
    {
      "cell_type": "code",
      "source": [
        "# Q. \tWrite a Python program to generate a random number?\n",
        "import random\n",
        "random_number = random.randint(1, 100)\n",
        "\n",
        "print(f\"Random number: {random_number}\")\n"
      ],
      "metadata": {
        "colab": {
          "base_uri": "https://localhost:8080/"
        },
        "id": "W6cxBdOTFBI7",
        "outputId": "cc9d94c9-4090-4c69-8b6d-386aa3a066f9"
      },
      "execution_count": null,
      "outputs": [
        {
          "output_type": "stream",
          "name": "stdout",
          "text": [
            "Random number: 46\n"
          ]
        }
      ]
    }
  ]
}