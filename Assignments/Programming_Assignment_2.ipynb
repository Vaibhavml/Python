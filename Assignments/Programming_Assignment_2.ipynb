{
  "nbformat": 4,
  "nbformat_minor": 0,
  "metadata": {
    "colab": {
      "provenance": []
    },
    "kernelspec": {
      "name": "python3",
      "display_name": "Python 3"
    },
    "language_info": {
      "name": "python"
    }
  },
  "cells": [
    {
      "cell_type": "code",
      "execution_count": 1,
      "metadata": {
        "colab": {
          "base_uri": "https://localhost:8080/"
        },
        "id": "iyRpQx-Gjuy3",
        "outputId": "1400545c-76a2-4b02-8712-b9734e039ebc"
      },
      "outputs": [
        {
          "output_type": "stream",
          "name": "stdout",
          "text": [
            "Enter the distance in kilometers: 100\n",
            "100.0 kilometers is equal to 62.137100000000004 miles.\n"
          ]
        }
      ],
      "source": [
        "# 1.\tWrite a Python program to convert kilometers to miles.\n",
        "def km_to_miles(km):\n",
        "    # Conversion factor: 1 kilometer = 0.621371 miles\n",
        "    miles = km * 0.621371\n",
        "    return miles\n",
        "\n",
        "# Taking input for kilometers from the user\n",
        "kilometers = float(input(\"Enter the distance in kilometers: \"))\n",
        "\n",
        "# Convert kilometers to miles\n",
        "miles = km_to_miles(kilometers)\n",
        "\n",
        "# Display the result\n",
        "print(\"{0} kilometers is equal to {1} miles.\".format(kilometers, miles))\n"
      ]
    },
    {
      "cell_type": "code",
      "source": [
        "# 2.\tWrite a Python program to convert Celsius to Fahrenheit.\n",
        "def celsius_to_fahrenheit(Celsius):\n",
        "  fahrenheit = (Celsius * 9/5)+32\n",
        "  return fahrenheit\n",
        "Celsius  = float(input(\"Enter the temperature in celsius: \"))\n",
        "\n",
        "fahrenheit = celsius_to_fahrenheit(Celsius)\n",
        "print(\"{0}  degree celsius is equal to {1} degree fahrenheit\".format(Celsius,fahrenheit))"
      ],
      "metadata": {
        "colab": {
          "base_uri": "https://localhost:8080/"
        },
        "id": "lGWSF9kZlkpj",
        "outputId": "93c25b53-3a18-4ee6-e61a-7f5772043cbb"
      },
      "execution_count": 2,
      "outputs": [
        {
          "output_type": "stream",
          "name": "stdout",
          "text": [
            "Enter the temperature in celsius: 40\n",
            "40.0  degree celsius is equal to 104.0 degree fahrenheit\n"
          ]
        }
      ]
    },
    {
      "cell_type": "code",
      "source": [
        "# 3.\tWrite a Python program to display calendar.\n",
        "import calendar\n",
        "\n",
        "def display_calendar(year, month):\n",
        "    # Display the calendar for the specified year and month\n",
        "    print(calendar.month(year, month))\n",
        "\n",
        "# Taking input for year and month from the user\n",
        "year = int(input(\"Enter the year: \"))\n",
        "month = int(input(\"Enter the month (1-12): \"))\n",
        "\n",
        "# Display the calendar\n",
        "display_calendar(year, month)\n"
      ],
      "metadata": {
        "colab": {
          "base_uri": "https://localhost:8080/"
        },
        "id": "gbVYvgDMlkmm",
        "outputId": "5e942441-d761-4373-e9d0-cd29fdacb4ef"
      },
      "execution_count": 3,
      "outputs": [
        {
          "output_type": "stream",
          "name": "stdout",
          "text": [
            "Enter the year: 2024\n",
            "Enter the month (1-12): 2\n",
            "   February 2024\n",
            "Mo Tu We Th Fr Sa Su\n",
            "          1  2  3  4\n",
            " 5  6  7  8  9 10 11\n",
            "12 13 14 15 16 17 18\n",
            "19 20 21 22 23 24 25\n",
            "26 27 28 29\n",
            "\n"
          ]
        }
      ]
    },
    {
      "cell_type": "code",
      "source": [
        "# 4.\tWrite a Python program to solve quadratic equation.\n",
        "import cmath\n",
        "\n",
        "def solve_quadratic(a, b, c):\n",
        "    # Calculate the discriminant\n",
        "    discriminant = (b**2) - (4*a*c)\n",
        "\n",
        "    # Compute the solutions\n",
        "    solution1 = (-b - cmath.sqrt(discriminant)) / (2*a)\n",
        "    solution2 = (-b + cmath.sqrt(discriminant)) / (2*a)\n",
        "\n",
        "    return solution1, solution2\n",
        "\n",
        "# Taking input for coefficients a, b, and c from the user\n",
        "a = float(input(\"Enter the coefficient a: \"))\n",
        "b = float(input(\"Enter the coefficient b: \"))\n",
        "c = float(input(\"Enter the coefficient c: \"))\n",
        "\n",
        "# Solve the quadratic equation\n",
        "solution1, solution2 = solve_quadratic(a, b, c)\n",
        "\n",
        "# Display the solutions\n",
        "print(\"The solutions are:\", solution1, \"and\", solution2)\n"
      ],
      "metadata": {
        "colab": {
          "base_uri": "https://localhost:8080/"
        },
        "id": "7kwMawxqlkjW",
        "outputId": "8cc4f0f7-c486-4d3d-8375-61b8b27a6c2d"
      },
      "execution_count": 4,
      "outputs": [
        {
          "output_type": "stream",
          "name": "stdout",
          "text": [
            "Enter the coefficient a: 15\n",
            "Enter the coefficient b: 10\n",
            "Enter the coefficient c: 2\n",
            "The solutions are: (-0.3333333333333333-0.14907119849998599j) and (-0.3333333333333333+0.14907119849998599j)\n"
          ]
        }
      ]
    },
    {
      "cell_type": "code",
      "source": [
        "# 5.\tWrite a Python program to swap two variables without temp variable.\n",
        "# Taking input for two variables\n",
        "x = int(input(\"Enter the value of x: \"))\n",
        "y = int(input(\"Enter the value of y: \"))\n",
        "\n",
        "# Swapping without temp variable\n",
        "x = x + y\n",
        "y = x - y\n",
        "x = x - y\n",
        "\n",
        "# Displaying the swapped values\n",
        "print(\"After swapping:\")\n",
        "print(\"x =\", x)\n",
        "print(\"y =\", y)\n"
      ],
      "metadata": {
        "colab": {
          "base_uri": "https://localhost:8080/"
        },
        "id": "QFUm0tKElkgC",
        "outputId": "a583a286-0728-4a4f-e3d1-55f18411cbdb"
      },
      "execution_count": 5,
      "outputs": [
        {
          "output_type": "stream",
          "name": "stdout",
          "text": [
            "Enter the value of x: 20\n",
            "Enter the value of y: 25\n",
            "After swapping:\n",
            "x = 25\n",
            "y = 20\n"
          ]
        }
      ]
    },
    {
      "cell_type": "code",
      "source": [],
      "metadata": {
        "id": "zrth5QB1lkdB"
      },
      "execution_count": null,
      "outputs": []
    },
    {
      "cell_type": "code",
      "source": [],
      "metadata": {
        "id": "YOrVinMXlkZ2"
      },
      "execution_count": null,
      "outputs": []
    },
    {
      "cell_type": "code",
      "source": [],
      "metadata": {
        "id": "LlYzCVLmlkWu"
      },
      "execution_count": null,
      "outputs": []
    },
    {
      "cell_type": "code",
      "source": [],
      "metadata": {
        "id": "eH-rh244lkT0"
      },
      "execution_count": null,
      "outputs": []
    }
  ]
}