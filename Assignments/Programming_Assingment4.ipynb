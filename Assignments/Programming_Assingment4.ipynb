{
  "nbformat": 4,
  "nbformat_minor": 0,
  "metadata": {
    "colab": {
      "provenance": []
    },
    "kernelspec": {
      "name": "python3",
      "display_name": "Python 3"
    },
    "language_info": {
      "name": "python"
    }
  },
  "cells": [
    {
      "cell_type": "code",
      "source": [
        "# Q .\tWrite a Python Program to Find the Factorial of a Number?\n",
        "num = int(input(\"Enter a number: \"))\n",
        "\n",
        "factorial = 1\n",
        "\n",
        "if num < 0:\n",
        "    print(\"Factorial does not exist for negative numbers.\")\n",
        "elif num == 0:\n",
        "    print(\"The factorial of 0 is 1.\")\n",
        "else:\n",
        "    for i in range(1, num + 1):\n",
        "        factorial *= i\n",
        "    print(f\"The factorial of {num} is {factorial}.\")\n"
      ],
      "metadata": {
        "colab": {
          "base_uri": "https://localhost:8080/"
        },
        "id": "yvTMUDcI-ogz",
        "outputId": "60ca0fa7-aa0b-4ecb-a7a4-89af984b6b43"
      },
      "execution_count": null,
      "outputs": [
        {
          "output_type": "stream",
          "name": "stdout",
          "text": [
            "Enter a number: 12\n",
            "The factorial of 12 is 479001600.\n"
          ]
        }
      ]
    },
    {
      "cell_type": "code",
      "source": [
        "# Q.\tWrite a Python Program to Display the multiplication Table?\n",
        "\n",
        "num = int(input(\"Enter a number: \"))\n",
        "print(f\"Multiplication table of {num}:\")\n",
        "for i in range(1, 11):\n",
        "    print(f\"{num} x {i} = {num * i}\")\n"
      ],
      "metadata": {
        "id": "gJ2IdWgy_GRP"
      },
      "execution_count": null,
      "outputs": []
    },
    {
      "cell_type": "code",
      "source": [
        "# Q.\tWrite a Python Program to Print the Fibonacci sequence?\n",
        "terms = int(input(\"Enter the number of terms: \"))\n",
        "\n",
        "a, b = 0, 1\n",
        "print(\"Fibonacci sequence:\")\n",
        "for i in range(terms):\n",
        "    print(a, end=\" \")\n",
        "    a, b = b, a + b\n"
      ],
      "metadata": {
        "colab": {
          "base_uri": "https://localhost:8080/"
        },
        "id": "nHPt91Ji_TWb",
        "outputId": "5a1034e6-5417-4996-9fb9-d2cae7fd93b6"
      },
      "execution_count": 2,
      "outputs": [
        {
          "output_type": "stream",
          "name": "stdout",
          "text": [
            "Enter the number of terms: 5\n",
            "Fibonacci sequence:\n",
            "0 1 1 2 3 "
          ]
        }
      ]
    },
    {
      "cell_type": "code",
      "source": [
        "# Q.\tWrite a Python Program to Check Armstrong Number?\n",
        "\n",
        "num = int(input(\"Enter a number: \"))\n",
        "\n",
        "num_digits = len(str(num))\n",
        "\n",
        "sum = 0\n",
        "temp = num\n",
        "while temp > 0:\n",
        "    digit = temp % 10\n",
        "    sum += digit ** num_digits\n",
        "    temp //= 10\n",
        "if num == sum:\n",
        "    print(f\"{num} is an Armstrong number.\")\n",
        "else:\n",
        "    print(f\"{num} is not an Armstrong number.\")\n"
      ],
      "metadata": {
        "colab": {
          "base_uri": "https://localhost:8080/"
        },
        "id": "gOyAunJt_nho",
        "outputId": "a9165194-bafa-43ba-9c51-9ccd3a5226d0"
      },
      "execution_count": null,
      "outputs": [
        {
          "output_type": "stream",
          "name": "stdout",
          "text": [
            "Enter a number: 12\n",
            "12 is not an Armstrong number.\n"
          ]
        }
      ]
    },
    {
      "cell_type": "code",
      "source": [
        "# Q .Write a Python Program to Find Armstrong Number in an Interval?\n",
        "lower = int(input(\"Enter lower bound of the interval: \"))\n",
        "upper = int(input(\"Enter upper bound of the interval: \"))\n",
        "\n",
        "print(f\"Armstrong numbers between {lower} and {upper}:\")\n",
        "for num in range(lower, upper + 1):\n",
        "\n",
        "    num_digits = len(str(num))\n",
        "\n",
        "\n",
        "    sum = 0\n",
        "    temp = num\n",
        "    while temp > 0:\n",
        "        digit = temp % 10\n",
        "        sum += digit ** num_digits\n",
        "        temp //= 10\n",
        "\n",
        "\n",
        "    if num == sum:\n",
        "        print(num)\n"
      ],
      "metadata": {
        "colab": {
          "base_uri": "https://localhost:8080/"
        },
        "id": "BSUIbo1e_6PJ",
        "outputId": "66ae6253-9af8-4f9c-df9a-ad6e4a6ce099"
      },
      "execution_count": null,
      "outputs": [
        {
          "output_type": "stream",
          "name": "stdout",
          "text": [
            "Enter lower bound of the interval: 12\n",
            "Enter upper bound of the interval: 14\n",
            "Armstrong numbers between 12 and 14:\n"
          ]
        }
      ]
    },
    {
      "cell_type": "code",
      "source": [
        "# Q.\tWrite a Python Program to Find the Sum of Natural Numbers?\n",
        "\n",
        "num = int(input(\"Enter a positive integer: \"))\n",
        "\n",
        "\n",
        "sum = 0\n",
        "for i in range(1, num + 1):\n",
        "    sum += i\n",
        "\n",
        "print(f\"The sum of natural numbers up to {num} is {sum}.\")\n"
      ],
      "metadata": {
        "colab": {
          "base_uri": "https://localhost:8080/"
        },
        "id": "nBAU7wh_ANM2",
        "outputId": "0d8dc375-8c85-4a5f-bc18-63fbf377eb5f"
      },
      "execution_count": null,
      "outputs": [
        {
          "output_type": "stream",
          "name": "stdout",
          "text": [
            "Enter a positive integer: 14\n",
            "The sum of natural numbers up to 14 is 105.\n"
          ]
        }
      ]
    }
  ]
}