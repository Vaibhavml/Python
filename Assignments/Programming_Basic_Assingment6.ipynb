{
  "nbformat": 4,
  "nbformat_minor": 0,
  "metadata": {
    "colab": {
      "provenance": []
    },
    "kernelspec": {
      "name": "python3",
      "display_name": "Python 3"
    },
    "language_info": {
      "name": "python"
    }
  },
  "cells": [
    {
      "cell_type": "code",
      "source": [
        "# Q. \tWrite a Python Program to Display Fibonacci Sequence Using Recursion?\n",
        "def fibonacci(n):\n",
        "    if n <= 1:\n",
        "        return n\n",
        "    else:\n",
        "        return fibonacci(n-1) + fibonacci(n-2)\n",
        "\n",
        "nterms = int(input(\"Enter the number of terms: \"))\n",
        "\n",
        "if nterms <= 0:\n",
        "    print(\"Please enter a positive integer.\")\n",
        "else:\n",
        "    print(\"Fibonacci sequence:\")\n",
        "    for i in range(nterms):\n",
        "        print(fibonacci(i), end=\" \")\n"
      ],
      "metadata": {
        "colab": {
          "base_uri": "https://localhost:8080/"
        },
        "id": "Rp_-R60BFadd",
        "outputId": "7c3957c7-823c-46b5-c661-a8172c7e0013"
      },
      "execution_count": null,
      "outputs": [
        {
          "output_type": "stream",
          "name": "stdout",
          "text": [
            "Enter the number of terms: 1\n",
            "Fibonacci sequence:\n",
            "0 "
          ]
        }
      ]
    },
    {
      "cell_type": "code",
      "source": [
        "# Q. \tWrite a Python Program to Find Factorial of Number Using Recursion?\n",
        "def factorial(n):\n",
        "    if n == 0:\n",
        "        return 1\n",
        "    else:\n",
        "        return n * factorial(n-1)\n",
        "\n",
        "num = int(input(\"Enter a non-negative integer: \"))\n",
        "\n",
        "if num < 0:\n",
        "    print(\"Factorial is not defined for negative numbers.\")\n",
        "else:\n",
        "    result = factorial(num)\n",
        "    print(f\"The factorial of {num} is {result}.\")\n"
      ],
      "metadata": {
        "colab": {
          "base_uri": "https://localhost:8080/"
        },
        "id": "LKRJaf-YFuSz",
        "outputId": "0c662792-145d-4020-e58a-92cb00aab603"
      },
      "execution_count": null,
      "outputs": [
        {
          "output_type": "stream",
          "name": "stdout",
          "text": [
            "Enter a non-negative integer: 12\n",
            "The factorial of 12 is 479001600.\n"
          ]
        }
      ]
    },
    {
      "cell_type": "code",
      "source": [
        "# Q.\tWrite a Python Program to calculate your Body Mass Index?\n",
        "def calculate_bmi(weight, height):\n",
        "    return weight / (height ** 2)\n",
        "\n",
        "weight = float(input(\"Enter your weight in kilograms: \"))\n",
        "height = float(input(\"Enter your height in meters: \"))\n",
        "\n",
        "bmi = calculate_bmi(weight, height)\n",
        "\n",
        "print(f\"Your Body Mass Index (BMI) is: {bmi:.2f}\")\n"
      ],
      "metadata": {
        "colab": {
          "base_uri": "https://localhost:8080/"
        },
        "id": "4GLAue-yF-AX",
        "outputId": "4c61dc07-3e96-4530-bd18-5b260f9345b4"
      },
      "execution_count": null,
      "outputs": [
        {
          "output_type": "stream",
          "name": "stdout",
          "text": [
            "Enter your weight in kilograms: 12\n",
            "Enter your height in meters: 154\n",
            "Your Body Mass Index (BMI) is: 0.00\n"
          ]
        }
      ]
    },
    {
      "cell_type": "code",
      "source": [
        "# Q .\tWrite a Python Program to calculate the natural logarithm of any number?\n",
        "import math\n",
        "\n",
        "num = float(input(\"Enter a number: \"))\n",
        "\n",
        "log_value = math.log(num)\n",
        "\n",
        "print(f\"The natural logarithm of {num} is: {log_value}\")\n"
      ],
      "metadata": {
        "colab": {
          "base_uri": "https://localhost:8080/"
        },
        "id": "defxY2-TGN8S",
        "outputId": "72592e82-3ec5-47e6-9793-d0a624c0fcc0"
      },
      "execution_count": null,
      "outputs": [
        {
          "output_type": "stream",
          "name": "stdout",
          "text": [
            "Enter a number: 12\n",
            "The natural logarithm of 12.0 is: 2.4849066497880004\n"
          ]
        }
      ]
    },
    {
      "cell_type": "code",
      "source": [
        "# Q.\tWrite a Python Program for cube sum of first n natural numbers?\n",
        "def cube_sum(n):\n",
        "    return sum([i**3 for i in range(1, n+1)])\n",
        "\n",
        "n = int(input(\"Enter a positive integer: \"))\n",
        "\n",
        "if n <= 0:\n",
        "    print(\"Please enter a positive integer.\")\n",
        "else:\n",
        "    result = cube_sum(n)\n",
        "    print(f\"The cube sum of the first {n} natural numbers is: {result}\")\n"
      ],
      "metadata": {
        "colab": {
          "base_uri": "https://localhost:8080/"
        },
        "id": "pxuMsfnLGmlg",
        "outputId": "f9a1f28a-33f1-49da-abf3-b3c54aa7375b"
      },
      "execution_count": 1,
      "outputs": [
        {
          "output_type": "stream",
          "name": "stdout",
          "text": [
            "Enter a positive integer: 5\n",
            "The cube sum of the first 5 natural numbers is: 225\n"
          ]
        }
      ]
    }
  ]
}