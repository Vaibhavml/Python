{
  "nbformat": 4,
  "nbformat_minor": 0,
  "metadata": {
    "colab": {
      "provenance": []
    },
    "kernelspec": {
      "name": "python3",
      "display_name": "Python 3"
    },
    "language_info": {
      "name": "python"
    }
  },
  "cells": [
    {
      "cell_type": "code",
      "execution_count": null,
      "metadata": {
        "colab": {
          "base_uri": "https://localhost:8080/"
        },
        "id": "UVdFOMpBbT89",
        "outputId": "c6ca2fe6-6d6a-47be-9775-0eb00977a992"
      },
      "outputs": [
        {
          "output_type": "stream",
          "name": "stdout",
          "text": [
            "Hello Python\n"
          ]
        }
      ],
      "source": [
        "# 1.\tWrite a Python program to print \"Hello Python\"\n",
        "print(\"Hello Python\")"
      ]
    },
    {
      "cell_type": "code",
      "source": [
        "# 2.\tWrite a Python program to do arithmetical operations addition and division.\n",
        "a = int(input(\"Enter the value of a: \"))\n",
        "b = int(input(\"Enter the value of b: \"))\n",
        "addition = a+b\n",
        "print(f\"addition of {a} and {b} is \", addition)\n",
        "division = a/b\n",
        "print(f\"division of {a} and {b} is \", division )"
      ],
      "metadata": {
        "colab": {
          "base_uri": "https://localhost:8080/"
        },
        "id": "iAiHqRt4bom1",
        "outputId": "4de31149-1e8b-4a53-e8b2-f18a5a769c62"
      },
      "execution_count": null,
      "outputs": [
        {
          "output_type": "stream",
          "name": "stdout",
          "text": [
            "Enter the value of a: 10\n",
            "Enter the value of b: 5\n",
            "addition of 10 and 5 is  15\n",
            "division of 10 and 5 is  2.0\n"
          ]
        }
      ]
    },
    {
      "cell_type": "code",
      "source": [
        "# 3.\tWrite a Python program to find the area of a triangle.\n",
        "\n",
        "import math\n",
        "\n",
        "h = int(input(\"Height of triangle: \"))\n",
        "b = int(input(\"Base of triangle: \"))\n",
        "area_of_triangle = 0.5*b*h\n",
        "print(\"Area of the triangle: \", area_of_triangle)\n",
        "\n",
        "# Area of Triangle with Three Sides (Heron’s Formula)\n",
        "\n",
        "print(\"Area of Triangle with Three Sides (Heron’s Formula)\")\n",
        "\n",
        "c = int(input(\"Enter the value of c: \"))\n",
        "s = (a+b+c)/2\n",
        "area = math.sqrt(s*(s-h)*(s-b)*(s-c))\n",
        "\n",
        "print(\"Area through Heron's Formula is: \" , area)"
      ],
      "metadata": {
        "colab": {
          "base_uri": "https://localhost:8080/"
        },
        "id": "kf6FS01Hcb8z",
        "outputId": "0db01f40-b673-4ffb-a934-1892e76a415d"
      },
      "execution_count": 8,
      "outputs": [
        {
          "output_type": "stream",
          "name": "stdout",
          "text": [
            "Height of triangle: 10\n",
            "Base of triangle: 15\n",
            "Area of the triangle:  75.0\n",
            "Area of Triangle with Three Sides (Heron’s Formula)\n",
            "Enter the value of c: 20\n",
            "Area through Heron's Formula is:  72.61843774138907\n"
          ]
        }
      ]
    },
    {
      "cell_type": "code",
      "source": [
        "# 4.\tWrite a Python program to swap two variables.\n",
        "def swap_variables(x, y):\n",
        "    # Displaying the original values\n",
        "    print(\"Before swapping:\")\n",
        "    print(\"x =\", x)\n",
        "    print(\"y =\", y)\n",
        "\n",
        "    # Swapping the values\n",
        "    x, y = y, x\n",
        "\n",
        "    # Displaying the swapped values\n",
        "    print(\"\\nAfter swapping:\")\n",
        "    print(\"x =\", x)\n",
        "    print(\"y =\", y)\n",
        "\n",
        "# Taking input for two variables\n",
        "x = input(\"Enter the value of x: \")\n",
        "y = input(\"Enter the value of y: \")\n",
        "\n",
        "# Swapping the variables\n",
        "swap_variables(x, y)\n"
      ],
      "metadata": {
        "id": "3M6VwtR0dhaF",
        "colab": {
          "base_uri": "https://localhost:8080/"
        },
        "outputId": "c77f81cb-e8df-4e1f-9f1e-ff0c0197a846"
      },
      "execution_count": 9,
      "outputs": [
        {
          "output_type": "stream",
          "name": "stdout",
          "text": [
            "Enter the value of x: 100\n",
            "Enter the value of y: 200\n",
            "Before swapping:\n",
            "x = 100\n",
            "y = 200\n",
            "\n",
            "After swapping:\n",
            "x = 200\n",
            "y = 100\n"
          ]
        }
      ]
    },
    {
      "cell_type": "code",
      "source": [
        "# 5.\tWrite a Python program to generate a random number.\n",
        "import random\n",
        "\n",
        "# Generate a random number between 0 and 100 (inclusive)\n",
        "random_number = random.randint(0, 100)\n",
        "\n",
        "# Display the generated random number\n",
        "print(\"Random number:\", random_number)\n"
      ],
      "metadata": {
        "colab": {
          "base_uri": "https://localhost:8080/"
        },
        "id": "2ysLX7I-hyVb",
        "outputId": "deb68bcb-8adf-4bcb-f5ef-94d9a398756b"
      },
      "execution_count": 10,
      "outputs": [
        {
          "output_type": "stream",
          "name": "stdout",
          "text": [
            "Random number: 49\n"
          ]
        }
      ]
    }
  ]
}