{
  "nbformat": 4,
  "nbformat_minor": 0,
  "metadata": {
    "colab": {
      "provenance": []
    },
    "kernelspec": {
      "name": "python3",
      "display_name": "Python 3"
    },
    "language_info": {
      "name": "python"
    }
  },
  "cells": [
    {
      "cell_type": "markdown",
      "source": [
        "Some Theory:\n",
        "\n",
        "- Types of data used for I/O:\n",
        "- Text - '12345' as a sequence of unicode chars\n",
        "- Binary - 12345 as a sequence of bytes of its binary equivalent\n",
        "\n",
        "Hence there are 2 file types to deal with\n",
        "- Text files - All program files are text files\n",
        "- Binary Files - Images,music,video,exe files"
      ],
      "metadata": {
        "id": "qKwsAi3CCRUs"
      }
    },
    {
      "cell_type": "markdown",
      "source": [
        "How File I/O is done in most programming languages\n",
        "- Open a file\n",
        "- Read/Write data\n",
        "- Close the file"
      ],
      "metadata": {
        "id": "G5UHOb24Cd0O"
      }
    },
    {
      "cell_type": "markdown",
      "source": [
        "## Writing A File"
      ],
      "metadata": {
        "id": "tJyxffsECjUj"
      }
    },
    {
      "cell_type": "code",
      "execution_count": 5,
      "metadata": {
        "id": "Ula94gA5xICM"
      },
      "outputs": [],
      "source": [
        "f = open('sample.txt', 'w')\n",
        "f.write('Hi Everyone')\n",
        "f.close()"
      ]
    },
    {
      "cell_type": "code",
      "source": [
        "f.write('Hi Everyone')"
      ],
      "metadata": {
        "colab": {
          "base_uri": "https://localhost:8080/"
        },
        "id": "ddX8D8bbCv3B",
        "outputId": "2ee90acf-3671-4ec0-ac4b-685af6b7763e"
      },
      "execution_count": 3,
      "outputs": [
        {
          "output_type": "execute_result",
          "data": {
            "text/plain": [
              "11"
            ]
          },
          "metadata": {},
          "execution_count": 3
        }
      ]
    },
    {
      "cell_type": "code",
      "source": [
        "f.write(\"Hey\")\n",
        "\n",
        "# Sience the file is closed so we are getting this error"
      ],
      "metadata": {
        "colab": {
          "base_uri": "https://localhost:8080/",
          "height": 176
        },
        "id": "9nUl-0UIC31H",
        "outputId": "dc8c9dbc-2353-4cf9-d831-22b2bccce0c5"
      },
      "execution_count": 7,
      "outputs": [
        {
          "output_type": "error",
          "ename": "ValueError",
          "evalue": "I/O operation on closed file.",
          "traceback": [
            "\u001b[0;31m---------------------------------------------------------------------------\u001b[0m",
            "\u001b[0;31mValueError\u001b[0m                                Traceback (most recent call last)",
            "\u001b[0;32m<ipython-input-7-a21521ae038d>\u001b[0m in \u001b[0;36m<cell line: 1>\u001b[0;34m()\u001b[0m\n\u001b[0;32m----> 1\u001b[0;31m \u001b[0mf\u001b[0m\u001b[0;34m.\u001b[0m\u001b[0mwrite\u001b[0m\u001b[0;34m(\u001b[0m\u001b[0;34m\"Hey\"\u001b[0m\u001b[0;34m)\u001b[0m\u001b[0;34m\u001b[0m\u001b[0;34m\u001b[0m\u001b[0m\n\u001b[0m\u001b[1;32m      2\u001b[0m \u001b[0;34m\u001b[0m\u001b[0m\n\u001b[1;32m      3\u001b[0m \u001b[0;31m# Sience the file is closed so we are getting this error\u001b[0m\u001b[0;34m\u001b[0m\u001b[0;34m\u001b[0m\u001b[0m\n",
            "\u001b[0;31mValueError\u001b[0m: I/O operation on closed file."
          ]
        }
      ]
    },
    {
      "cell_type": "code",
      "source": [
        "# Writing multiline comment\n",
        "# If the file is already present\n",
        "\n",
        "f = open(\"sample.txt\", 'w')\n",
        "f.write('hello world')\n",
        "f.write('\\nhow r u')\n",
        "f.close()"
      ],
      "metadata": {
        "id": "XZ2cAPRBDjys"
      },
      "execution_count": 10,
      "outputs": []
    },
    {
      "cell_type": "code",
      "source": [
        "# How exactly open() function works\n",
        "\n",
        "# this function stores the files in buffer memory for some time and when we close the file it gets stored on the hard drive"
      ],
      "metadata": {
        "id": "hOAOl2amD7y2"
      },
      "execution_count": 11,
      "outputs": []
    },
    {
      "cell_type": "code",
      "source": [
        "# Problem with w mode\n",
        "# introducing append mode\n",
        "\n",
        "f = open('sample.txt', 'a') # It is append mode\n",
        "f.write('\\nwhats going on here')\n",
        "f.close()"
      ],
      "metadata": {
        "id": "Iuvneq4OEVld"
      },
      "execution_count": 13,
      "outputs": []
    },
    {
      "cell_type": "code",
      "source": [
        "# write many lines\n",
        "l = ['hello\\n','hi\\n','how are u\\n']\n",
        "\n",
        "f = open('sample.txt','w')\n",
        "f.writelines(l)\n",
        "f.close()"
      ],
      "metadata": {
        "id": "Rffr_h5rEViN"
      },
      "execution_count": 15,
      "outputs": []
    },
    {
      "cell_type": "code",
      "source": [
        "# reading from files\n",
        "# -> using read()\n",
        "\n",
        "f = open('sample.txt','r')\n",
        "s = f.read()\n",
        "print(s)\n",
        "f.close()"
      ],
      "metadata": {
        "colab": {
          "base_uri": "https://localhost:8080/"
        },
        "id": "u2_LsK7iEVeq",
        "outputId": "fe0b5d47-cd6d-40ff-e265-40f185c13d05"
      },
      "execution_count": 16,
      "outputs": [
        {
          "output_type": "stream",
          "name": "stdout",
          "text": [
            "hello\n",
            "hi\n",
            "how are u\n",
            "\n"
          ]
        }
      ]
    },
    {
      "cell_type": "code",
      "source": [
        "# reading upto n characters\n",
        "f = open('sample.txt','r')\n",
        "s = f.read(10) # Reading only 10 characters\n",
        "print(s)\n",
        "f.close()"
      ],
      "metadata": {
        "colab": {
          "base_uri": "https://localhost:8080/"
        },
        "id": "HlrhxJpcEVa3",
        "outputId": "c0936549-dfeb-47d2-cfc1-e4c634c557a5"
      },
      "execution_count": 17,
      "outputs": [
        {
          "output_type": "stream",
          "name": "stdout",
          "text": [
            "hello\n",
            "hi\n",
            "h\n"
          ]
        }
      ]
    },
    {
      "cell_type": "code",
      "source": [
        "# readline()  -> To read line by line\n",
        "f = open('sample.txt','r')\n",
        "print(f.readline())\n",
        "print(f.readline())\n",
        "print(f.readline())\n",
        "f.close()"
      ],
      "metadata": {
        "colab": {
          "base_uri": "https://localhost:8080/"
        },
        "id": "O-ImrBu9EVX3",
        "outputId": "f32e047d-916b-404b-ee0e-51d9dd973c23"
      },
      "execution_count": 24,
      "outputs": [
        {
          "output_type": "stream",
          "name": "stdout",
          "text": [
            "hello\n",
            "\n",
            "hi\n",
            "\n",
            "how are u\n",
            "\n"
          ]
        }
      ]
    },
    {
      "cell_type": "code",
      "source": [
        "# Here we can see that the output is having double gap, to avoid this\n",
        "# readline()  -> To read line by line\n",
        "f = open('sample.txt','r')\n",
        "print(f.readline(),end = \"\")\n",
        "print(f.readline(),end = \"\")\n",
        "print(f.readline(),end = \"\")\n",
        "f.close()"
      ],
      "metadata": {
        "colab": {
          "base_uri": "https://localhost:8080/"
        },
        "id": "F093on05EVUa",
        "outputId": "842947b4-dc22-4c81-8491-d146cda9d162"
      },
      "execution_count": 23,
      "outputs": [
        {
          "output_type": "stream",
          "name": "stdout",
          "text": [
            "hello\n",
            "hi\n",
            "how are u\n"
          ]
        }
      ]
    },
    {
      "cell_type": "code",
      "source": [
        "# readline is used when we have a big file, so it reads tyhe lines line by line\n",
        "# It does not gives pressure on the system\n",
        "\n",
        "# read is used when our file is small\n",
        "\n",
        "# When we have many lines in the dataset, we use looping\n",
        "\n",
        "f = open('sample.txt','r')\n",
        "\n",
        "while True:\n",
        "\n",
        "  data = f.readline()\n",
        "\n",
        "  if data == '':\n",
        "    break\n",
        "  else:\n",
        "    print(data,end = \"\")\n",
        "\n",
        "f.close()"
      ],
      "metadata": {
        "colab": {
          "base_uri": "https://localhost:8080/"
        },
        "id": "O7e5w-q_EVNp",
        "outputId": "fc3bfdf1-afef-4c14-d6b1-a1f523b54065"
      },
      "execution_count": 25,
      "outputs": [
        {
          "output_type": "stream",
          "name": "stdout",
          "text": [
            "hello\n",
            "hi\n",
            "how are u\n"
          ]
        }
      ]
    },
    {
      "cell_type": "markdown",
      "source": [
        "Using Context Manager (With):\n",
        "\n",
        "- It's a good idea to close a file after usage as it will free up the resources\n",
        "- If we dont close it, garbage collector would close it\n",
        "- with keyword closes the file as soon as the usage is over"
      ],
      "metadata": {
        "id": "yPPVhxhYK9tb"
      }
    },
    {
      "cell_type": "code",
      "source": [
        "with open('sample.txt','w') as f:\n",
        "  f.write('bhaibhaibhai')"
      ],
      "metadata": {
        "id": "BSG4P-8mEVKj"
      },
      "execution_count": 28,
      "outputs": []
    },
    {
      "cell_type": "code",
      "source": [
        "#try f.read()\n",
        "with open('sample.txt', 'r') as f:\n",
        "  print(f.read())"
      ],
      "metadata": {
        "colab": {
          "base_uri": "https://localhost:8080/"
        },
        "id": "sMVdmgDxEVII",
        "outputId": "ea700538-07e1-40ab-cbf2-7b8d300f9c79"
      },
      "execution_count": 29,
      "outputs": [
        {
          "output_type": "stream",
          "name": "stdout",
          "text": [
            "bhaibhaibhai\n"
          ]
        }
      ]
    },
    {
      "cell_type": "code",
      "source": [
        "# moving within the file\n",
        "\n",
        "with open('sample.txt','r') as f:\n",
        "  print(f.read(10))"
      ],
      "metadata": {
        "colab": {
          "base_uri": "https://localhost:8080/"
        },
        "id": "L9Jci75UEVFj",
        "outputId": "62762f89-7d52-4f23-faa2-b492ebed3094"
      },
      "execution_count": 30,
      "outputs": [
        {
          "output_type": "stream",
          "name": "stdout",
          "text": [
            "bhaibhaibh\n"
          ]
        }
      ]
    },
    {
      "cell_type": "code",
      "source": [
        "f = open('India.txt','w')\n",
        "f.write('The\\nSabarmati\\nbasin\\nextends\\nover\\nstates\\nof\\nRajasthan\\nand\\nGujarat\\nhaving\\nan area')\n",
        "f.close()\n",
        ""
      ],
      "metadata": {
        "id": "8yHzMXRNI9jq"
      },
      "execution_count": 33,
      "outputs": []
    },
    {
      "cell_type": "code",
      "source": [
        "with open('India.txt','r') as f:\n",
        "  print(f.read(10))\n",
        "  print(f.read(10))\n",
        "  print(f.read(10))"
      ],
      "metadata": {
        "colab": {
          "base_uri": "https://localhost:8080/"
        },
        "id": "clGiO0zuI9g-",
        "outputId": "8b9847c9-a986-4d8a-a97d-43043da1b581"
      },
      "execution_count": 37,
      "outputs": [
        {
          "output_type": "stream",
          "name": "stdout",
          "text": [
            "The\n",
            "Sabarm\n",
            "ati\n",
            "basin\n",
            "\n",
            "extends\n",
            "ov\n"
          ]
        }
      ]
    },
    {
      "cell_type": "markdown",
      "source": [
        "# The above method is useful to read a big file"
      ],
      "metadata": {
        "id": "Jh8V62wQOPrq"
      }
    },
    {
      "cell_type": "code",
      "source": [
        "big_file = ['Hi There' for i in range(1000)]\n",
        "with open('big.txt', 'w') as f:\n",
        "  f.writelines(big_file)"
      ],
      "metadata": {
        "id": "2xnMnO2NI9fF"
      },
      "execution_count": 38,
      "outputs": []
    },
    {
      "cell_type": "code",
      "source": [
        "with open('big.txt','r')as f:\n",
        "  chunk_size = 10\n",
        "\n",
        "  while len(f.read(chunk_size)) > 0:\n",
        "    print(f.read(chunk_size),end = '++++')\n",
        "\n",
        "    f.read(chunk_size)\n"
      ],
      "metadata": {
        "colab": {
          "base_uri": "https://localhost:8080/"
        },
        "id": "joVwN5t9I9b3",
        "outputId": "c395b631-ad3f-4989-9a3a-818ca8c943c6"
      },
      "execution_count": 41,
      "outputs": [
        {
          "output_type": "stream",
          "name": "stdout",
          "text": [
            " ThereHi T++++Hi ThereHi++++reHi There++++hereHi The++++ ThereHi T++++Hi ThereHi++++reHi There++++hereHi The++++ ThereHi T++++Hi ThereHi++++reHi There++++hereHi The++++ ThereHi T++++Hi ThereHi++++reHi There++++hereHi The++++ ThereHi T++++Hi ThereHi++++reHi There++++hereHi The++++ ThereHi T++++Hi ThereHi++++reHi There++++hereHi The++++ ThereHi T++++Hi ThereHi++++reHi There++++hereHi The++++ ThereHi T++++Hi ThereHi++++reHi There++++hereHi The++++ ThereHi T++++Hi ThereHi++++reHi There++++hereHi The++++ ThereHi T++++Hi ThereHi++++reHi There++++hereHi The++++ ThereHi T++++Hi ThereHi++++reHi There++++hereHi The++++ ThereHi T++++Hi ThereHi++++reHi There++++hereHi The++++ ThereHi T++++Hi ThereHi++++reHi There++++hereHi The++++ ThereHi T++++Hi ThereHi++++reHi There++++hereHi The++++ ThereHi T++++Hi ThereHi++++reHi There++++hereHi The++++ ThereHi T++++Hi ThereHi++++reHi There++++hereHi The++++ ThereHi T++++Hi ThereHi++++reHi There++++hereHi The++++ ThereHi T++++Hi ThereHi++++reHi There++++hereHi The++++ ThereHi T++++Hi ThereHi++++reHi There++++hereHi The++++ ThereHi T++++Hi ThereHi++++reHi There++++hereHi The++++ ThereHi T++++Hi ThereHi++++reHi There++++hereHi The++++ ThereHi T++++Hi ThereHi++++reHi There++++hereHi The++++ ThereHi T++++Hi ThereHi++++reHi There++++hereHi The++++ ThereHi T++++Hi ThereHi++++reHi There++++hereHi The++++ ThereHi T++++Hi ThereHi++++reHi There++++hereHi The++++ ThereHi T++++Hi ThereHi++++reHi There++++hereHi The++++ ThereHi T++++Hi ThereHi++++reHi There++++hereHi The++++ ThereHi T++++Hi ThereHi++++reHi There++++hereHi The++++ ThereHi T++++Hi ThereHi++++reHi There++++hereHi The++++ ThereHi T++++Hi ThereHi++++reHi There++++hereHi The++++ ThereHi T++++Hi ThereHi++++reHi There++++hereHi The++++ ThereHi T++++Hi ThereHi++++reHi There++++hereHi The++++ ThereHi T++++Hi ThereHi++++reHi There++++hereHi The++++ ThereHi T++++Hi ThereHi++++reHi There++++hereHi The++++ ThereHi T++++Hi ThereHi++++reHi There++++hereHi The++++ ThereHi T++++Hi ThereHi++++reHi There++++hereHi The++++ ThereHi T++++Hi ThereHi++++reHi There++++hereHi The++++ ThereHi T++++Hi ThereHi++++reHi There++++hereHi The++++ ThereHi T++++Hi ThereHi++++reHi There++++hereHi The++++ ThereHi T++++Hi ThereHi++++reHi There++++hereHi The++++ ThereHi T++++Hi ThereHi++++reHi There++++hereHi The++++ ThereHi T++++Hi ThereHi++++reHi There++++hereHi The++++ ThereHi T++++Hi ThereHi++++reHi There++++hereHi The++++ ThereHi T++++Hi ThereHi++++reHi There++++hereHi The++++ ThereHi T++++Hi ThereHi++++reHi There++++hereHi The++++ ThereHi T++++Hi ThereHi++++reHi There++++hereHi The++++ ThereHi T++++Hi ThereHi++++reHi There++++hereHi The++++ ThereHi T++++Hi ThereHi++++reHi There++++hereHi The++++ ThereHi T++++Hi ThereHi++++reHi There++++hereHi The++++ ThereHi T++++Hi ThereHi++++reHi There++++hereHi The++++ ThereHi T++++Hi ThereHi++++reHi There++++hereHi The++++ ThereHi T++++Hi ThereHi++++reHi There++++hereHi The++++ ThereHi T++++Hi ThereHi++++reHi There++++hereHi The++++ ThereHi T++++Hi ThereHi++++reHi There++++hereHi The++++ ThereHi T++++Hi ThereHi++++reHi There++++hereHi The++++ ThereHi T++++Hi ThereHi++++reHi There++++hereHi The++++ ThereHi T++++Hi ThereHi++++reHi There++++hereHi The++++ ThereHi T++++Hi ThereHi++++reHi There++++hereHi The++++ ThereHi T++++Hi ThereHi++++reHi There++++hereHi The++++ ThereHi T++++Hi ThereHi++++reHi There++++hereHi The++++ ThereHi T++++Hi ThereHi++++reHi There++++hereHi The++++ ThereHi T++++Hi ThereHi++++reHi There++++hereHi The++++ ThereHi T++++Hi ThereHi++++reHi There++++hereHi The++++ ThereHi T++++Hi ThereHi++++reHi There++++hereHi The++++ ThereHi T++++Hi ThereHi++++reHi There++++hereHi The++++ ThereHi T++++Hi ThereHi++++reHi There++++hereHi The++++ ThereHi T++++Hi ThereHi++++reHi There++++"
          ]
        }
      ]
    },
    {
      "cell_type": "code",
      "source": [
        "# seek and tell function\n",
        "with open('India.txt','r') as f:\n",
        "  print(f.read(10))\n",
        "  print(f.tell()) # This will tell us about the charecter on which we are there\n",
        "  # the output 10 means we are on the 10th charecter now"
      ],
      "metadata": {
        "colab": {
          "base_uri": "https://localhost:8080/"
        },
        "id": "VuWsSTItI9Zc",
        "outputId": "bcd7409d-f50c-41e2-bbdc-d699c57e0b6b"
      },
      "execution_count": 43,
      "outputs": [
        {
          "output_type": "stream",
          "name": "stdout",
          "text": [
            "The\n",
            "Sabarm\n",
            "10\n"
          ]
        }
      ]
    },
    {
      "cell_type": "code",
      "source": [
        "# seek and tell function\n",
        "with open('India.txt','r') as f:\n",
        "  print(f.read(10))\n",
        "  print(f.tell())\n",
        "  f.seek(0) # in seek we give the next starting point\n",
        "  print(f.read(10))\n",
        "  print(f.tell()) # Tell tells us where we are now"
      ],
      "metadata": {
        "colab": {
          "base_uri": "https://localhost:8080/"
        },
        "id": "H5-qBu-VI9WC",
        "outputId": "f33ee874-8310-4dda-b74d-3da7f18bffa6"
      },
      "execution_count": 45,
      "outputs": [
        {
          "output_type": "stream",
          "name": "stdout",
          "text": [
            "The\n",
            "Sabarm\n",
            "10\n",
            "The\n",
            "Sabarm\n",
            "10\n"
          ]
        }
      ]
    },
    {
      "cell_type": "code",
      "source": [
        "# seek during write\n",
        "\n",
        "with open('sample.txt','w') as f:\n",
        "  f.write('Hey There!!')\n",
        "  f.seek(1)\n",
        "  f.write('X')"
      ],
      "metadata": {
        "id": "njumed6RI9TF"
      },
      "execution_count": 46,
      "outputs": []
    },
    {
      "cell_type": "markdown",
      "source": [
        "Here we can see that our file was Hey There!!\n",
        "when we put seek(1), it accessed the 1st location and then changed it to X"
      ],
      "metadata": {
        "id": "Iy37ib7ZSXoh"
      }
    },
    {
      "cell_type": "markdown",
      "source": [
        "Problems with working in text mode\n",
        "- can't work with binary files like images\n",
        "- not good for other data types like int/float/list/tuples"
      ],
      "metadata": {
        "id": "0TmXW3pKVdQ2"
      }
    },
    {
      "cell_type": "code",
      "source": [
        "# Read binary files\n",
        "\n",
        "with open('/content/Screenshot 2024-02-08 153815.png','r') as f:\n",
        "  f.read()"
      ],
      "metadata": {
        "colab": {
          "base_uri": "https://localhost:8080/",
          "height": 280
        },
        "id": "39eChTs5I9P1",
        "outputId": "e72a559f-60b5-427f-a720-ec229eecd534"
      },
      "execution_count": 47,
      "outputs": [
        {
          "output_type": "error",
          "ename": "UnicodeDecodeError",
          "evalue": "'utf-8' codec can't decode byte 0x89 in position 0: invalid start byte",
          "traceback": [
            "\u001b[0;31m---------------------------------------------------------------------------\u001b[0m",
            "\u001b[0;31mUnicodeDecodeError\u001b[0m                        Traceback (most recent call last)",
            "\u001b[0;32m<ipython-input-47-eba2a4c9a8c5>\u001b[0m in \u001b[0;36m<cell line: 1>\u001b[0;34m()\u001b[0m\n\u001b[1;32m      1\u001b[0m \u001b[0;32mwith\u001b[0m \u001b[0mopen\u001b[0m\u001b[0;34m(\u001b[0m\u001b[0;34m'/content/Screenshot 2024-02-08 153815.png'\u001b[0m\u001b[0;34m,\u001b[0m\u001b[0;34m'r'\u001b[0m\u001b[0;34m)\u001b[0m \u001b[0;32mas\u001b[0m \u001b[0mf\u001b[0m\u001b[0;34m:\u001b[0m\u001b[0;34m\u001b[0m\u001b[0;34m\u001b[0m\u001b[0m\n\u001b[0;32m----> 2\u001b[0;31m   \u001b[0mf\u001b[0m\u001b[0;34m.\u001b[0m\u001b[0mread\u001b[0m\u001b[0;34m(\u001b[0m\u001b[0;34m)\u001b[0m\u001b[0;34m\u001b[0m\u001b[0;34m\u001b[0m\u001b[0m\n\u001b[0m",
            "\u001b[0;32m/usr/lib/python3.10/codecs.py\u001b[0m in \u001b[0;36mdecode\u001b[0;34m(self, input, final)\u001b[0m\n\u001b[1;32m    320\u001b[0m         \u001b[0;31m# decode input (taking the buffer into account)\u001b[0m\u001b[0;34m\u001b[0m\u001b[0;34m\u001b[0m\u001b[0m\n\u001b[1;32m    321\u001b[0m         \u001b[0mdata\u001b[0m \u001b[0;34m=\u001b[0m \u001b[0mself\u001b[0m\u001b[0;34m.\u001b[0m\u001b[0mbuffer\u001b[0m \u001b[0;34m+\u001b[0m \u001b[0minput\u001b[0m\u001b[0;34m\u001b[0m\u001b[0;34m\u001b[0m\u001b[0m\n\u001b[0;32m--> 322\u001b[0;31m         \u001b[0;34m(\u001b[0m\u001b[0mresult\u001b[0m\u001b[0;34m,\u001b[0m \u001b[0mconsumed\u001b[0m\u001b[0;34m)\u001b[0m \u001b[0;34m=\u001b[0m \u001b[0mself\u001b[0m\u001b[0;34m.\u001b[0m\u001b[0m_buffer_decode\u001b[0m\u001b[0;34m(\u001b[0m\u001b[0mdata\u001b[0m\u001b[0;34m,\u001b[0m \u001b[0mself\u001b[0m\u001b[0;34m.\u001b[0m\u001b[0merrors\u001b[0m\u001b[0;34m,\u001b[0m \u001b[0mfinal\u001b[0m\u001b[0;34m)\u001b[0m\u001b[0;34m\u001b[0m\u001b[0;34m\u001b[0m\u001b[0m\n\u001b[0m\u001b[1;32m    323\u001b[0m         \u001b[0;31m# keep undecoded input until the next call\u001b[0m\u001b[0;34m\u001b[0m\u001b[0;34m\u001b[0m\u001b[0m\n\u001b[1;32m    324\u001b[0m         \u001b[0mself\u001b[0m\u001b[0;34m.\u001b[0m\u001b[0mbuffer\u001b[0m \u001b[0;34m=\u001b[0m \u001b[0mdata\u001b[0m\u001b[0;34m[\u001b[0m\u001b[0mconsumed\u001b[0m\u001b[0;34m:\u001b[0m\u001b[0;34m]\u001b[0m\u001b[0;34m\u001b[0m\u001b[0;34m\u001b[0m\u001b[0m\n",
            "\u001b[0;31mUnicodeDecodeError\u001b[0m: 'utf-8' codec can't decode byte 0x89 in position 0: invalid start byte"
          ]
        }
      ]
    },
    {
      "cell_type": "code",
      "source": [
        "# Working with binary files\n",
        "with open('/content/Screenshot 2024-02-08 153815.png','rb') as f:\n",
        "  # rb means read binary\n",
        "  with open('screenshot.png','wb') as g:\n",
        "    # wb means write binary\n",
        "    g.write(f.read())\n",
        ""
      ],
      "metadata": {
        "id": "DOS_bACQI9Mz"
      },
      "execution_count": 50,
      "outputs": []
    },
    {
      "cell_type": "code",
      "source": [
        "with open('sample.txt','w')as f:\n",
        "  f.write(5)"
      ],
      "metadata": {
        "colab": {
          "base_uri": "https://localhost:8080/",
          "height": 158
        },
        "id": "qsSH1CfWI9Jy",
        "outputId": "e55d098d-8999-4c10-c4c7-c45bb02b6b06"
      },
      "execution_count": 51,
      "outputs": [
        {
          "output_type": "error",
          "ename": "TypeError",
          "evalue": "write() argument must be str, not int",
          "traceback": [
            "\u001b[0;31m---------------------------------------------------------------------------\u001b[0m",
            "\u001b[0;31mTypeError\u001b[0m                                 Traceback (most recent call last)",
            "\u001b[0;32m<ipython-input-51-cb148c631533>\u001b[0m in \u001b[0;36m<cell line: 1>\u001b[0;34m()\u001b[0m\n\u001b[1;32m      1\u001b[0m \u001b[0;32mwith\u001b[0m \u001b[0mopen\u001b[0m\u001b[0;34m(\u001b[0m\u001b[0;34m'sample.txt'\u001b[0m\u001b[0;34m,\u001b[0m\u001b[0;34m'w'\u001b[0m\u001b[0;34m)\u001b[0m\u001b[0;32mas\u001b[0m \u001b[0mf\u001b[0m\u001b[0;34m:\u001b[0m\u001b[0;34m\u001b[0m\u001b[0;34m\u001b[0m\u001b[0m\n\u001b[0;32m----> 2\u001b[0;31m   \u001b[0mf\u001b[0m\u001b[0;34m.\u001b[0m\u001b[0mwrite\u001b[0m\u001b[0;34m(\u001b[0m\u001b[0;36m5\u001b[0m\u001b[0;34m)\u001b[0m\u001b[0;34m\u001b[0m\u001b[0;34m\u001b[0m\u001b[0m\n\u001b[0m",
            "\u001b[0;31mTypeError\u001b[0m: write() argument must be str, not int"
          ]
        }
      ]
    },
    {
      "cell_type": "code",
      "source": [
        "with open('sample.txt','w')as f:\n",
        "  f.write('5')"
      ],
      "metadata": {
        "id": "Z9cW70TxI9Gr"
      },
      "execution_count": 52,
      "outputs": []
    },
    {
      "cell_type": "code",
      "source": [
        "with open('sample.txt','r')as f:\n",
        "  print(f.read() +5)"
      ],
      "metadata": {
        "colab": {
          "base_uri": "https://localhost:8080/",
          "height": 158
        },
        "id": "jfVYGvdHSubb",
        "outputId": "e2de1743-15db-4b4b-95ad-d85d6fd7b167"
      },
      "execution_count": 53,
      "outputs": [
        {
          "output_type": "error",
          "ename": "TypeError",
          "evalue": "can only concatenate str (not \"int\") to str",
          "traceback": [
            "\u001b[0;31m---------------------------------------------------------------------------\u001b[0m",
            "\u001b[0;31mTypeError\u001b[0m                                 Traceback (most recent call last)",
            "\u001b[0;32m<ipython-input-53-a9eecd2944cb>\u001b[0m in \u001b[0;36m<cell line: 1>\u001b[0;34m()\u001b[0m\n\u001b[1;32m      1\u001b[0m \u001b[0;32mwith\u001b[0m \u001b[0mopen\u001b[0m\u001b[0;34m(\u001b[0m\u001b[0;34m'sample.txt'\u001b[0m\u001b[0;34m,\u001b[0m\u001b[0;34m'r'\u001b[0m\u001b[0;34m)\u001b[0m\u001b[0;32mas\u001b[0m \u001b[0mf\u001b[0m\u001b[0;34m:\u001b[0m\u001b[0;34m\u001b[0m\u001b[0;34m\u001b[0m\u001b[0m\n\u001b[0;32m----> 2\u001b[0;31m   \u001b[0mprint\u001b[0m\u001b[0;34m(\u001b[0m\u001b[0mf\u001b[0m\u001b[0;34m.\u001b[0m\u001b[0mread\u001b[0m\u001b[0;34m(\u001b[0m\u001b[0;34m)\u001b[0m \u001b[0;34m+\u001b[0m\u001b[0;36m5\u001b[0m\u001b[0;34m)\u001b[0m\u001b[0;34m\u001b[0m\u001b[0;34m\u001b[0m\u001b[0m\n\u001b[0m",
            "\u001b[0;31mTypeError\u001b[0m: can only concatenate str (not \"int\") to str"
          ]
        }
      ]
    },
    {
      "cell_type": "code",
      "source": [
        "with open('sample.txt','r') as f:\n",
        "  print(int(f.read()) + 5)"
      ],
      "metadata": {
        "colab": {
          "base_uri": "https://localhost:8080/"
        },
        "id": "ILaHgTAWSuXC",
        "outputId": "62889228-50e3-464e-a8f6-13a5ec71ceb8"
      },
      "execution_count": 57,
      "outputs": [
        {
          "output_type": "stream",
          "name": "stdout",
          "text": [
            "10\n"
          ]
        }
      ]
    },
    {
      "cell_type": "code",
      "source": [
        "# More complex data type\n",
        "\n",
        "d = {\n",
        "    'name': 'vaibhav',\n",
        "    'age': '29',\n",
        "    'gender':'male'\n",
        "\n",
        "}\n",
        "\n",
        "with open('sample.txt','r') as f:\n",
        "  f.write(d)"
      ],
      "metadata": {
        "colab": {
          "base_uri": "https://localhost:8080/",
          "height": 176
        },
        "id": "GpTWSIxJSuRw",
        "outputId": "f6e4672a-ff56-4bfb-e92f-454b3c00fa08"
      },
      "execution_count": 58,
      "outputs": [
        {
          "output_type": "error",
          "ename": "TypeError",
          "evalue": "write() argument must be str, not dict",
          "traceback": [
            "\u001b[0;31m---------------------------------------------------------------------------\u001b[0m",
            "\u001b[0;31mTypeError\u001b[0m                                 Traceback (most recent call last)",
            "\u001b[0;32m<ipython-input-58-8270222c0624>\u001b[0m in \u001b[0;36m<cell line: 10>\u001b[0;34m()\u001b[0m\n\u001b[1;32m      9\u001b[0m \u001b[0;34m\u001b[0m\u001b[0m\n\u001b[1;32m     10\u001b[0m \u001b[0;32mwith\u001b[0m \u001b[0mopen\u001b[0m\u001b[0;34m(\u001b[0m\u001b[0;34m'sample.txt'\u001b[0m\u001b[0;34m,\u001b[0m\u001b[0;34m'r'\u001b[0m\u001b[0;34m)\u001b[0m \u001b[0;32mas\u001b[0m \u001b[0mf\u001b[0m\u001b[0;34m:\u001b[0m\u001b[0;34m\u001b[0m\u001b[0;34m\u001b[0m\u001b[0m\n\u001b[0;32m---> 11\u001b[0;31m   \u001b[0mf\u001b[0m\u001b[0;34m.\u001b[0m\u001b[0mwrite\u001b[0m\u001b[0;34m(\u001b[0m\u001b[0md\u001b[0m\u001b[0;34m)\u001b[0m\u001b[0;34m\u001b[0m\u001b[0;34m\u001b[0m\u001b[0m\n\u001b[0m",
            "\u001b[0;31mTypeError\u001b[0m: write() argument must be str, not dict"
          ]
        }
      ]
    },
    {
      "cell_type": "code",
      "source": [
        "# More complex data type\n",
        "\n",
        "d = {\n",
        "    'name': 'vaibhav',\n",
        "    'age': '29',\n",
        "    'gender':'male'\n",
        "\n",
        "}\n",
        "\n",
        "with open('sample.txt','w') as f:\n",
        "  f.write(str(d))"
      ],
      "metadata": {
        "id": "9W7ddXdOSuOx"
      },
      "execution_count": 2,
      "outputs": []
    },
    {
      "cell_type": "code",
      "source": [
        "with open('sample.txt','r') as f:\n",
        "  print(f.read())\n",
        "  print(type(f.read()))"
      ],
      "metadata": {
        "colab": {
          "base_uri": "https://localhost:8080/"
        },
        "id": "BFNhUTLUXYCi",
        "outputId": "0b328561-2e92-473f-f791-6cbd9cb130b3"
      },
      "execution_count": 3,
      "outputs": [
        {
          "output_type": "stream",
          "name": "stdout",
          "text": [
            "{'name': 'vaibhav', 'age': '29', 'gender': 'male'}\n",
            "<class 'str'>\n"
          ]
        }
      ]
    },
    {
      "cell_type": "markdown",
      "source": [
        "Serialization and Deserialization\n",
        "- Serialization - process of converting python data types to JSON format\n",
        "- Deserialization - process of converting JSON to python data types"
      ],
      "metadata": {
        "id": "gJft0S_xYdcL"
      }
    },
    {
      "cell_type": "code",
      "source": [
        "# serialization using jason module\n",
        "# list\n",
        "import json\n",
        "\n",
        "l = [1,2,3,4,5]\n",
        "\n",
        "with open('demo.json','w') as f:\n",
        "  json.dump(l,f) # L is to be dumped here\n",
        "  # f is the file handler object\n"
      ],
      "metadata": {
        "id": "Qr07HHGoSuLs"
      },
      "execution_count": 1,
      "outputs": []
    },
    {
      "cell_type": "code",
      "source": [
        "# dict\n",
        "\n",
        "\n",
        "d = {\n",
        "    'name': 'vaibhav',\n",
        "    'age': '29',\n",
        "    'gender':'male'\n",
        "\n",
        "}\n",
        "\n",
        "with open('demo.json', 'w') as f:\n",
        "  json.dump(d,f)"
      ],
      "metadata": {
        "id": "Hy8KSpmeSuIw"
      },
      "execution_count": 6,
      "outputs": []
    },
    {
      "cell_type": "code",
      "source": [
        "# dict\n",
        "# To print this in a better way\n",
        "\n",
        "d = {\n",
        "    'name': 'vaibhav',\n",
        "    'age': '29',\n",
        "    'gender':'male'\n",
        "\n",
        "}\n",
        "\n",
        "with open('demo.json', 'w') as f:\n",
        "  json.dump(d,f,indent = 4)"
      ],
      "metadata": {
        "id": "SSvO-4BgSuFX"
      },
      "execution_count": 7,
      "outputs": []
    },
    {
      "cell_type": "code",
      "source": [
        "# Deserialization\n",
        "import json\n",
        "\n",
        "with open('demo.json','r') as f:\n",
        "  d = json.load(f)\n",
        "  print(d)\n",
        "  print(type(print(d)))"
      ],
      "metadata": {
        "colab": {
          "base_uri": "https://localhost:8080/"
        },
        "id": "t8DxvJypSuBz",
        "outputId": "2bbc03be-e350-4aae-d4f7-0a9a1ede3a87"
      },
      "execution_count": 10,
      "outputs": [
        {
          "output_type": "stream",
          "name": "stdout",
          "text": [
            "{'name': 'vaibhav', 'age': '29', 'gender': 'male'}\n",
            "{'name': 'vaibhav', 'age': '29', 'gender': 'male'}\n",
            "<class 'NoneType'>\n"
          ]
        }
      ]
    },
    {
      "cell_type": "code",
      "source": [
        "# Serialization and Deserialization with tuple\n",
        "\n",
        "t = (1,2,3,4,5)\n",
        "\n",
        "with open('demo.json', 'w') as f:\n",
        "  json.dump(t,f)\n",
        "  print(type(json.dump(t,f)))"
      ],
      "metadata": {
        "colab": {
          "base_uri": "https://localhost:8080/"
        },
        "id": "zoSvkGeBSt_C",
        "outputId": "7fbcf19b-4b10-4712-bcaa-0036dbd63351"
      },
      "execution_count": 12,
      "outputs": [
        {
          "output_type": "stream",
          "name": "stdout",
          "text": [
            "<class 'NoneType'>\n"
          ]
        }
      ]
    },
    {
      "cell_type": "code",
      "source": [
        "d = {\n",
        "    'student':'nitish',\n",
        "     'marks':[23,14,34,45,56]\n",
        "}\n",
        "\n",
        "with open('demo.json','w') as f:\n",
        "  json.dump(d,f)"
      ],
      "metadata": {
        "id": "FXlqCsCJSt8N"
      },
      "execution_count": 13,
      "outputs": []
    },
    {
      "cell_type": "markdown",
      "source": [
        "Serializing and Deserializing custom objects"
      ],
      "metadata": {
        "id": "QhJaqiNYMZDp"
      }
    },
    {
      "cell_type": "code",
      "source": [
        "class Person:\n",
        "\n",
        "  def __init__(self,name,gender,age):\n",
        "    self.name = \"vaibhav\"\n",
        "    self.gender = 'Male'\n",
        "    self.age = 29\n",
        "\n",
        "  # Formate the output in\n",
        "  # -> Vaibhav age -> 29 gender -> Male"
      ],
      "metadata": {
        "id": "dkTRKyNIKhFN"
      },
      "execution_count": 25,
      "outputs": []
    },
    {
      "cell_type": "code",
      "source": [
        "person = Person('Vaibhav','Male',29)"
      ],
      "metadata": {
        "id": "A_bplV4aKhBh"
      },
      "execution_count": 26,
      "outputs": []
    },
    {
      "cell_type": "code",
      "source": [
        "# As a string\n",
        "\n",
        "with open('demo.json', 'w') as f:\n",
        "  json.dump(Person,f)"
      ],
      "metadata": {
        "colab": {
          "base_uri": "https://localhost:8080/",
          "height": 321
        },
        "id": "y_RGlv8qKg94",
        "outputId": "c5a7242d-4ba0-41ab-f9ed-2257c3ca840d"
      },
      "execution_count": 20,
      "outputs": [
        {
          "output_type": "error",
          "ename": "TypeError",
          "evalue": "Object of type Person is not JSON serializable",
          "traceback": [
            "\u001b[0;31m---------------------------------------------------------------------------\u001b[0m",
            "\u001b[0;31mTypeError\u001b[0m                                 Traceback (most recent call last)",
            "\u001b[0;32m<ipython-input-20-f4facc13660b>\u001b[0m in \u001b[0;36m<cell line: 3>\u001b[0;34m()\u001b[0m\n\u001b[1;32m      2\u001b[0m \u001b[0;34m\u001b[0m\u001b[0m\n\u001b[1;32m      3\u001b[0m \u001b[0;32mwith\u001b[0m \u001b[0mopen\u001b[0m\u001b[0;34m(\u001b[0m\u001b[0;34m'demo.json'\u001b[0m\u001b[0;34m,\u001b[0m \u001b[0;34m'w'\u001b[0m\u001b[0;34m)\u001b[0m \u001b[0;32mas\u001b[0m \u001b[0mf\u001b[0m\u001b[0;34m:\u001b[0m\u001b[0;34m\u001b[0m\u001b[0;34m\u001b[0m\u001b[0m\n\u001b[0;32m----> 4\u001b[0;31m   \u001b[0mjson\u001b[0m\u001b[0;34m.\u001b[0m\u001b[0mdump\u001b[0m\u001b[0;34m(\u001b[0m\u001b[0mPerson\u001b[0m\u001b[0;34m,\u001b[0m\u001b[0mf\u001b[0m\u001b[0;34m)\u001b[0m\u001b[0;34m\u001b[0m\u001b[0;34m\u001b[0m\u001b[0m\n\u001b[0m",
            "\u001b[0;32m/usr/lib/python3.10/json/__init__.py\u001b[0m in \u001b[0;36mdump\u001b[0;34m(obj, fp, skipkeys, ensure_ascii, check_circular, allow_nan, cls, indent, separators, default, sort_keys, **kw)\u001b[0m\n\u001b[1;32m    177\u001b[0m     \u001b[0;31m# could accelerate with writelines in some versions of Python, at\u001b[0m\u001b[0;34m\u001b[0m\u001b[0;34m\u001b[0m\u001b[0m\n\u001b[1;32m    178\u001b[0m     \u001b[0;31m# a debuggability cost\u001b[0m\u001b[0;34m\u001b[0m\u001b[0;34m\u001b[0m\u001b[0m\n\u001b[0;32m--> 179\u001b[0;31m     \u001b[0;32mfor\u001b[0m \u001b[0mchunk\u001b[0m \u001b[0;32min\u001b[0m \u001b[0miterable\u001b[0m\u001b[0;34m:\u001b[0m\u001b[0;34m\u001b[0m\u001b[0;34m\u001b[0m\u001b[0m\n\u001b[0m\u001b[1;32m    180\u001b[0m         \u001b[0mfp\u001b[0m\u001b[0;34m.\u001b[0m\u001b[0mwrite\u001b[0m\u001b[0;34m(\u001b[0m\u001b[0mchunk\u001b[0m\u001b[0;34m)\u001b[0m\u001b[0;34m\u001b[0m\u001b[0;34m\u001b[0m\u001b[0m\n\u001b[1;32m    181\u001b[0m \u001b[0;34m\u001b[0m\u001b[0m\n",
            "\u001b[0;32m/usr/lib/python3.10/json/encoder.py\u001b[0m in \u001b[0;36m_iterencode\u001b[0;34m(o, _current_indent_level)\u001b[0m\n\u001b[1;32m    436\u001b[0m                     \u001b[0;32mraise\u001b[0m \u001b[0mValueError\u001b[0m\u001b[0;34m(\u001b[0m\u001b[0;34m\"Circular reference detected\"\u001b[0m\u001b[0;34m)\u001b[0m\u001b[0;34m\u001b[0m\u001b[0;34m\u001b[0m\u001b[0m\n\u001b[1;32m    437\u001b[0m                 \u001b[0mmarkers\u001b[0m\u001b[0;34m[\u001b[0m\u001b[0mmarkerid\u001b[0m\u001b[0;34m]\u001b[0m \u001b[0;34m=\u001b[0m \u001b[0mo\u001b[0m\u001b[0;34m\u001b[0m\u001b[0;34m\u001b[0m\u001b[0m\n\u001b[0;32m--> 438\u001b[0;31m             \u001b[0mo\u001b[0m \u001b[0;34m=\u001b[0m \u001b[0m_default\u001b[0m\u001b[0;34m(\u001b[0m\u001b[0mo\u001b[0m\u001b[0;34m)\u001b[0m\u001b[0;34m\u001b[0m\u001b[0;34m\u001b[0m\u001b[0m\n\u001b[0m\u001b[1;32m    439\u001b[0m             \u001b[0;32myield\u001b[0m \u001b[0;32mfrom\u001b[0m \u001b[0m_iterencode\u001b[0m\u001b[0;34m(\u001b[0m\u001b[0mo\u001b[0m\u001b[0;34m,\u001b[0m \u001b[0m_current_indent_level\u001b[0m\u001b[0;34m)\u001b[0m\u001b[0;34m\u001b[0m\u001b[0;34m\u001b[0m\u001b[0m\n\u001b[1;32m    440\u001b[0m             \u001b[0;32mif\u001b[0m \u001b[0mmarkers\u001b[0m \u001b[0;32mis\u001b[0m \u001b[0;32mnot\u001b[0m \u001b[0;32mNone\u001b[0m\u001b[0;34m:\u001b[0m\u001b[0;34m\u001b[0m\u001b[0;34m\u001b[0m\u001b[0m\n",
            "\u001b[0;32m/usr/lib/python3.10/json/encoder.py\u001b[0m in \u001b[0;36mdefault\u001b[0;34m(self, o)\u001b[0m\n\u001b[1;32m    177\u001b[0m \u001b[0;34m\u001b[0m\u001b[0m\n\u001b[1;32m    178\u001b[0m         \"\"\"\n\u001b[0;32m--> 179\u001b[0;31m         raise TypeError(f'Object of type {o.__class__.__name__} '\n\u001b[0m\u001b[1;32m    180\u001b[0m                         f'is not JSON serializable')\n\u001b[1;32m    181\u001b[0m \u001b[0;34m\u001b[0m\u001b[0m\n",
            "\u001b[0;31mTypeError\u001b[0m: Object of type Person is not JSON serializable"
          ]
        }
      ]
    },
    {
      "cell_type": "code",
      "source": [
        "# to make our object Serializable\n",
        "import json\n",
        "\n",
        "def show_object(person):\n",
        "  if isinstance(person,Person):\n",
        "    return \"{}  age -> {} gender -> {}\".format(person.name,person.age,person.gender)\n",
        "\n",
        "with open('demo.json','w') as f:\n",
        "  json.dump(person,f,default=show_object)"
      ],
      "metadata": {
        "id": "mWEk74EYKg6g"
      },
      "execution_count": 27,
      "outputs": []
    },
    {
      "cell_type": "code",
      "source": [
        "# As a dictionary\n",
        "import json\n",
        "\n",
        "def show_object(person):\n",
        "  if isinstance(person,Person):\n",
        "    return {'name': person.name, 'age':person.age,'gender':person.age}\n",
        "\n",
        "with open('demo.json','w') as f:\n",
        "  json.dump(person,f,default=show_object,indent =4)"
      ],
      "metadata": {
        "id": "cPg7Hp2ZKg4U"
      },
      "execution_count": 28,
      "outputs": []
    },
    {
      "cell_type": "markdown",
      "source": [
        "Pickling:\n",
        "\n",
        "**Pickling** is the process whereby a Python object hierarchy is converted into a byte stream\n",
        "\n",
        "**unpickling** is the inverse operation, whereby a byte stream (from a binary file or bytes-like object) is converted back into an object hierarchy."
      ],
      "metadata": {
        "id": "3O4EvocASGYM"
      }
    },
    {
      "cell_type": "code",
      "source": [
        "class Person:\n",
        "\n",
        "  def __init__(self,name,age):\n",
        "    self.name = name\n",
        "    self.age = age\n",
        "\n",
        "  def display_info(self):\n",
        "    print('Hi my name is',self.name,'and I am ',self.age,'years old')"
      ],
      "metadata": {
        "id": "T6xXK41pKg1G"
      },
      "execution_count": 30,
      "outputs": []
    },
    {
      "cell_type": "code",
      "source": [
        "p = Person('Vaibhav',29)\n"
      ],
      "metadata": {
        "id": "P1j4iJzuRBFe"
      },
      "execution_count": 31,
      "outputs": []
    },
    {
      "cell_type": "code",
      "source": [
        "# Pickle dump\n",
        "\n",
        "import pickle\n",
        "\n",
        "with open('person.pkl','wb') as f:\n",
        "  pickle.dump(p,f)"
      ],
      "metadata": {
        "id": "z9i0_1woRBC3"
      },
      "execution_count": 32,
      "outputs": []
    },
    {
      "cell_type": "code",
      "source": [
        "# pickle call\n",
        "\n",
        "with open('person.pkl','rb') as f:\n",
        "  p = pickle.load(f)\n",
        "\n",
        "p.display_info()"
      ],
      "metadata": {
        "colab": {
          "base_uri": "https://localhost:8080/"
        },
        "id": "DS91RZ2zRA_L",
        "outputId": "98e4e62d-973c-43b6-f7cd-88a0c7aa5b21"
      },
      "execution_count": 33,
      "outputs": [
        {
          "output_type": "stream",
          "name": "stdout",
          "text": [
            "Hi my name is Vaibhav and I am  29 years old\n"
          ]
        }
      ]
    },
    {
      "cell_type": "markdown",
      "source": [
        "Pickle Vs Json:\n",
        "\n",
        "- Pickle lets the user to store data in binary format.\n",
        "- JSON lets the user store data in a human-readable text format."
      ],
      "metadata": {
        "id": "fU1Ng8cVUKt4"
      }
    },
    {
      "cell_type": "code",
      "source": [],
      "metadata": {
        "id": "L5dCjnCyRA74"
      },
      "execution_count": null,
      "outputs": []
    },
    {
      "cell_type": "code",
      "source": [],
      "metadata": {
        "id": "nT6b9El-RA4q"
      },
      "execution_count": null,
      "outputs": []
    },
    {
      "cell_type": "code",
      "source": [],
      "metadata": {
        "id": "6ZMJ9_ewRA1v"
      },
      "execution_count": null,
      "outputs": []
    }
  ]
}