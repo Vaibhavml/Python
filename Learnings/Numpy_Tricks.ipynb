{
  "nbformat": 4,
  "nbformat_minor": 0,
  "metadata": {
    "colab": {
      "provenance": []
    },
    "kernelspec": {
      "name": "python3",
      "display_name": "Python 3"
    },
    "language_info": {
      "name": "python"
    }
  },
  "cells": [
    {
      "cell_type": "markdown",
      "source": [
        "# no.sort\n",
        "\n",
        "https://numpy.org/doc/stable/reference/generated/numpy.sort.html"
      ],
      "metadata": {
        "id": "_f1v3i8KhFQm"
      }
    },
    {
      "cell_type": "code",
      "execution_count": 1,
      "metadata": {
        "id": "Qqz80Th3GYdL"
      },
      "outputs": [],
      "source": [
        "import numpy as np"
      ]
    },
    {
      "cell_type": "code",
      "source": [
        "a =np.random.randint(1,100,25)\n",
        "a"
      ],
      "metadata": {
        "colab": {
          "base_uri": "https://localhost:8080/"
        },
        "id": "nfB3kBdphAnO",
        "outputId": "fad1fd52-dc35-4add-c901-5ae3cb6107cf"
      },
      "execution_count": 2,
      "outputs": [
        {
          "output_type": "execute_result",
          "data": {
            "text/plain": [
              "array([82, 30, 49, 71, 99,  3, 70,  9, 72, 80, 20, 84, 62, 86, 52, 20,  4,\n",
              "       57, 15, 34, 30, 90, 33, 44, 54])"
            ]
          },
          "metadata": {},
          "execution_count": 2
        }
      ]
    },
    {
      "cell_type": "code",
      "source": [
        "b = np.random.randint(1,100,24).reshape(6,4)\n",
        "b"
      ],
      "metadata": {
        "colab": {
          "base_uri": "https://localhost:8080/"
        },
        "id": "Y0XObn1DhcPV",
        "outputId": "cb0fa712-7464-4eb6-9d7d-71139598c514"
      },
      "execution_count": 3,
      "outputs": [
        {
          "output_type": "execute_result",
          "data": {
            "text/plain": [
              "array([[91, 67, 98, 94],\n",
              "       [94, 95, 81, 79],\n",
              "       [50, 39, 42, 37],\n",
              "       [88, 18, 87, 27],\n",
              "       [79, 25, 73, 88],\n",
              "       [ 1, 11, 70, 63]])"
            ]
          },
          "metadata": {},
          "execution_count": 3
        }
      ]
    },
    {
      "cell_type": "code",
      "source": [
        "np.sort(a)\n",
        "\n",
        "# sorting array in ascending order"
      ],
      "metadata": {
        "colab": {
          "base_uri": "https://localhost:8080/"
        },
        "id": "OAc0v8klhoBF",
        "outputId": "553506a0-e348-450e-80e8-b77635f424cc"
      },
      "execution_count": 4,
      "outputs": [
        {
          "output_type": "execute_result",
          "data": {
            "text/plain": [
              "array([ 3,  4,  9, 15, 20, 20, 30, 30, 33, 34, 44, 49, 52, 54, 57, 62, 70,\n",
              "       71, 72, 80, 82, 84, 86, 90, 99])"
            ]
          },
          "metadata": {},
          "execution_count": 4
        }
      ]
    },
    {
      "cell_type": "code",
      "source": [
        "np.sort(b)\n",
        "\n",
        "# row wise sorting"
      ],
      "metadata": {
        "colab": {
          "base_uri": "https://localhost:8080/"
        },
        "id": "VT2G2R2ThryF",
        "outputId": "97ad75ba-3656-488c-d069-f8c6cee06b8b"
      },
      "execution_count": 5,
      "outputs": [
        {
          "output_type": "execute_result",
          "data": {
            "text/plain": [
              "array([[67, 91, 94, 98],\n",
              "       [79, 81, 94, 95],\n",
              "       [37, 39, 42, 50],\n",
              "       [18, 27, 87, 88],\n",
              "       [25, 73, 79, 88],\n",
              "       [ 1, 11, 63, 70]])"
            ]
          },
          "metadata": {},
          "execution_count": 5
        }
      ]
    },
    {
      "cell_type": "code",
      "source": [
        "# for column wise sorting we use axis = 0\n",
        "np.sort(b, axis=0)"
      ],
      "metadata": {
        "colab": {
          "base_uri": "https://localhost:8080/"
        },
        "id": "ceP2UNyUiFMt",
        "outputId": "d1555546-2aea-40fb-b5c0-615e54540f8f"
      },
      "execution_count": 6,
      "outputs": [
        {
          "output_type": "execute_result",
          "data": {
            "text/plain": [
              "array([[ 1, 11, 42, 27],\n",
              "       [50, 18, 70, 37],\n",
              "       [79, 25, 73, 63],\n",
              "       [88, 39, 81, 79],\n",
              "       [91, 67, 87, 88],\n",
              "       [94, 95, 98, 94]])"
            ]
          },
          "metadata": {},
          "execution_count": 6
        }
      ]
    },
    {
      "cell_type": "code",
      "source": [
        "# If we want to sort it into reverse order\n",
        "np.sort(b)[::-1]"
      ],
      "metadata": {
        "colab": {
          "base_uri": "https://localhost:8080/"
        },
        "id": "XeQKTcOhiOag",
        "outputId": "06fbe1b9-66d6-4f17-ea5e-f54718689956"
      },
      "execution_count": 7,
      "outputs": [
        {
          "output_type": "execute_result",
          "data": {
            "text/plain": [
              "array([[ 1, 11, 63, 70],\n",
              "       [25, 73, 79, 88],\n",
              "       [18, 27, 87, 88],\n",
              "       [37, 39, 42, 50],\n",
              "       [79, 81, 94, 95],\n",
              "       [67, 91, 94, 98]])"
            ]
          },
          "metadata": {},
          "execution_count": 7
        }
      ]
    },
    {
      "cell_type": "code",
      "source": [
        "# If we want to sort it into reverse order\n",
        "np.sort(a)[::-1]"
      ],
      "metadata": {
        "colab": {
          "base_uri": "https://localhost:8080/"
        },
        "id": "zre2uAPBiOXd",
        "outputId": "8f73175e-11f5-4fb2-d5cb-225f1014e6d2"
      },
      "execution_count": 8,
      "outputs": [
        {
          "output_type": "execute_result",
          "data": {
            "text/plain": [
              "array([99, 90, 86, 84, 82, 80, 72, 71, 70, 62, 57, 54, 52, 49, 44, 34, 33,\n",
              "       30, 30, 20, 20, 15,  9,  4,  3])"
            ]
          },
          "metadata": {},
          "execution_count": 8
        }
      ]
    },
    {
      "cell_type": "markdown",
      "source": [
        "#np.append\n",
        "- The numpy.append() appends values along the mentioned axis at the end of the array"
      ],
      "metadata": {
        "id": "bw9lzD6TiuC_"
      }
    },
    {
      "cell_type": "code",
      "source": [
        "np.append(a,200)"
      ],
      "metadata": {
        "colab": {
          "base_uri": "https://localhost:8080/"
        },
        "id": "g1O7b_hBiOUE",
        "outputId": "304563de-a1fb-458d-bd04-d98d8df78933"
      },
      "execution_count": 9,
      "outputs": [
        {
          "output_type": "execute_result",
          "data": {
            "text/plain": [
              "array([ 82,  30,  49,  71,  99,   3,  70,   9,  72,  80,  20,  84,  62,\n",
              "        86,  52,  20,   4,  57,  15,  34,  30,  90,  33,  44,  54, 200])"
            ]
          },
          "metadata": {},
          "execution_count": 9
        }
      ]
    },
    {
      "cell_type": "code",
      "source": [
        "# appending with 2D array\n",
        "# append a column with all element 1\n",
        "np.append(b,np.ones((b.shape[0],1)),axis = 1)"
      ],
      "metadata": {
        "colab": {
          "base_uri": "https://localhost:8080/"
        },
        "id": "gT7hHwl3iORR",
        "outputId": "aa96403a-9b7a-4b84-82c1-ede5e6f55474"
      },
      "execution_count": 10,
      "outputs": [
        {
          "output_type": "execute_result",
          "data": {
            "text/plain": [
              "array([[91., 67., 98., 94.,  1.],\n",
              "       [94., 95., 81., 79.,  1.],\n",
              "       [50., 39., 42., 37.,  1.],\n",
              "       [88., 18., 87., 27.,  1.],\n",
              "       [79., 25., 73., 88.,  1.],\n",
              "       [ 1., 11., 70., 63.,  1.]])"
            ]
          },
          "metadata": {},
          "execution_count": 10
        }
      ]
    },
    {
      "cell_type": "markdown",
      "source": [
        "#Concatenate\n",
        "\n",
        "- numpy.concatenate() function concatenate a sequence of arrays along an existing axis.\n",
        "\n",
        "https://numpy.org/doc/stable/reference/generated/numpy.concatenate.html"
      ],
      "metadata": {
        "id": "hWLjjJT1k5ug"
      }
    },
    {
      "cell_type": "code",
      "source": [
        "c = np.arange(6).reshape(3,2)\n",
        "d = np.arange(6,12).reshape(3,2)\n",
        "print(c)\n",
        "print(d)"
      ],
      "metadata": {
        "colab": {
          "base_uri": "https://localhost:8080/"
        },
        "id": "xeOAI9atiOOj",
        "outputId": "72b42e00-cac6-4375-ea5d-8de1cc085f8d"
      },
      "execution_count": 11,
      "outputs": [
        {
          "output_type": "stream",
          "name": "stdout",
          "text": [
            "[[0 1]\n",
            " [2 3]\n",
            " [4 5]]\n",
            "[[ 6  7]\n",
            " [ 8  9]\n",
            " [10 11]]\n"
          ]
        }
      ]
    },
    {
      "cell_type": "code",
      "source": [
        "np.concatenate((c,d))"
      ],
      "metadata": {
        "colab": {
          "base_uri": "https://localhost:8080/"
        },
        "id": "tLiho27KiOLu",
        "outputId": "e4ac53fe-d5c1-4580-b1f4-65d992cc046f"
      },
      "execution_count": 12,
      "outputs": [
        {
          "output_type": "execute_result",
          "data": {
            "text/plain": [
              "array([[ 0,  1],\n",
              "       [ 2,  3],\n",
              "       [ 4,  5],\n",
              "       [ 6,  7],\n",
              "       [ 8,  9],\n",
              "       [10, 11]])"
            ]
          },
          "metadata": {},
          "execution_count": 12
        }
      ]
    },
    {
      "cell_type": "code",
      "source": [
        "np.concatenate((c,d),axis = 0)"
      ],
      "metadata": {
        "colab": {
          "base_uri": "https://localhost:8080/"
        },
        "id": "_VKMGXe-iOIW",
        "outputId": "9a96bdff-06bd-4527-e90c-af9f9f83f390"
      },
      "execution_count": 13,
      "outputs": [
        {
          "output_type": "execute_result",
          "data": {
            "text/plain": [
              "array([[ 0,  1],\n",
              "       [ 2,  3],\n",
              "       [ 4,  5],\n",
              "       [ 6,  7],\n",
              "       [ 8,  9],\n",
              "       [10, 11]])"
            ]
          },
          "metadata": {},
          "execution_count": 13
        }
      ]
    },
    {
      "cell_type": "code",
      "source": [
        "np.concatenate((c,d),axis = 1)"
      ],
      "metadata": {
        "colab": {
          "base_uri": "https://localhost:8080/"
        },
        "id": "CFWYUakWiOF5",
        "outputId": "97f8b893-ba4e-4a1e-8207-e72da4d2ed61"
      },
      "execution_count": 14,
      "outputs": [
        {
          "output_type": "execute_result",
          "data": {
            "text/plain": [
              "array([[ 0,  1,  6,  7],\n",
              "       [ 2,  3,  8,  9],\n",
              "       [ 4,  5, 10, 11]])"
            ]
          },
          "metadata": {},
          "execution_count": 14
        }
      ]
    },
    {
      "cell_type": "markdown",
      "source": [
        "#np.unique\n",
        "- With the help of np.unique() method, we can get the unique values from an array given as parameter in np.unique() method.\n",
        "\n",
        "https://numpy.org/doc/stable/reference/generated/numpy.unique.html/"
      ],
      "metadata": {
        "id": "wiAtny8hlovh"
      }
    },
    {
      "cell_type": "code",
      "source": [
        "e = np.array([1,2,3,4,5,4,3,2,1,2,4])\n",
        "len(e)"
      ],
      "metadata": {
        "colab": {
          "base_uri": "https://localhost:8080/"
        },
        "id": "zuGZFM6wiODB",
        "outputId": "3961e00d-78dd-49a0-e19e-75cecabd25a6"
      },
      "execution_count": 15,
      "outputs": [
        {
          "output_type": "execute_result",
          "data": {
            "text/plain": [
              "11"
            ]
          },
          "metadata": {},
          "execution_count": 15
        }
      ]
    },
    {
      "cell_type": "code",
      "source": [
        "np.unique(e)"
      ],
      "metadata": {
        "colab": {
          "base_uri": "https://localhost:8080/"
        },
        "id": "etPdQ387iOAP",
        "outputId": "67515143-7443-4422-8251-3a033ff4438f"
      },
      "execution_count": 16,
      "outputs": [
        {
          "output_type": "execute_result",
          "data": {
            "text/plain": [
              "array([1, 2, 3, 4, 5])"
            ]
          },
          "metadata": {},
          "execution_count": 16
        }
      ]
    },
    {
      "cell_type": "markdown",
      "source": [
        "#np.expand_dims\n",
        "- With the help of Numpy.expand_dims() method, we can get the expanded dimensions of an array\n",
        "\n",
        "https://numpy.org/doc/stable/reference/generated/numpy.expand_dims.html"
      ],
      "metadata": {
        "id": "mu_h2FbRmBpm"
      }
    },
    {
      "cell_type": "code",
      "source": [
        "a"
      ],
      "metadata": {
        "colab": {
          "base_uri": "https://localhost:8080/"
        },
        "id": "BAOZWMGCl73l",
        "outputId": "cb32ad0c-fc47-47b2-b1f4-f5c1cdb8c4a9"
      },
      "execution_count": 17,
      "outputs": [
        {
          "output_type": "execute_result",
          "data": {
            "text/plain": [
              "array([82, 30, 49, 71, 99,  3, 70,  9, 72, 80, 20, 84, 62, 86, 52, 20,  4,\n",
              "       57, 15, 34, 30, 90, 33, 44, 54])"
            ]
          },
          "metadata": {},
          "execution_count": 17
        }
      ]
    },
    {
      "cell_type": "code",
      "source": [
        "# making a new dimension of array with axis = 0\n",
        "np.expand_dims(a,axis = 0)"
      ],
      "metadata": {
        "colab": {
          "base_uri": "https://localhost:8080/"
        },
        "id": "pyjBHORTmH8P",
        "outputId": "107810b8-5387-4caf-e7d3-d526bd3e1d59"
      },
      "execution_count": 18,
      "outputs": [
        {
          "output_type": "execute_result",
          "data": {
            "text/plain": [
              "array([[82, 30, 49, 71, 99,  3, 70,  9, 72, 80, 20, 84, 62, 86, 52, 20,\n",
              "         4, 57, 15, 34, 30, 90, 33, 44, 54]])"
            ]
          },
          "metadata": {},
          "execution_count": 18
        }
      ]
    },
    {
      "cell_type": "code",
      "source": [
        "np.shape(np.expand_dims(a,axis = 0))"
      ],
      "metadata": {
        "colab": {
          "base_uri": "https://localhost:8080/"
        },
        "id": "rWJsrtfumH6O",
        "outputId": "626a5499-d511-4963-9a4a-3a109a2acdf9"
      },
      "execution_count": 19,
      "outputs": [
        {
          "output_type": "execute_result",
          "data": {
            "text/plain": [
              "(1, 25)"
            ]
          },
          "metadata": {},
          "execution_count": 19
        }
      ]
    },
    {
      "cell_type": "code",
      "source": [
        "# making a new dimension of array with axis = 1\n",
        "np.expand_dims(a,axis = 1)"
      ],
      "metadata": {
        "colab": {
          "base_uri": "https://localhost:8080/"
        },
        "id": "Mfr7xCnZmH2t",
        "outputId": "b23c2c1d-b6de-4975-a490-dfec2ca69ad4"
      },
      "execution_count": 20,
      "outputs": [
        {
          "output_type": "execute_result",
          "data": {
            "text/plain": [
              "array([[82],\n",
              "       [30],\n",
              "       [49],\n",
              "       [71],\n",
              "       [99],\n",
              "       [ 3],\n",
              "       [70],\n",
              "       [ 9],\n",
              "       [72],\n",
              "       [80],\n",
              "       [20],\n",
              "       [84],\n",
              "       [62],\n",
              "       [86],\n",
              "       [52],\n",
              "       [20],\n",
              "       [ 4],\n",
              "       [57],\n",
              "       [15],\n",
              "       [34],\n",
              "       [30],\n",
              "       [90],\n",
              "       [33],\n",
              "       [44],\n",
              "       [54]])"
            ]
          },
          "metadata": {},
          "execution_count": 20
        }
      ]
    },
    {
      "cell_type": "code",
      "source": [
        "# Finding the shape\n",
        "np.expand_dims(a,axis = 1).shape"
      ],
      "metadata": {
        "colab": {
          "base_uri": "https://localhost:8080/"
        },
        "id": "I5nUzTM0mHz8",
        "outputId": "c8fa1ac7-dbe0-44cf-d98b-c4097cd270c2"
      },
      "execution_count": 21,
      "outputs": [
        {
          "output_type": "execute_result",
          "data": {
            "text/plain": [
              "(25, 1)"
            ]
          },
          "metadata": {},
          "execution_count": 21
        }
      ]
    },
    {
      "cell_type": "code",
      "source": [
        "# Finding the shape in my way\n",
        "np.shape(np.expand_dims(a,axis = 1))"
      ],
      "metadata": {
        "colab": {
          "base_uri": "https://localhost:8080/"
        },
        "id": "BLrfkgEFmHxK",
        "outputId": "4ed87d56-2a02-4b92-8fef-aabcade74100"
      },
      "execution_count": 22,
      "outputs": [
        {
          "output_type": "execute_result",
          "data": {
            "text/plain": [
              "(25, 1)"
            ]
          },
          "metadata": {},
          "execution_count": 22
        }
      ]
    },
    {
      "cell_type": "markdown",
      "source": [
        "#np.where\n",
        "- The numpy.where() function returns the indices of elements in an input array where the given condition is satisfied.\n",
        "\n",
        "https://numpy.org/doc/stable/reference/generated/numpy.where.html"
      ],
      "metadata": {
        "id": "oo1aH21Zns9J"
      }
    },
    {
      "cell_type": "code",
      "source": [
        "a"
      ],
      "metadata": {
        "colab": {
          "base_uri": "https://localhost:8080/"
        },
        "id": "IekgkCwzmHui",
        "outputId": "e892340b-1c0d-419f-9e9d-d27f18277186"
      },
      "execution_count": 23,
      "outputs": [
        {
          "output_type": "execute_result",
          "data": {
            "text/plain": [
              "array([82, 30, 49, 71, 99,  3, 70,  9, 72, 80, 20, 84, 62, 86, 52, 20,  4,\n",
              "       57, 15, 34, 30, 90, 33, 44, 54])"
            ]
          },
          "metadata": {},
          "execution_count": 23
        }
      ]
    },
    {
      "cell_type": "code",
      "source": [
        "np.where(a>55)\n",
        "\n",
        "# It gives the index values"
      ],
      "metadata": {
        "colab": {
          "base_uri": "https://localhost:8080/"
        },
        "id": "ngbUDYdqmHr7",
        "outputId": "4604592e-0689-4056-f6ea-2ca98c62a15e"
      },
      "execution_count": 24,
      "outputs": [
        {
          "output_type": "execute_result",
          "data": {
            "text/plain": [
              "(array([ 0,  3,  4,  6,  8,  9, 11, 12, 13, 17, 21]),)"
            ]
          },
          "metadata": {},
          "execution_count": 24
        }
      ]
    },
    {
      "cell_type": "code",
      "source": [
        "# Replace all values > 50 with 0\n",
        "# How the function works\n",
        "#np.where (array name(a) condition(</>/=)true(if true then use (something like any number which you want)false(if false then use what you want)))\n",
        "np.where(a>50,0,a)"
      ],
      "metadata": {
        "colab": {
          "base_uri": "https://localhost:8080/"
        },
        "id": "KXvTMNtvmHpW",
        "outputId": "352da859-d929-49a7-ae67-8d4f12e9a4db"
      },
      "execution_count": 25,
      "outputs": [
        {
          "output_type": "execute_result",
          "data": {
            "text/plain": [
              "array([ 0, 30, 49,  0,  0,  3,  0,  9,  0,  0, 20,  0,  0,  0,  0, 20,  4,\n",
              "        0, 15, 34, 30,  0, 33, 44,  0])"
            ]
          },
          "metadata": {},
          "execution_count": 25
        }
      ]
    },
    {
      "cell_type": "code",
      "source": [
        "# Replace all values > 50 with 0\n",
        "# How the function works\n",
        "#np.where (array name(a) condition(</>/=)true(if true then use (something like any number which you want)false(if false then use what you want)))\n",
        "np.where(a>50,\"z\",a)"
      ],
      "metadata": {
        "colab": {
          "base_uri": "https://localhost:8080/"
        },
        "id": "cVEdoFoQnoXC",
        "outputId": "aa09b088-d0e3-40b9-b296-036b993f4973"
      },
      "execution_count": 26,
      "outputs": [
        {
          "output_type": "execute_result",
          "data": {
            "text/plain": [
              "array(['z', '30', '49', 'z', 'z', '3', 'z', '9', 'z', 'z', '20', 'z', 'z',\n",
              "       'z', 'z', '20', '4', 'z', '15', '34', '30', 'z', '33', '44', 'z'],\n",
              "      dtype='<U21')"
            ]
          },
          "metadata": {},
          "execution_count": 26
        }
      ]
    },
    {
      "cell_type": "code",
      "source": [
        "# Replace all the even numbers with 1\n",
        "\n",
        "np.where(a%2 == 0,1,a)"
      ],
      "metadata": {
        "colab": {
          "base_uri": "https://localhost:8080/"
        },
        "id": "CB5L728_noTV",
        "outputId": "6ee75612-a2a0-410f-9d3b-25620c2a0682"
      },
      "execution_count": 27,
      "outputs": [
        {
          "output_type": "execute_result",
          "data": {
            "text/plain": [
              "array([ 1,  1, 49, 71, 99,  3,  1,  9,  1,  1,  1,  1,  1,  1,  1,  1,  1,\n",
              "       57, 15,  1,  1,  1, 33,  1,  1])"
            ]
          },
          "metadata": {},
          "execution_count": 27
        }
      ]
    },
    {
      "cell_type": "markdown",
      "source": [
        "#np.argmax\n",
        "- The numpy.argmax() function returns indices of the max element of the array in a particular axis.\n",
        "\n",
        "https://numpy.org/doc/stable/reference/generated/numpy.argmax.html"
      ],
      "metadata": {
        "id": "NhxJ71-npoGB"
      }
    },
    {
      "cell_type": "code",
      "source": [
        "a"
      ],
      "metadata": {
        "colab": {
          "base_uri": "https://localhost:8080/"
        },
        "id": "_MNDKLlMnoP6",
        "outputId": "764ddff5-8db1-4a86-e243-6f4112bac81c"
      },
      "execution_count": 28,
      "outputs": [
        {
          "output_type": "execute_result",
          "data": {
            "text/plain": [
              "array([82, 30, 49, 71, 99,  3, 70,  9, 72, 80, 20, 84, 62, 86, 52, 20,  4,\n",
              "       57, 15, 34, 30, 90, 33, 44, 54])"
            ]
          },
          "metadata": {},
          "execution_count": 28
        }
      ]
    },
    {
      "cell_type": "code",
      "source": [
        "np.argmax(a)"
      ],
      "metadata": {
        "colab": {
          "base_uri": "https://localhost:8080/"
        },
        "id": "XXqZvGRfnoMm",
        "outputId": "6f21be42-97a4-4e87-98a8-ac53dbd43b5a"
      },
      "execution_count": 29,
      "outputs": [
        {
          "output_type": "execute_result",
          "data": {
            "text/plain": [
              "4"
            ]
          },
          "metadata": {},
          "execution_count": 29
        }
      ]
    },
    {
      "cell_type": "code",
      "source": [
        "# To check in 2D\n",
        "b"
      ],
      "metadata": {
        "colab": {
          "base_uri": "https://localhost:8080/"
        },
        "id": "cyyLfYuxnoJh",
        "outputId": "f79a6b0a-a711-4b1b-a488-dc93af0a5162"
      },
      "execution_count": 30,
      "outputs": [
        {
          "output_type": "execute_result",
          "data": {
            "text/plain": [
              "array([[91, 67, 98, 94],\n",
              "       [94, 95, 81, 79],\n",
              "       [50, 39, 42, 37],\n",
              "       [88, 18, 87, 27],\n",
              "       [79, 25, 73, 88],\n",
              "       [ 1, 11, 70, 63]])"
            ]
          },
          "metadata": {},
          "execution_count": 30
        }
      ]
    },
    {
      "cell_type": "code",
      "source": [
        "np.argmax(b, axis=1)\n",
        "# Here it gives our element row wise"
      ],
      "metadata": {
        "colab": {
          "base_uri": "https://localhost:8080/"
        },
        "id": "adELxonYnoFg",
        "outputId": "e3008417-2240-4b85-8ab8-bf4c991ad676"
      },
      "execution_count": 31,
      "outputs": [
        {
          "output_type": "execute_result",
          "data": {
            "text/plain": [
              "array([2, 1, 0, 0, 3, 2])"
            ]
          },
          "metadata": {},
          "execution_count": 31
        }
      ]
    },
    {
      "cell_type": "code",
      "source": [
        "np.argmax(b, axis=0)\n",
        "# Here it gives our element column wise"
      ],
      "metadata": {
        "colab": {
          "base_uri": "https://localhost:8080/"
        },
        "id": "i4l0_2TJnoBz",
        "outputId": "4c937679-6a7f-4cbf-91d6-d97c5a39db2e"
      },
      "execution_count": 32,
      "outputs": [
        {
          "output_type": "execute_result",
          "data": {
            "text/plain": [
              "array([1, 1, 0, 0])"
            ]
          },
          "metadata": {},
          "execution_count": 32
        }
      ]
    },
    {
      "cell_type": "code",
      "source": [
        "# np.argmin\n",
        "# It gives minimun number's index number in the array\n",
        "\n",
        "a"
      ],
      "metadata": {
        "colab": {
          "base_uri": "https://localhost:8080/"
        },
        "id": "w2z-xZlynn-n",
        "outputId": "75f588fc-686c-425c-b9d8-19589ed839db"
      },
      "execution_count": 33,
      "outputs": [
        {
          "output_type": "execute_result",
          "data": {
            "text/plain": [
              "array([82, 30, 49, 71, 99,  3, 70,  9, 72, 80, 20, 84, 62, 86, 52, 20,  4,\n",
              "       57, 15, 34, 30, 90, 33, 44, 54])"
            ]
          },
          "metadata": {},
          "execution_count": 33
        }
      ]
    },
    {
      "cell_type": "code",
      "source": [
        "np.argmin(a)"
      ],
      "metadata": {
        "colab": {
          "base_uri": "https://localhost:8080/"
        },
        "id": "2pgSfZdknn7e",
        "outputId": "890ac558-d9f1-44fc-b177-0c1d5cfbca4c"
      },
      "execution_count": 34,
      "outputs": [
        {
          "output_type": "execute_result",
          "data": {
            "text/plain": [
              "5"
            ]
          },
          "metadata": {},
          "execution_count": 34
        }
      ]
    },
    {
      "cell_type": "markdown",
      "source": [
        "#np.cumsum\n",
        "- numpy.cumsum() function is used when we want to compute the cumulative sum of array elements over a given axis.\n",
        "\n",
        "https://numpy.org/doc/stable/reference/generated/numpy.cumsum.html"
      ],
      "metadata": {
        "id": "MBnx_CEaq1Gx"
      }
    },
    {
      "cell_type": "code",
      "source": [
        "a"
      ],
      "metadata": {
        "colab": {
          "base_uri": "https://localhost:8080/"
        },
        "id": "GfqJRNblnn4Z",
        "outputId": "4883b577-da74-4374-9a95-f9bdb64c3d4e"
      },
      "execution_count": 35,
      "outputs": [
        {
          "output_type": "execute_result",
          "data": {
            "text/plain": [
              "array([82, 30, 49, 71, 99,  3, 70,  9, 72, 80, 20, 84, 62, 86, 52, 20,  4,\n",
              "       57, 15, 34, 30, 90, 33, 44, 54])"
            ]
          },
          "metadata": {},
          "execution_count": 35
        }
      ]
    },
    {
      "cell_type": "code",
      "source": [
        "np.cumsum(a)"
      ],
      "metadata": {
        "colab": {
          "base_uri": "https://localhost:8080/"
        },
        "id": "gP9bfm2oqwUN",
        "outputId": "1889ccca-aee5-49f7-c89d-1502cde303d8"
      },
      "execution_count": 36,
      "outputs": [
        {
          "output_type": "execute_result",
          "data": {
            "text/plain": [
              "array([  82,  112,  161,  232,  331,  334,  404,  413,  485,  565,  585,\n",
              "        669,  731,  817,  869,  889,  893,  950,  965,  999, 1029, 1119,\n",
              "       1152, 1196, 1250])"
            ]
          },
          "metadata": {},
          "execution_count": 36
        }
      ]
    },
    {
      "cell_type": "code",
      "source": [
        "b"
      ],
      "metadata": {
        "colab": {
          "base_uri": "https://localhost:8080/"
        },
        "id": "JIQx6sSWqwR8",
        "outputId": "a4d19fe7-3960-4e98-93ec-7b75de058793"
      },
      "execution_count": 37,
      "outputs": [
        {
          "output_type": "execute_result",
          "data": {
            "text/plain": [
              "array([[91, 67, 98, 94],\n",
              "       [94, 95, 81, 79],\n",
              "       [50, 39, 42, 37],\n",
              "       [88, 18, 87, 27],\n",
              "       [79, 25, 73, 88],\n",
              "       [ 1, 11, 70, 63]])"
            ]
          },
          "metadata": {},
          "execution_count": 37
        }
      ]
    },
    {
      "cell_type": "code",
      "source": [
        "np.cumsum(b)\n",
        "# It converts theis 2D array into 1D and then gives us the cummulative sum"
      ],
      "metadata": {
        "colab": {
          "base_uri": "https://localhost:8080/"
        },
        "id": "mjUfqTYOqwPs",
        "outputId": "103ab844-951b-45ff-9ebf-820ceef0f515"
      },
      "execution_count": 38,
      "outputs": [
        {
          "output_type": "execute_result",
          "data": {
            "text/plain": [
              "array([  91,  158,  256,  350,  444,  539,  620,  699,  749,  788,  830,\n",
              "        867,  955,  973, 1060, 1087, 1166, 1191, 1264, 1352, 1353, 1364,\n",
              "       1434, 1497])"
            ]
          },
          "metadata": {},
          "execution_count": 38
        }
      ]
    },
    {
      "cell_type": "code",
      "source": [
        "np.cumsum(b,axis=1)"
      ],
      "metadata": {
        "colab": {
          "base_uri": "https://localhost:8080/"
        },
        "id": "4XNbnElPqwME",
        "outputId": "593997de-ca03-4ca8-dec7-feae804af56d"
      },
      "execution_count": 41,
      "outputs": [
        {
          "output_type": "execute_result",
          "data": {
            "text/plain": [
              "array([[ 91, 158, 256, 350],\n",
              "       [ 94, 189, 270, 349],\n",
              "       [ 50,  89, 131, 168],\n",
              "       [ 88, 106, 193, 220],\n",
              "       [ 79, 104, 177, 265],\n",
              "       [  1,  12,  82, 145]])"
            ]
          },
          "metadata": {},
          "execution_count": 41
        }
      ]
    },
    {
      "cell_type": "code",
      "source": [
        "# cummulative product\n",
        "a"
      ],
      "metadata": {
        "colab": {
          "base_uri": "https://localhost:8080/"
        },
        "id": "7SBNB-0MqwJT",
        "outputId": "cf766259-9c12-43fe-9c79-729124a249ae"
      },
      "execution_count": 42,
      "outputs": [
        {
          "output_type": "execute_result",
          "data": {
            "text/plain": [
              "array([82, 30, 49, 71, 99,  3, 70,  9, 72, 80, 20, 84, 62, 86, 52, 20,  4,\n",
              "       57, 15, 34, 30, 90, 33, 44, 54])"
            ]
          },
          "metadata": {},
          "execution_count": 42
        }
      ]
    },
    {
      "cell_type": "code",
      "source": [
        "np.cumprod(a)"
      ],
      "metadata": {
        "colab": {
          "base_uri": "https://localhost:8080/"
        },
        "id": "rgnDam5HqwHD",
        "outputId": "b2aa03da-855f-46db-ea46-ee730f6b8c2f"
      },
      "execution_count": 43,
      "outputs": [
        {
          "output_type": "execute_result",
          "data": {
            "text/plain": [
              "array([                  82,                 2460,               120540,\n",
              "                    8558340,            847275660,           2541826980,\n",
              "               177927888600,        1601350997400,      115297271812800,\n",
              "           9223781745024000,   184475634900480000, -2950790742069231616,\n",
              "        1518414728803155968,  1456458161104551936,  1948848082598494208,\n",
              "        2083473504550780928,  8333894018203123712, -4583386878870290432,\n",
              "        5036173111783849984,  5209189137264934912,  8701721528271634432,\n",
              "        8391686448645931008,   224491699672449024, -8569109288121794560,\n",
              "       -1563299715838115840])"
            ]
          },
          "metadata": {},
          "execution_count": 43
        }
      ]
    },
    {
      "cell_type": "markdown",
      "source": [
        "#np.percentile\n",
        "- numpy.percentile()function used to compute the nth percentile of the given data (array elements) along the specified axis.\n",
        "\n",
        "https://numpy.org/doc/stable/reference/generated/numpy.percentile.html"
      ],
      "metadata": {
        "id": "lg9mkUmM-udy"
      }
    },
    {
      "cell_type": "code",
      "source": [
        "# percentile\n",
        "a"
      ],
      "metadata": {
        "colab": {
          "base_uri": "https://localhost:8080/"
        },
        "id": "jFq12I5MqwDx",
        "outputId": "be9a3f4e-4e5c-47f1-bb10-1948a2b24800"
      },
      "execution_count": 44,
      "outputs": [
        {
          "output_type": "execute_result",
          "data": {
            "text/plain": [
              "array([82, 30, 49, 71, 99,  3, 70,  9, 72, 80, 20, 84, 62, 86, 52, 20,  4,\n",
              "       57, 15, 34, 30, 90, 33, 44, 54])"
            ]
          },
          "metadata": {},
          "execution_count": 44
        }
      ]
    },
    {
      "cell_type": "code",
      "source": [
        "np.max(a)"
      ],
      "metadata": {
        "colab": {
          "base_uri": "https://localhost:8080/"
        },
        "id": "JVCQc50CqwAK",
        "outputId": "feb380d5-2680-4fe4-fed9-dba7258dec4f"
      },
      "execution_count": 45,
      "outputs": [
        {
          "output_type": "execute_result",
          "data": {
            "text/plain": [
              "99"
            ]
          },
          "metadata": {},
          "execution_count": 45
        }
      ]
    },
    {
      "cell_type": "code",
      "source": [
        "np.percentile(a,100)"
      ],
      "metadata": {
        "colab": {
          "base_uri": "https://localhost:8080/"
        },
        "id": "4PVJ-6GIqv8Y",
        "outputId": "83986843-fd1b-440c-d077-a0f704b41c2a"
      },
      "execution_count": 46,
      "outputs": [
        {
          "output_type": "execute_result",
          "data": {
            "text/plain": [
              "99.0"
            ]
          },
          "metadata": {},
          "execution_count": 46
        }
      ]
    },
    {
      "cell_type": "code",
      "source": [
        "np.percentile(a,50)"
      ],
      "metadata": {
        "colab": {
          "base_uri": "https://localhost:8080/"
        },
        "id": "c5FOYXglqv5R",
        "outputId": "4042c37a-5972-4698-a6f3-4f308c803ab2"
      },
      "execution_count": 47,
      "outputs": [
        {
          "output_type": "execute_result",
          "data": {
            "text/plain": [
              "52.0"
            ]
          },
          "metadata": {},
          "execution_count": 47
        }
      ]
    },
    {
      "cell_type": "code",
      "source": [
        "np.median(a)"
      ],
      "metadata": {
        "colab": {
          "base_uri": "https://localhost:8080/"
        },
        "id": "5gHSh1Slqv2U",
        "outputId": "dec4847a-127f-4363-ae54-8798403274fc"
      },
      "execution_count": 48,
      "outputs": [
        {
          "output_type": "execute_result",
          "data": {
            "text/plain": [
              "52.0"
            ]
          },
          "metadata": {},
          "execution_count": 48
        }
      ]
    },
    {
      "cell_type": "markdown",
      "source": [
        "#np.histogram\n",
        "- Numpy has a built-in numpy.histogram() function which represents the frequency of data distribution in the graphical form.\n",
        "\n",
        "https://numpy.org/doc/stable/reference/generated/numpy.histogram.html"
      ],
      "metadata": {
        "id": "ETJ9FOxO_uRn"
      }
    },
    {
      "cell_type": "code",
      "source": [
        "a"
      ],
      "metadata": {
        "colab": {
          "base_uri": "https://localhost:8080/"
        },
        "id": "P32qZLAr_UtV",
        "outputId": "3ce13ea4-a90b-4e30-8be9-6f1d44cb2539"
      },
      "execution_count": 49,
      "outputs": [
        {
          "output_type": "execute_result",
          "data": {
            "text/plain": [
              "array([82, 30, 49, 71, 99,  3, 70,  9, 72, 80, 20, 84, 62, 86, 52, 20,  4,\n",
              "       57, 15, 34, 30, 90, 33, 44, 54])"
            ]
          },
          "metadata": {},
          "execution_count": 49
        }
      ]
    },
    {
      "cell_type": "code",
      "source": [
        "np.histogram(a,bins=[0,10,20,30,40,50,60,70,80,90,100])"
      ],
      "metadata": {
        "colab": {
          "base_uri": "https://localhost:8080/"
        },
        "id": "u3Bl9W_B_rDI",
        "outputId": "49ead3af-2f23-4869-d1b2-0924949f367d"
      },
      "execution_count": 52,
      "outputs": [
        {
          "output_type": "execute_result",
          "data": {
            "text/plain": [
              "(array([3, 1, 2, 4, 2, 3, 1, 3, 4, 2]),\n",
              " array([  0,  10,  20,  30,  40,  50,  60,  70,  80,  90, 100]))"
            ]
          },
          "metadata": {},
          "execution_count": 52
        }
      ]
    },
    {
      "cell_type": "markdown",
      "source": [
        "# Here the upper array tell us the number of element present in the given bin size"
      ],
      "metadata": {
        "id": "ed1nAkRGBAUF"
      }
    },
    {
      "cell_type": "markdown",
      "source": [
        "#np.corrcoef\n",
        "- Return Pearson product-moment correlation coefficients.\n",
        "\n",
        "https://numpy.org/doc/stable/reference/generated/numpy.corrcoef.html"
      ],
      "metadata": {
        "id": "YCzb5xOHBOO2"
      }
    },
    {
      "cell_type": "markdown",
      "source": [
        "# Correlation varies between -1 to 1.\n",
        "- 1 correlation means the given two columns are highly correlated or directly proportional.\n",
        "- -1 correlation means inversly propotional\n",
        "- 0 means no correlation"
      ],
      "metadata": {
        "id": "xzjlzAfcBjkm"
      }
    },
    {
      "cell_type": "code",
      "source": [
        "salary = np.array([20000,40000,60000,80000])\n",
        "experiance = np.array([2,3,4,5])\n",
        "\n",
        "np.corrcoef(salary,experiance)"
      ],
      "metadata": {
        "colab": {
          "base_uri": "https://localhost:8080/"
        },
        "id": "Hrt3XHMC_q_g",
        "outputId": "4d1fcf08-2935-4d12-db34-ab27fed072bb"
      },
      "execution_count": 55,
      "outputs": [
        {
          "output_type": "execute_result",
          "data": {
            "text/plain": [
              "array([[1., 1.],\n",
              "       [1., 1.]])"
            ]
          },
          "metadata": {},
          "execution_count": 55
        }
      ]
    },
    {
      "cell_type": "markdown",
      "source": [
        "# np.isin\n",
        "- With the help of numpy.isin() method, we can see that one array having values are checked in a different numpy array having different elements with different sizes.\n",
        "\n",
        "https://numpy.org/doc/stable/reference/generated/numpy.isin.html"
      ],
      "metadata": {
        "id": "qvTjAtGKCqlr"
      }
    },
    {
      "cell_type": "code",
      "source": [
        "a"
      ],
      "metadata": {
        "colab": {
          "base_uri": "https://localhost:8080/"
        },
        "id": "_FBEftSu_q1G",
        "outputId": "94a5218e-ade8-4237-a360-1c627819dd84"
      },
      "execution_count": 56,
      "outputs": [
        {
          "output_type": "execute_result",
          "data": {
            "text/plain": [
              "array([82, 30, 49, 71, 99,  3, 70,  9, 72, 80, 20, 84, 62, 86, 52, 20,  4,\n",
              "       57, 15, 34, 30, 90, 33, 44, 54])"
            ]
          },
          "metadata": {},
          "execution_count": 56
        }
      ]
    },
    {
      "cell_type": "code",
      "source": [
        "items = [10,20,30,40,50]\n",
        "np.isin(a,items)"
      ],
      "metadata": {
        "colab": {
          "base_uri": "https://localhost:8080/"
        },
        "id": "HNezRMGL_qw_",
        "outputId": "9cba72de-70aa-4de9-baa1-245bf9cad477"
      },
      "execution_count": 57,
      "outputs": [
        {
          "output_type": "execute_result",
          "data": {
            "text/plain": [
              "array([False,  True, False, False, False, False, False, False, False,\n",
              "       False,  True, False, False, False, False,  True, False, False,\n",
              "       False, False,  True, False, False, False, False])"
            ]
          },
          "metadata": {},
          "execution_count": 57
        }
      ]
    },
    {
      "cell_type": "code",
      "source": [
        "# To get the values\n",
        "a[np.isin(a,items)]"
      ],
      "metadata": {
        "colab": {
          "base_uri": "https://localhost:8080/"
        },
        "id": "FMlIH8JB_qui",
        "outputId": "f736e771-1760-48df-bc58-67816686a479"
      },
      "execution_count": 59,
      "outputs": [
        {
          "output_type": "execute_result",
          "data": {
            "text/plain": [
              "array([30, 20, 20, 30])"
            ]
          },
          "metadata": {},
          "execution_count": 59
        }
      ]
    },
    {
      "cell_type": "markdown",
      "source": [
        "#np.flip\n",
        "- The numpy.flip() function reverses the order of array elements along the specified axis, preserving the shape of the array.\n",
        "\n",
        "https://numpy.org/doc/stable/reference/generated/numpy.flip.html"
      ],
      "metadata": {
        "id": "vZbMF2quDhff"
      }
    },
    {
      "cell_type": "code",
      "source": [
        "a"
      ],
      "metadata": {
        "colab": {
          "base_uri": "https://localhost:8080/"
        },
        "id": "EUmvMqu3_qqn",
        "outputId": "5eaa3202-0cfa-4c70-9677-ec1028e43e6d"
      },
      "execution_count": 60,
      "outputs": [
        {
          "output_type": "execute_result",
          "data": {
            "text/plain": [
              "array([82, 30, 49, 71, 99,  3, 70,  9, 72, 80, 20, 84, 62, 86, 52, 20,  4,\n",
              "       57, 15, 34, 30, 90, 33, 44, 54])"
            ]
          },
          "metadata": {},
          "execution_count": 60
        }
      ]
    },
    {
      "cell_type": "code",
      "source": [
        "np.flip(a)"
      ],
      "metadata": {
        "colab": {
          "base_uri": "https://localhost:8080/"
        },
        "id": "8b1QzAna_qnC",
        "outputId": "07901af9-1280-4e45-8445-05d81cf36a19"
      },
      "execution_count": 61,
      "outputs": [
        {
          "output_type": "execute_result",
          "data": {
            "text/plain": [
              "array([54, 44, 33, 90, 30, 34, 15, 57,  4, 20, 52, 86, 62, 84, 20, 80, 72,\n",
              "        9, 70,  3, 99, 71, 49, 30, 82])"
            ]
          },
          "metadata": {},
          "execution_count": 61
        }
      ]
    },
    {
      "cell_type": "code",
      "source": [
        "b"
      ],
      "metadata": {
        "colab": {
          "base_uri": "https://localhost:8080/"
        },
        "id": "Fc3Tke5V_qjW",
        "outputId": "437afcab-5690-4e14-80e1-e9c3816a5775"
      },
      "execution_count": 62,
      "outputs": [
        {
          "output_type": "execute_result",
          "data": {
            "text/plain": [
              "array([[91, 67, 98, 94],\n",
              "       [94, 95, 81, 79],\n",
              "       [50, 39, 42, 37],\n",
              "       [88, 18, 87, 27],\n",
              "       [79, 25, 73, 88],\n",
              "       [ 1, 11, 70, 63]])"
            ]
          },
          "metadata": {},
          "execution_count": 62
        }
      ]
    },
    {
      "cell_type": "code",
      "source": [
        "np.flip(b)"
      ],
      "metadata": {
        "colab": {
          "base_uri": "https://localhost:8080/"
        },
        "id": "pmxl-LiY_qgP",
        "outputId": "ff587711-1991-44b7-a8c1-5c4d2477a9d8"
      },
      "execution_count": 63,
      "outputs": [
        {
          "output_type": "execute_result",
          "data": {
            "text/plain": [
              "array([[63, 70, 11,  1],\n",
              "       [88, 73, 25, 79],\n",
              "       [27, 87, 18, 88],\n",
              "       [37, 42, 39, 50],\n",
              "       [79, 81, 95, 94],\n",
              "       [94, 98, 67, 91]])"
            ]
          },
          "metadata": {},
          "execution_count": 63
        }
      ]
    },
    {
      "cell_type": "code",
      "source": [
        "np.flip(b,axis = 0)"
      ],
      "metadata": {
        "colab": {
          "base_uri": "https://localhost:8080/"
        },
        "id": "OLSJuHOC_qdQ",
        "outputId": "fb7f6108-69bc-4e76-bd34-f4cb46368d46"
      },
      "execution_count": 64,
      "outputs": [
        {
          "output_type": "execute_result",
          "data": {
            "text/plain": [
              "array([[ 1, 11, 70, 63],\n",
              "       [79, 25, 73, 88],\n",
              "       [88, 18, 87, 27],\n",
              "       [50, 39, 42, 37],\n",
              "       [94, 95, 81, 79],\n",
              "       [91, 67, 98, 94]])"
            ]
          },
          "metadata": {},
          "execution_count": 64
        }
      ]
    },
    {
      "cell_type": "code",
      "source": [
        "np.flip(b,axis = 1)"
      ],
      "metadata": {
        "colab": {
          "base_uri": "https://localhost:8080/"
        },
        "id": "5u8wEq_3D1TM",
        "outputId": "b9741794-eff3-40dc-8314-de14ceac7e2c"
      },
      "execution_count": 65,
      "outputs": [
        {
          "output_type": "execute_result",
          "data": {
            "text/plain": [
              "array([[94, 98, 67, 91],\n",
              "       [79, 81, 95, 94],\n",
              "       [37, 42, 39, 50],\n",
              "       [27, 87, 18, 88],\n",
              "       [88, 73, 25, 79],\n",
              "       [63, 70, 11,  1]])"
            ]
          },
          "metadata": {},
          "execution_count": 65
        }
      ]
    },
    {
      "cell_type": "markdown",
      "source": [
        "#np.put\n",
        "- The numpy.put() function replaces specific elements of an array with given values of p_array. Array indexed works on flattened array.\n",
        "\n",
        "https://numpy.org/doc/stable/reference/generated/numpy.put.html"
      ],
      "metadata": {
        "id": "OpoOeA-uEEa9"
      }
    },
    {
      "cell_type": "code",
      "source": [
        "a"
      ],
      "metadata": {
        "colab": {
          "base_uri": "https://localhost:8080/"
        },
        "id": "3Re9l8KaD_qb",
        "outputId": "cffb767d-8a87-49f2-9ac5-58222b8dea8f"
      },
      "execution_count": 66,
      "outputs": [
        {
          "output_type": "execute_result",
          "data": {
            "text/plain": [
              "array([82, 30, 49, 71, 99,  3, 70,  9, 72, 80, 20, 84, 62, 86, 52, 20,  4,\n",
              "       57, 15, 34, 30, 90, 33, 44, 54])"
            ]
          },
          "metadata": {},
          "execution_count": 66
        }
      ]
    },
    {
      "cell_type": "code",
      "source": [
        "np.put(a,[0,1],[1,2])"
      ],
      "metadata": {
        "id": "hVL9q45ZEH8d"
      },
      "execution_count": 69,
      "outputs": []
    },
    {
      "cell_type": "code",
      "source": [
        "a"
      ],
      "metadata": {
        "colab": {
          "base_uri": "https://localhost:8080/"
        },
        "id": "PR-YgdQ-EH5J",
        "outputId": "da218f4d-e207-4e06-e4bf-8f1fd5d00389"
      },
      "execution_count": 72,
      "outputs": [
        {
          "output_type": "execute_result",
          "data": {
            "text/plain": [
              "array([ 1,  2, 49, 71, 99,  3, 70,  9, 72, 80, 20, 84, 62, 86, 52, 20,  4,\n",
              "       57, 15, 34, 30, 90, 33, 44, 54])"
            ]
          },
          "metadata": {},
          "execution_count": 72
        }
      ]
    },
    {
      "cell_type": "markdown",
      "source": [
        "#np.delete\n",
        "- The numpy.delete() function returns a new array with the deletion of sub-arrays along with the mentioned axis.\n",
        "\n",
        "https://numpy.org/doc/stable/reference/generated/numpy.delete.html"
      ],
      "metadata": {
        "id": "f7w_VY05ErWe"
      }
    },
    {
      "cell_type": "code",
      "source": [
        "a"
      ],
      "metadata": {
        "colab": {
          "base_uri": "https://localhost:8080/"
        },
        "id": "cFF31YKlEo_u",
        "outputId": "88e89c6d-2a73-49fa-a4fd-20579baf5e28"
      },
      "execution_count": 73,
      "outputs": [
        {
          "output_type": "execute_result",
          "data": {
            "text/plain": [
              "array([ 1,  2, 49, 71, 99,  3, 70,  9, 72, 80, 20, 84, 62, 86, 52, 20,  4,\n",
              "       57, 15, 34, 30, 90, 33, 44, 54])"
            ]
          },
          "metadata": {},
          "execution_count": 73
        }
      ]
    },
    {
      "cell_type": "code",
      "source": [
        "np.delete(a,[0,1,3])\n",
        "\n",
        "# Here [0,1,3] these are the index numbers"
      ],
      "metadata": {
        "colab": {
          "base_uri": "https://localhost:8080/"
        },
        "id": "IycRagc1Eo8p",
        "outputId": "5269ede8-e0fd-40f2-8c69-9abd91624ffe"
      },
      "execution_count": 75,
      "outputs": [
        {
          "output_type": "execute_result",
          "data": {
            "text/plain": [
              "array([49, 99,  3, 70,  9, 72, 80, 20, 84, 62, 86, 52, 20,  4, 57, 15, 34,\n",
              "       30, 90, 33, 44, 54])"
            ]
          },
          "metadata": {},
          "execution_count": 75
        }
      ]
    },
    {
      "cell_type": "markdown",
      "source": [
        "#Set functions\n",
        "- np.union1d\n",
        "- np.intersect1d\n",
        "- np.setdiff1d\n",
        "- np.setxor1d\n",
        "- np.in1d"
      ],
      "metadata": {
        "id": "k6fJP4G_FVLZ"
      }
    },
    {
      "cell_type": "code",
      "source": [
        "#union\n",
        "m = np.array([1,2,3,4,5])\n",
        "n = np.array([3,4,5,6,7])\n",
        "\n",
        "np.union1d(m,n)"
      ],
      "metadata": {
        "colab": {
          "base_uri": "https://localhost:8080/"
        },
        "id": "H3OQPMWEEo5t",
        "outputId": "f511381c-03d2-4e65-fe50-3547cf0037dd"
      },
      "execution_count": 76,
      "outputs": [
        {
          "output_type": "execute_result",
          "data": {
            "text/plain": [
              "array([1, 2, 3, 4, 5, 6, 7])"
            ]
          },
          "metadata": {},
          "execution_count": 76
        }
      ]
    },
    {
      "cell_type": "code",
      "source": [
        "# intersect\n",
        "np.intersect1d(m,n)"
      ],
      "metadata": {
        "colab": {
          "base_uri": "https://localhost:8080/"
        },
        "id": "zeZIi9TaEo2T",
        "outputId": "8f3e7c8d-c6b6-484f-b057-cbe0cd673378"
      },
      "execution_count": 77,
      "outputs": [
        {
          "output_type": "execute_result",
          "data": {
            "text/plain": [
              "array([3, 4, 5])"
            ]
          },
          "metadata": {},
          "execution_count": 77
        }
      ]
    },
    {
      "cell_type": "code",
      "source": [
        "# It will give unique value\n",
        "np.setdiff1d(m,n)"
      ],
      "metadata": {
        "colab": {
          "base_uri": "https://localhost:8080/"
        },
        "id": "dMjCla5PEH19",
        "outputId": "e25b9d8f-a280-45d6-9a7b-aa6f6206bfc3"
      },
      "execution_count": 79,
      "outputs": [
        {
          "output_type": "execute_result",
          "data": {
            "text/plain": [
              "array([1, 2])"
            ]
          },
          "metadata": {},
          "execution_count": 79
        }
      ]
    },
    {
      "cell_type": "code",
      "source": [
        "#np.setxor1d\n",
        "np.setxor1d(m,n)"
      ],
      "metadata": {
        "colab": {
          "base_uri": "https://localhost:8080/"
        },
        "id": "S2Yh1BTrEHzK",
        "outputId": "6f21aca0-51a2-467e-ec2f-c2cf04810ef5"
      },
      "execution_count": 80,
      "outputs": [
        {
          "output_type": "execute_result",
          "data": {
            "text/plain": [
              "array([1, 2, 6, 7])"
            ]
          },
          "metadata": {},
          "execution_count": 80
        }
      ]
    },
    {
      "cell_type": "code",
      "source": [
        "#np.in1d\n",
        "np.in1d(m,n)"
      ],
      "metadata": {
        "colab": {
          "base_uri": "https://localhost:8080/"
        },
        "id": "ySiYxkfUF3jF",
        "outputId": "ca393e12-f1da-4eba-ff9b-7a71eb2467b1"
      },
      "execution_count": 81,
      "outputs": [
        {
          "output_type": "execute_result",
          "data": {
            "text/plain": [
              "array([False, False,  True,  True,  True])"
            ]
          },
          "metadata": {},
          "execution_count": 81
        }
      ]
    },
    {
      "cell_type": "code",
      "source": [
        "m[np.in1d(m,n)]"
      ],
      "metadata": {
        "colab": {
          "base_uri": "https://localhost:8080/"
        },
        "id": "Fp5_8Mo_F8oD",
        "outputId": "ea5c1418-346f-42c7-b89d-4c25d83f4098"
      },
      "execution_count": 82,
      "outputs": [
        {
          "output_type": "execute_result",
          "data": {
            "text/plain": [
              "array([3, 4, 5])"
            ]
          },
          "metadata": {},
          "execution_count": 82
        }
      ]
    },
    {
      "cell_type": "markdown",
      "source": [
        "#np.clip\n",
        "- numpy.clip() function is used to Clip (limit) the values in an array.\n",
        "\n",
        "https://numpy.org/doc/stable/reference/generated/numpy.clip.html"
      ],
      "metadata": {
        "id": "FiUob0nLGCPp"
      }
    },
    {
      "cell_type": "code",
      "source": [
        "len(a)"
      ],
      "metadata": {
        "colab": {
          "base_uri": "https://localhost:8080/"
        },
        "id": "OkDLwVX_GDFt",
        "outputId": "5a9fbc6d-ce7f-49c2-9970-0ecd472e854a"
      },
      "execution_count": 86,
      "outputs": [
        {
          "output_type": "execute_result",
          "data": {
            "text/plain": [
              "25"
            ]
          },
          "metadata": {},
          "execution_count": 86
        }
      ]
    },
    {
      "cell_type": "code",
      "source": [
        "# keep the values between 25-75\n",
        "np.clip(a,a_min=25,a_max=75)"
      ],
      "metadata": {
        "colab": {
          "base_uri": "https://localhost:8080/"
        },
        "id": "j-1yRt27GTF0",
        "outputId": "523389d2-7853-4597-a2ba-b6cc3497492c"
      },
      "execution_count": 85,
      "outputs": [
        {
          "output_type": "execute_result",
          "data": {
            "text/plain": [
              "array([25, 25, 49, 71, 75, 25, 70, 25, 72, 75, 25, 75, 62, 75, 52, 25, 25,\n",
              "       57, 25, 34, 30, 75, 33, 44, 54])"
            ]
          },
          "metadata": {},
          "execution_count": 85
        }
      ]
    },
    {
      "cell_type": "code",
      "source": [
        "len(np.clip(a,a_min=25,a_max=75))"
      ],
      "metadata": {
        "colab": {
          "base_uri": "https://localhost:8080/"
        },
        "id": "S37C38xBGgxs",
        "outputId": "a2a2dae7-ee69-4d73-a0bd-36a8773729d6"
      },
      "execution_count": 87,
      "outputs": [
        {
          "output_type": "execute_result",
          "data": {
            "text/plain": [
              "25"
            ]
          },
          "metadata": {},
          "execution_count": 87
        }
      ]
    },
    {
      "cell_type": "code",
      "source": [
        "## 17. np.swapaxes"
      ],
      "metadata": {
        "id": "lXRtvOwPGslN"
      },
      "execution_count": 88,
      "outputs": []
    },
    {
      "cell_type": "code",
      "source": [
        "## 18. np.uniform"
      ],
      "metadata": {
        "id": "a_KWnbwfHApt"
      },
      "execution_count": 89,
      "outputs": []
    },
    {
      "cell_type": "code",
      "source": [
        "## 19. np.count_nonzero"
      ],
      "metadata": {
        "id": "8Hr19aR3HC38"
      },
      "execution_count": 90,
      "outputs": []
    },
    {
      "cell_type": "code",
      "source": [
        "# 21. np.tile\n",
        "# https://www.kaggle.com/code/abhayparashar31/best-numpy-functions-for-data-science-50?scriptVersionId=98816580"
      ],
      "metadata": {
        "id": "cGirck7lHFVU"
      },
      "execution_count": 91,
      "outputs": []
    },
    {
      "cell_type": "code",
      "source": [
        "# 22. np.repeat\n",
        "# https://towardsdatascience.com/10-numpy-functions-you-should-know-1dc4863764c5"
      ],
      "metadata": {
        "id": "dhxXSB-oHH03"
      },
      "execution_count": 92,
      "outputs": []
    },
    {
      "cell_type": "code",
      "source": [
        "# 25. np.allclose and equals"
      ],
      "metadata": {
        "id": "EUeGMSlNHKCE"
      },
      "execution_count": 93,
      "outputs": []
    },
    {
      "cell_type": "code",
      "source": [],
      "metadata": {
        "id": "e-qZWmWAHOr8"
      },
      "execution_count": null,
      "outputs": []
    }
  ]
}