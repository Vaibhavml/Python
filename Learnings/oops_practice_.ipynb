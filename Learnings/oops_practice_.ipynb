{
  "nbformat": 4,
  "nbformat_minor": 0,
  "metadata": {
    "colab": {
      "provenance": []
    },
    "kernelspec": {
      "name": "python3",
      "display_name": "Python 3"
    },
    "language_info": {
      "name": "python"
    }
  },
  "cells": [
    {
      "cell_type": "code",
      "execution_count": 1,
      "metadata": {
        "id": "0cU-07eCaYUt"
      },
      "outputs": [],
      "source": [
        "# create a python code for ATM\n",
        "\n",
        "# Function:\n",
        "\n",
        "# Menu\n",
        "\n",
        "# 1. Change Pin\n",
        "# 2. new pin\n",
        "# 3. Balance withdraw\n",
        "# 4. Check Balance\n",
        "# 5. Return to exit"
      ]
    },
    {
      "cell_type": "code",
      "source": [
        "class Atm:\n",
        "\n",
        "  def __init__(self):\n",
        "    self.pin = ''\n",
        "    self.balance = 0\n",
        "    self.menu()\n",
        "\n",
        "  def menu(self):\n",
        "    user_input = input(\"\"\"\n",
        "    Hi,\n",
        "    1. Press 1 to create Pin\n",
        "    2. Press 2 to change pin\n",
        "    3. Press 3 to Withdraw money\n",
        "    4. Press 4 to see remaining balance\n",
        "    5. Press 5 to exit\n",
        "    \"\"\")\n",
        "\n",
        "    if user_input == 1:\n",
        "      self.create_pin()\n",
        "\n",
        "    elif user_input == 2:\n",
        "      self.change_pin()\n",
        "\n",
        "    elif user_input == 3:\n",
        "      self.withdraw()\n",
        "    elif user_input == 4:\n",
        "      self.remaining_balance()\n",
        "    else:\n",
        "      exit()\n",
        "\n",
        "\n",
        "  def create_pin(self):\n",
        "    print(\"Hi\")\n",
        "\n",
        "    your_balance = int(input(\"Enter you balance\"))\n",
        "    your_balance = self.balance\n",
        "\n",
        "    new_pin = input(\"Enter new pin\")\n",
        "    if len(new_pin) != 4:\n",
        "        return \"Enter 4 digit pin\"\n",
        "\n",
        "    else:\n",
        "      self.pin = new_pin\n",
        "      print(\"New pin created sucessfully\")\n",
        "      self.menu()\n",
        "\n",
        "  def change_pin(self):\n",
        "\n",
        "      old_pin = input(\"Enter old pin\")\n",
        "      if old_pin != self.pin:\n",
        "        return \"Kindly Enter the correct pin\"\n",
        "\n",
        "      else:\n",
        "        changed_pin = input(\"Enter new PIN\")\n",
        "        new_pin = changed_pin\n",
        "      self.menu()\n",
        "\n",
        "  def withdraw(self):\n",
        "    amount = input(\"Enter the amount to withdraw\")\n",
        "    if amount >= self.balance:\n",
        "      pin = input(\"Enter the PIN\")\n",
        "\n",
        "      if pin != self.pin:\n",
        "        print (\"INVALID PIN\")\n",
        "\n",
        "      else:\n",
        "        print(\"Money Withdrawn Succesfully..!!\")\n",
        "    else:\n",
        "      print('Insufficient balance')\n",
        "    self.menu()\n",
        "\n",
        "  def remaining_balance(self):\n",
        "\n",
        "    remaining_balance = self.balance - self.withdraw\n",
        "    print(f\"The remaining balance is : {remaining_balance}\")\n",
        "\n",
        "    self.menu()\n"
      ],
      "metadata": {
        "id": "weHmXhvvhkWM"
      },
      "execution_count": 2,
      "outputs": []
    },
    {
      "cell_type": "code",
      "source": [
        "obj = Atm()"
      ],
      "metadata": {
        "colab": {
          "base_uri": "https://localhost:8080/"
        },
        "id": "t9Q-HXS2rYPW",
        "outputId": "0c55b108-16b1-4912-d6d7-9d737b516d77"
      },
      "execution_count": 3,
      "outputs": [
        {
          "name": "stdout",
          "output_type": "stream",
          "text": [
            "\n",
            "    Hi,\n",
            "    1. Press 1 to create Pin\n",
            "    2. Press 2 to change pin\n",
            "    3. Press 3 to Withdraw money\n",
            "    4. Press 4 to see remaining balance\n",
            "    5. Press 5 to exit\n",
            "    1\n"
          ]
        }
      ]
    },
    {
      "cell_type": "code",
      "source": [
        "print(\"Hi\")"
      ],
      "metadata": {
        "colab": {
          "base_uri": "https://localhost:8080/"
        },
        "id": "nKj3PDZxtWvQ",
        "outputId": "cbf2bde5-ce1c-427e-db81-19de5425790f"
      },
      "execution_count": 1,
      "outputs": [
        {
          "output_type": "stream",
          "name": "stdout",
          "text": [
            "Hi\n"
          ]
        }
      ]
    },
    {
      "cell_type": "code",
      "source": [],
      "metadata": {
        "id": "TBz_Y3kMtWsW"
      },
      "execution_count": null,
      "outputs": []
    },
    {
      "cell_type": "code",
      "source": [],
      "metadata": {
        "id": "1X7560ywtWp3"
      },
      "execution_count": null,
      "outputs": []
    },
    {
      "cell_type": "code",
      "source": [],
      "metadata": {
        "id": "OmOdOsgStWnG"
      },
      "execution_count": null,
      "outputs": []
    }
  ]
}