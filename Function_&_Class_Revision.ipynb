{
  "nbformat": 4,
  "nbformat_minor": 0,
  "metadata": {
    "colab": {
      "provenance": [],
      "authorship_tag": "ABX9TyMgEP1OCNF1S8MM+NdqxNFX",
      "include_colab_link": true
    },
    "kernelspec": {
      "name": "python3",
      "display_name": "Python 3"
    },
    "language_info": {
      "name": "python"
    }
  },
  "cells": [
    {
      "cell_type": "markdown",
      "metadata": {
        "id": "view-in-github",
        "colab_type": "text"
      },
      "source": [
        "<a href=\"https://colab.research.google.com/github/Vaibhavml/Python/blob/main/Function_%26_Class_Revision.ipynb\" target=\"_parent\"><img src=\"https://colab.research.google.com/assets/colab-badge.svg\" alt=\"Open In Colab\"/></a>"
      ]
    },
    {
      "cell_type": "markdown",
      "source": [
        "#Question:\n",
        "Create a Python class named Person with attributes name and age. Include a method called greet that prints a greeting message. Instantiate an object of this class and call the greet method.\n",
        "\n",
        "Approach:\n",
        "\n",
        "-Start by defining the Person class with the required attributes.\n",
        "-Implement the greet method to print a greeting message.\n",
        "-Create an instance of the class and call the greet method to check if it works as expected."
      ],
      "metadata": {
        "id": "yOYeeTIEA7i4"
      }
    },
    {
      "cell_type": "code",
      "source": [
        "class Person:\n",
        "  name = \"\"\n",
        "  age = 0\n",
        "\n",
        "  def greet(name,age):\n",
        "    print(f\"Hi {name} {age} Welcome back! \")\n",
        "\n",
        "Person.greet(\"RAHUL\", 10)"
      ],
      "metadata": {
        "colab": {
          "base_uri": "https://localhost:8080/"
        },
        "id": "3j5X8RxiBOWV",
        "outputId": "13696921-5d3e-4d85-8b52-056882a68f26"
      },
      "execution_count": 6,
      "outputs": [
        {
          "output_type": "stream",
          "name": "stdout",
          "text": [
            "Hi RAHUL 10 Welcome back! \n"
          ]
        }
      ]
    },
    {
      "cell_type": "code",
      "source": [
        "Person.greet(\"MIO\", 5)"
      ],
      "metadata": {
        "colab": {
          "base_uri": "https://localhost:8080/"
        },
        "id": "FvFmC4NfCmxe",
        "outputId": "f1f82b61-6a75-47ed-9656-e304b6de60ab"
      },
      "execution_count": 8,
      "outputs": [
        {
          "output_type": "stream",
          "name": "stdout",
          "text": [
            "Hi MIO 5 Welcome back! \n"
          ]
        }
      ]
    },
    {
      "cell_type": "code",
      "source": [
        "class Person:\n",
        "    def __init__(self, name, age):\n",
        "        self.name = name\n",
        "        self.age = age\n",
        "\n",
        "    def greet(self):\n",
        "        print(f\"Hello, my name is {self.name} and I am {self.age} years old.\")\n",
        "\n",
        "# Creating an instance of the Person class\n",
        "person_instance = Person(\"John\", 25)\n",
        "\n",
        "# Calling the greet method to print a greeting message\n",
        "person_instance.greet()\n"
      ],
      "metadata": {
        "id": "hVbxH2AbEGf0"
      },
      "execution_count": null,
      "outputs": []
    },
    {
      "cell_type": "markdown",
      "source": [
        "## Question:\n",
        "Write a Python function named multiply that takes two parameters and returns their product. Call the function with sample values and print the result."
      ],
      "metadata": {
        "id": "weK1Zpx2z_Qc"
      }
    },
    {
      "cell_type": "code",
      "source": [
        "def multiply(a,b):\n",
        "  multiply = a*b\n",
        "\n",
        "  return multiply"
      ],
      "metadata": {
        "id": "20Mr1gMKySx2"
      },
      "execution_count": 5,
      "outputs": []
    },
    {
      "cell_type": "code",
      "source": [
        "multiply(4,8)"
      ],
      "metadata": {
        "colab": {
          "base_uri": "https://localhost:8080/"
        },
        "id": "70rGyN080Nf0",
        "outputId": "009e8ed9-f499-4f80-bf49-045d142e96c9"
      },
      "execution_count": 6,
      "outputs": [
        {
          "output_type": "execute_result",
          "data": {
            "text/plain": [
              "32"
            ]
          },
          "metadata": {},
          "execution_count": 6
        }
      ]
    },
    {
      "cell_type": "markdown",
      "source": [
        "## Create a function named calculate_factorial that takes a non-negative integer as a parameter and returns its factorial. Test the function with different values.\n"
      ],
      "metadata": {
        "id": "4hZ6DLiz0Zkl"
      }
    },
    {
      "cell_type": "code",
      "source": [
        "def calculate_factorial(a):\n",
        "  fact = 1\n",
        "  for i in range(1,a+1):\n",
        "    fact = fact*i\n",
        "  return fact"
      ],
      "metadata": {
        "id": "3WkBF0bs0Qck"
      },
      "execution_count": 21,
      "outputs": []
    },
    {
      "cell_type": "code",
      "source": [
        "calculate_factorial(5)"
      ],
      "metadata": {
        "colab": {
          "base_uri": "https://localhost:8080/"
        },
        "id": "lvABhijo3I4F",
        "outputId": "361da722-f3e3-44c0-c0b9-7817836501d8"
      },
      "execution_count": 22,
      "outputs": [
        {
          "output_type": "execute_result",
          "data": {
            "text/plain": [
              "120"
            ]
          },
          "metadata": {},
          "execution_count": 22
        }
      ]
    },
    {
      "cell_type": "markdown",
      "source": [
        "# Question:Implement a function called reverse_list that takes a list as a parameter and returns a new list with the elements reversed. Test the function with various types of lists."
      ],
      "metadata": {
        "id": "5PSkIi2q3jki"
      }
    },
    {
      "cell_type": "code",
      "source": [
        "def reverse_list(input_list):\n",
        "  return list(reversed(input_list))"
      ],
      "metadata": {
        "id": "g0lAknk83ddY"
      },
      "execution_count": 25,
      "outputs": []
    },
    {
      "cell_type": "code",
      "source": [
        "input_list  = (10,20,30,4,5)\n",
        "reverse_list(input_list)"
      ],
      "metadata": {
        "colab": {
          "base_uri": "https://localhost:8080/"
        },
        "id": "WIxc65ee3IsD",
        "outputId": "2b613de6-c234-4fb1-f986-1168f65262ab"
      },
      "execution_count": 28,
      "outputs": [
        {
          "output_type": "execute_result",
          "data": {
            "text/plain": [
              "[5, 4, 30, 20, 10]"
            ]
          },
          "metadata": {},
          "execution_count": 28
        }
      ]
    },
    {
      "cell_type": "code",
      "source": [
        "# Use of f string\n",
        "list1 = (100,200,400,500,700,800,900)\n",
        "reversed_list = reverse_list(list1)\n",
        "print(f\"The original list is {list1}\")\n",
        "print(f\"The reversed list is {reversed_list}\")"
      ],
      "metadata": {
        "colab": {
          "base_uri": "https://localhost:8080/"
        },
        "id": "oS09SSPR0wZB",
        "outputId": "20408475-3909-4e3e-f591-2568a3eb8f4e"
      },
      "execution_count": 30,
      "outputs": [
        {
          "output_type": "stream",
          "name": "stdout",
          "text": [
            "The original list is (100, 200, 400, 500, 700, 800, 900)\n",
            "The reversed list ids [900, 800, 700, 500, 400, 200, 100]\n"
          ]
        }
      ]
    },
    {
      "cell_type": "code",
      "source": [
        "# USe of reversed\n",
        "list2 = (1,2,4,5,6,78)\n",
        "list(reversed(list2))"
      ],
      "metadata": {
        "colab": {
          "base_uri": "https://localhost:8080/"
        },
        "id": "TP2QPxoL5uW3",
        "outputId": "32104f42-aa38-4231-8585-546aac3dff7b"
      },
      "execution_count": 38,
      "outputs": [
        {
          "output_type": "execute_result",
          "data": {
            "text/plain": [
              "[78, 6, 5, 4, 2, 1]"
            ]
          },
          "metadata": {},
          "execution_count": 38
        }
      ]
    },
    {
      "cell_type": "code",
      "source": [
        "type(reversed(list2))"
      ],
      "metadata": {
        "colab": {
          "base_uri": "https://localhost:8080/"
        },
        "id": "RRAeJ0R25-0Y",
        "outputId": "220dc377-10cf-4284-bdb0-57dfed00bde8"
      },
      "execution_count": 35,
      "outputs": [
        {
          "output_type": "execute_result",
          "data": {
            "text/plain": [
              "reversed"
            ]
          },
          "metadata": {},
          "execution_count": 35
        }
      ]
    },
    {
      "cell_type": "code",
      "source": [
        "l = [78, 6, 5, 4, 2, 1]\n",
        "s = reversed(l)\n",
        "type(s)"
      ],
      "metadata": {
        "colab": {
          "base_uri": "https://localhost:8080/"
        },
        "id": "CixH9tA26ZVY",
        "outputId": "154665cd-9867-47fc-9e4d-93629b549342"
      },
      "execution_count": 37,
      "outputs": [
        {
          "output_type": "execute_result",
          "data": {
            "text/plain": [
              "list_reverseiterator"
            ]
          },
          "metadata": {},
          "execution_count": 37
        }
      ]
    },
    {
      "cell_type": "markdown",
      "source": [
        "# Question: Write a function calculate_power that takes two parameters (base and exponent) and returns the result of raising the base to the exponent. Test the function with different values."
      ],
      "metadata": {
        "id": "wd4o9iUr6_Oo"
      }
    },
    {
      "cell_type": "code",
      "source": [
        "#To check the list of all keywords\n",
        "import keyword\n",
        "\n",
        "print(keyword.kwlist)\n"
      ],
      "metadata": {
        "colab": {
          "base_uri": "https://localhost:8080/"
        },
        "id": "m03pmwbv6oBw",
        "outputId": "c66d2184-18eb-41b6-c73c-9d253899d405"
      },
      "execution_count": 39,
      "outputs": [
        {
          "output_type": "stream",
          "name": "stdout",
          "text": [
            "['False', 'None', 'True', 'and', 'as', 'assert', 'async', 'await', 'break', 'class', 'continue', 'def', 'del', 'elif', 'else', 'except', 'finally', 'for', 'from', 'global', 'if', 'import', 'in', 'is', 'lambda', 'nonlocal', 'not', 'or', 'pass', 'raise', 'return', 'try', 'while', 'with', 'yield']\n"
          ]
        }
      ]
    },
    {
      "cell_type": "code",
      "source": [
        "def calculate_power(base, exponent):\n",
        "  calculate_power = base**exponent\n",
        "  return calculate_power\n"
      ],
      "metadata": {
        "id": "fk54YeVU7azo"
      },
      "execution_count": 40,
      "outputs": []
    },
    {
      "cell_type": "code",
      "source": [
        "calculate_power(2,4)"
      ],
      "metadata": {
        "colab": {
          "base_uri": "https://localhost:8080/"
        },
        "id": "EeeeEvZDL_Xn",
        "outputId": "f1819a43-dbd6-4014-f9ce-bc5c99100540"
      },
      "execution_count": 41,
      "outputs": [
        {
          "output_type": "execute_result",
          "data": {
            "text/plain": [
              "16"
            ]
          },
          "metadata": {},
          "execution_count": 41
        }
      ]
    },
    {
      "cell_type": "markdown",
      "source": [
        "# Question: Create a function named is_palindrome that takes a string as a parameter and returns True if it's a palindrome (reads the same backward as forward) and False otherwise. Test the function with different strings."
      ],
      "metadata": {
        "id": "lGOyzUbEMIpu"
      }
    },
    {
      "cell_type": "code",
      "source": [
        "def is_palindrome(input_string):\n",
        "    # Remove spaces and convert to lowercase for case-insensitive comparison\n",
        "    cleaned_string = ''.join(input_string.split()).lower()\n",
        "    return cleaned_string == cleaned_string[::-1]\n",
        "\n",
        "# Testing the function with different strings\n",
        "result1 = is_palindrome(\"radar\")\n",
        "print(f\"'radar' is a palindrome: {result1}\")\n",
        "\n",
        "result2 = is_palindrome(\"Python\")\n",
        "print(f\"'Python' is a palindrome: {result2}\")\n",
        "\n",
        "result3 = is_palindrome(\"A man a plan a canal Panama\")\n",
        "print(f\"'A man a plan a canal Panama' is a palindrome: {result3}\")\n"
      ],
      "metadata": {
        "colab": {
          "base_uri": "https://localhost:8080/"
        },
        "id": "3Hq_3MTaP-de",
        "outputId": "bb0ebb29-0fbb-4be1-8e3d-fdc5f9c13e23"
      },
      "execution_count": 44,
      "outputs": [
        {
          "output_type": "stream",
          "name": "stdout",
          "text": [
            "'radar' is a palindrome: True\n",
            "'Python' is a palindrome: False\n",
            "'A man a plan a canal Panama' is a palindrome: True\n"
          ]
        }
      ]
    },
    {
      "cell_type": "markdown",
      "source": [
        "## Questions on function"
      ],
      "metadata": {
        "id": "-H0nQSD_QEUl"
      }
    },
    {
      "cell_type": "markdown",
      "source": [
        "# Question: Create a Python class named Person with attributes name and age. Include a method called greet that prints a greeting message. Instantiate an object of this class and call the greet method."
      ],
      "metadata": {
        "id": "2b-LDPk9QII-"
      }
    },
    {
      "cell_type": "code",
      "source": [
        "class Person:\n",
        "  def __init__(self,name,age):\n",
        "    self.name = name\n",
        "    self.age = age\n",
        "\n",
        "  def greet(self):\n",
        "    print(f\"Hi I am {self.name } and I am {self.age} Year's old\")\n",
        "\n",
        "class_initiate = Person(\"Vaibhav\",29)\n",
        "class_initiate.greet()"
      ],
      "metadata": {
        "colab": {
          "base_uri": "https://localhost:8080/"
        },
        "id": "Z8H1PB6-QHOK",
        "outputId": "ebeb5bec-4997-4d2d-e5b5-706d8ff64558"
      },
      "execution_count": 49,
      "outputs": [
        {
          "output_type": "stream",
          "name": "stdout",
          "text": [
            "Hi I am Vaibhav and I am 29 Year's old\n"
          ]
        }
      ]
    },
    {
      "cell_type": "markdown",
      "source": [
        "# Question: Extend the Person class from the previous question to include a method called have_birthday that increments the age attribute by 1. Create an instance, print the initial age, call have_birthday, and print the updated age."
      ],
      "metadata": {
        "id": "wASHL462TNcx"
      }
    },
    {
      "cell_type": "code",
      "source": [
        "class Person:\n",
        "    def __init__(self, name, age):\n",
        "        self.name = name\n",
        "        self.age = age\n",
        "\n",
        "    def greet(self):\n",
        "        print(f\"Hello, my name is {self.name} and I am {self.age} years old.\")\n",
        "\n",
        "    def have_birthday(self):\n",
        "        self.age += 1\n",
        "        print(f\"Happy Birthday! {self.name} is now {self.age} years old.\")\n",
        "\n",
        "# Instantiate an object of the Person class\n",
        "person_instance = Person(\"John\", 25)\n",
        "\n",
        "# Print the initial age\n",
        "print(f\"Initial Age: {person_instance.age}\")\n",
        "\n",
        "# Call have_birthday method\n",
        "person_instance.have_birthday()\n",
        "\n",
        "# Print the updated age\n",
        "print(f\"Updated Age: {person_instance.age}\")\n"
      ],
      "metadata": {
        "colab": {
          "base_uri": "https://localhost:8080/"
        },
        "id": "OspB1v_3SxrC",
        "outputId": "7d18bc0d-0403-4730-e4e9-f2e4b895c359"
      },
      "execution_count": 63,
      "outputs": [
        {
          "output_type": "stream",
          "name": "stdout",
          "text": [
            "Initial Age: 25\n",
            "Happy Birthday! John is now 26 years old.\n",
            "Updated Age: 26\n"
          ]
        }
      ]
    },
    {
      "cell_type": "markdown",
      "source": [
        "# Question: Implement a class named Student that inherits from the Person class. Add a new attribute grade to the Student class. Instantiate a Student object and demonstrate the use of both the greet method from the Person class and the new grade attribute."
      ],
      "metadata": {
        "id": "hAW8bDMBZu-V"
      }
    },
    {
      "cell_type": "code",
      "source": [
        "class Person:\n",
        "    def __init__(self, name, age):\n",
        "        self.name = name\n",
        "        self.age = age\n",
        "\n",
        "    def greet(self):\n",
        "        print(f\"Hello, my name is {self.name} and I am {self.age} years old.\")\n",
        "\n",
        "class Student(Person):\n",
        "    def __init__(self, name, age, grade):\n",
        "        # Call the constructor of the base class (Person)\n",
        "        super().__init__(name, age)\n",
        "        self.grade = grade\n",
        "\n",
        "# Instantiate a Student object\n",
        "student_instance = Student(\"Alice\", 20, \"A\")\n",
        "\n",
        "# Call the greet method from the Person class\n",
        "student_instance.greet()\n",
        "\n",
        "# Access the new grade attribute\n",
        "print(f\"Grade: {student_instance.grade}\")\n"
      ],
      "metadata": {
        "colab": {
          "base_uri": "https://localhost:8080/"
        },
        "id": "4oJziuYAV_4m",
        "outputId": "cdbca108-711b-4d96-a11c-c295507b26e7"
      },
      "execution_count": 64,
      "outputs": [
        {
          "output_type": "stream",
          "name": "stdout",
          "text": [
            "Hello, my name is Alice and I am 20 years old.\n",
            "Grade: A\n"
          ]
        }
      ]
    }
  ]
}