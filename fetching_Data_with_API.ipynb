{
 "cells": [
  {
   "cell_type": "markdown",
   "id": "2f912e6d",
   "metadata": {},
   "source": [
    "What is API?\n",
    "API refers to Application Programming Interface, is a set of rules and tools that allows different software applications to communicate with each other.\n",
    "APIs are used to enable the integration of different software systems, allowing them to work together and share data seamlessly.\n",
    "Using APIs, we can create more modular and extensible software applications by leveraging the functionality and services provided by different systems."
   ]
  },
  {
   "cell_type": "code",
   "execution_count": 19,
   "id": "fed17af7",
   "metadata": {},
   "outputs": [],
   "source": [
    "#import numpy as np\n",
    "import pandas as pd\n",
    "import requests # Built-in in anaconda already"
   ]
  },
  {
   "cell_type": "code",
   "execution_count": 15,
   "id": "7671531e",
   "metadata": {},
   "outputs": [],
   "source": [
    "response = requests.get('https://api.themoviedb.org/3/movie/top_rated?api_key=41bec153ecce6d5d08e557ea56c49815&language=en-US&page=1')"
   ]
  },
  {
   "cell_type": "code",
   "execution_count": 25,
   "id": "ae26edb5",
   "metadata": {},
   "outputs": [],
   "source": [
    "df = pd.DataFrame(response.json()['results'])[['id','title','overview','release_date','popularity','vote_average','vote_count']]"
   ]
  },
  {
   "cell_type": "code",
   "execution_count": 38,
   "id": "e6d4420a",
   "metadata": {},
   "outputs": [
    {
     "data": {
      "text/plain": [
       "(160, 7)"
      ]
     },
     "execution_count": 38,
     "metadata": {},
     "output_type": "execute_result"
    }
   ],
   "source": [
    "df.shape"
   ]
  },
  {
   "cell_type": "code",
   "execution_count": 29,
   "id": "0be5993f",
   "metadata": {},
   "outputs": [
    {
     "data": {
      "text/html": [
       "<div>\n",
       "<style scoped>\n",
       "    .dataframe tbody tr th:only-of-type {\n",
       "        vertical-align: middle;\n",
       "    }\n",
       "\n",
       "    .dataframe tbody tr th {\n",
       "        vertical-align: top;\n",
       "    }\n",
       "\n",
       "    .dataframe thead th {\n",
       "        text-align: right;\n",
       "    }\n",
       "</style>\n",
       "<table border=\"1\" class=\"dataframe\">\n",
       "  <thead>\n",
       "    <tr style=\"text-align: right;\">\n",
       "      <th></th>\n",
       "      <th>id</th>\n",
       "      <th>title</th>\n",
       "      <th>overview</th>\n",
       "      <th>release_date</th>\n",
       "      <th>popularity</th>\n",
       "      <th>vote_average</th>\n",
       "      <th>vote_count</th>\n",
       "    </tr>\n",
       "  </thead>\n",
       "  <tbody>\n",
       "    <tr>\n",
       "      <th>35</th>\n",
       "      <td>769</td>\n",
       "      <td>GoodFellas</td>\n",
       "      <td>The true story of Henry Hill, a half-Irish, ha...</td>\n",
       "      <td>1990-09-12</td>\n",
       "      <td>53.334</td>\n",
       "      <td>8.468</td>\n",
       "      <td>12112</td>\n",
       "    </tr>\n",
       "    <tr>\n",
       "      <th>36</th>\n",
       "      <td>346</td>\n",
       "      <td>Seven Samurai</td>\n",
       "      <td>A samurai answers a village's request for prot...</td>\n",
       "      <td>1954-04-26</td>\n",
       "      <td>35.869</td>\n",
       "      <td>8.500</td>\n",
       "      <td>3374</td>\n",
       "    </tr>\n",
       "    <tr>\n",
       "      <th>37</th>\n",
       "      <td>12477</td>\n",
       "      <td>Grave of the Fireflies</td>\n",
       "      <td>In the final months of World War II, 14-year-o...</td>\n",
       "      <td>1988-04-15</td>\n",
       "      <td>0.600</td>\n",
       "      <td>8.457</td>\n",
       "      <td>5068</td>\n",
       "    </tr>\n",
       "    <tr>\n",
       "      <th>38</th>\n",
       "      <td>637</td>\n",
       "      <td>Life Is Beautiful</td>\n",
       "      <td>A touching story of an Italian book seller of ...</td>\n",
       "      <td>1997-12-20</td>\n",
       "      <td>39.382</td>\n",
       "      <td>8.455</td>\n",
       "      <td>12523</td>\n",
       "    </tr>\n",
       "    <tr>\n",
       "      <th>39</th>\n",
       "      <td>11216</td>\n",
       "      <td>Cinema Paradiso</td>\n",
       "      <td>A filmmaker recalls his childhood, when he fel...</td>\n",
       "      <td>1988-11-17</td>\n",
       "      <td>33.125</td>\n",
       "      <td>8.450</td>\n",
       "      <td>4093</td>\n",
       "    </tr>\n",
       "  </tbody>\n",
       "</table>\n",
       "</div>"
      ],
      "text/plain": [
       "       id                   title  \\\n",
       "35    769              GoodFellas   \n",
       "36    346           Seven Samurai   \n",
       "37  12477  Grave of the Fireflies   \n",
       "38    637       Life Is Beautiful   \n",
       "39  11216         Cinema Paradiso   \n",
       "\n",
       "                                             overview release_date  \\\n",
       "35  The true story of Henry Hill, a half-Irish, ha...   1990-09-12   \n",
       "36  A samurai answers a village's request for prot...   1954-04-26   \n",
       "37  In the final months of World War II, 14-year-o...   1988-04-15   \n",
       "38  A touching story of an Italian book seller of ...   1997-12-20   \n",
       "39  A filmmaker recalls his childhood, when he fel...   1988-11-17   \n",
       "\n",
       "    popularity  vote_average  vote_count  \n",
       "35      53.334         8.468       12112  \n",
       "36      35.869         8.500        3374  \n",
       "37       0.600         8.457        5068  \n",
       "38      39.382         8.455       12523  \n",
       "39      33.125         8.450        4093  "
      ]
     },
     "execution_count": 29,
     "metadata": {},
     "output_type": "execute_result"
    }
   ],
   "source": [
    "df.tail()"
   ]
  },
  {
   "cell_type": "code",
   "execution_count": 34,
   "id": "87b2683e",
   "metadata": {},
   "outputs": [],
   "source": [
    "# To fetch the whole data for 457 sheets we will have to iterate though this code.\n",
    "#for i in range(1,429):\n",
    "    #response = requests.get('https://api.themoviedb.org/3/movie/top_rated?api_key=41bec153ecce6d5d08e557ea56c49815&language=en-US&page={}'.format(i))\n",
    "    #temp_df = pd.DataFrame(response.json()['results'])[['id','title','overview','release_date','popularity','vote_average','vote_count']]\n",
    "    #df = df.append(temp_df,ignore_index=True)"
   ]
  },
  {
   "cell_type": "code",
   "execution_count": 37,
   "id": "690bc5f5",
   "metadata": {},
   "outputs": [
    {
     "data": {
      "text/html": [
       "<div>\n",
       "<style scoped>\n",
       "    .dataframe tbody tr th:only-of-type {\n",
       "        vertical-align: middle;\n",
       "    }\n",
       "\n",
       "    .dataframe tbody tr th {\n",
       "        vertical-align: top;\n",
       "    }\n",
       "\n",
       "    .dataframe thead th {\n",
       "        text-align: right;\n",
       "    }\n",
       "</style>\n",
       "<table border=\"1\" class=\"dataframe\">\n",
       "  <thead>\n",
       "    <tr style=\"text-align: right;\">\n",
       "      <th></th>\n",
       "      <th>id</th>\n",
       "      <th>title</th>\n",
       "      <th>overview</th>\n",
       "      <th>release_date</th>\n",
       "      <th>popularity</th>\n",
       "      <th>vote_average</th>\n",
       "      <th>vote_count</th>\n",
       "    </tr>\n",
       "  </thead>\n",
       "  <tbody>\n",
       "    <tr>\n",
       "      <th>155</th>\n",
       "      <td>769</td>\n",
       "      <td>GoodFellas</td>\n",
       "      <td>The true story of Henry Hill, a half-Irish, ha...</td>\n",
       "      <td>1990-09-12</td>\n",
       "      <td>53.334</td>\n",
       "      <td>8.468</td>\n",
       "      <td>12112</td>\n",
       "    </tr>\n",
       "    <tr>\n",
       "      <th>156</th>\n",
       "      <td>346</td>\n",
       "      <td>Seven Samurai</td>\n",
       "      <td>A samurai answers a village's request for prot...</td>\n",
       "      <td>1954-04-26</td>\n",
       "      <td>35.869</td>\n",
       "      <td>8.500</td>\n",
       "      <td>3374</td>\n",
       "    </tr>\n",
       "    <tr>\n",
       "      <th>157</th>\n",
       "      <td>12477</td>\n",
       "      <td>Grave of the Fireflies</td>\n",
       "      <td>In the final months of World War II, 14-year-o...</td>\n",
       "      <td>1988-04-15</td>\n",
       "      <td>0.600</td>\n",
       "      <td>8.457</td>\n",
       "      <td>5068</td>\n",
       "    </tr>\n",
       "    <tr>\n",
       "      <th>158</th>\n",
       "      <td>637</td>\n",
       "      <td>Life Is Beautiful</td>\n",
       "      <td>A touching story of an Italian book seller of ...</td>\n",
       "      <td>1997-12-20</td>\n",
       "      <td>39.382</td>\n",
       "      <td>8.455</td>\n",
       "      <td>12523</td>\n",
       "    </tr>\n",
       "    <tr>\n",
       "      <th>159</th>\n",
       "      <td>11216</td>\n",
       "      <td>Cinema Paradiso</td>\n",
       "      <td>A filmmaker recalls his childhood, when he fel...</td>\n",
       "      <td>1988-11-17</td>\n",
       "      <td>33.125</td>\n",
       "      <td>8.450</td>\n",
       "      <td>4093</td>\n",
       "    </tr>\n",
       "  </tbody>\n",
       "</table>\n",
       "</div>"
      ],
      "text/plain": [
       "        id                   title  \\\n",
       "155    769              GoodFellas   \n",
       "156    346           Seven Samurai   \n",
       "157  12477  Grave of the Fireflies   \n",
       "158    637       Life Is Beautiful   \n",
       "159  11216         Cinema Paradiso   \n",
       "\n",
       "                                              overview release_date  \\\n",
       "155  The true story of Henry Hill, a half-Irish, ha...   1990-09-12   \n",
       "156  A samurai answers a village's request for prot...   1954-04-26   \n",
       "157  In the final months of World War II, 14-year-o...   1988-04-15   \n",
       "158  A touching story of an Italian book seller of ...   1997-12-20   \n",
       "159  A filmmaker recalls his childhood, when he fel...   1988-11-17   \n",
       "\n",
       "     popularity  vote_average  vote_count  \n",
       "155      53.334         8.468       12112  \n",
       "156      35.869         8.500        3374  \n",
       "157       0.600         8.457        5068  \n",
       "158      39.382         8.455       12523  \n",
       "159      33.125         8.450        4093  "
      ]
     },
     "execution_count": 37,
     "metadata": {},
     "output_type": "execute_result"
    }
   ],
   "source": [
    "df.tail()"
   ]
  },
  {
   "cell_type": "code",
   "execution_count": 39,
   "id": "45cc7b51",
   "metadata": {},
   "outputs": [],
   "source": [
    "df.to_csv('movies.csv')"
   ]
  },
  {
   "cell_type": "code",
   "execution_count": null,
   "id": "894e9a34",
   "metadata": {},
   "outputs": [],
   "source": []
  }
 ],
 "metadata": {
  "kernelspec": {
   "display_name": "Python 3 (ipykernel)",
   "language": "python",
   "name": "python3"
  },
  "language_info": {
   "codemirror_mode": {
    "name": "ipython",
    "version": 3
   },
   "file_extension": ".py",
   "mimetype": "text/x-python",
   "name": "python",
   "nbconvert_exporter": "python",
   "pygments_lexer": "ipython3",
   "version": "3.9.12"
  }
 },
 "nbformat": 4,
 "nbformat_minor": 5
}
